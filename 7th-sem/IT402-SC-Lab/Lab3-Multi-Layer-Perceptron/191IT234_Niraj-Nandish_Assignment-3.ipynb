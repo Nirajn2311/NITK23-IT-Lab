{
  "cells": [
    {
      "cell_type": "markdown",
      "metadata": {
        "id": "0HwkDxIEvveE"
      },
      "source": [
        "# IT 402\n",
        "\n",
        "## Assignment 3 - Multi Layer Perceptron\n",
        "\n",
        "### Name: Niraj Nandish\n",
        "\n",
        "### Roll no.: 191IT234\n"
      ]
    },
    {
      "cell_type": "code",
      "execution_count": 1,
      "metadata": {
        "id": "SakAJeALZJuA"
      },
      "outputs": [],
      "source": [
        "import math\n",
        "import numpy as np\n",
        "import pandas as pd\n",
        "import seaborn as sn\n",
        "from csv import reader\n",
        "from random import seed\n",
        "from random import randrange\n",
        "import matplotlib.pyplot as plt\n",
        "from sklearn import preprocessing, datasets\n",
        "from sklearn.preprocessing import OneHotEncoder\n",
        "from sklearn.model_selection import KFold\n",
        "from sklearn.metrics import confusion_matrix\n",
        "from sklearn.metrics import precision_score, recall_score, f1_score, accuracy_score\n",
        "import warnings\n",
        "\n",
        "warnings.filterwarnings(\"ignore\")\n",
        "np.random.seed(0)\n"
      ]
    },
    {
      "cell_type": "code",
      "execution_count": 2,
      "metadata": {
        "colab": {
          "base_uri": "https://localhost:8080/"
        },
        "id": "4C57hG0Rsg6-",
        "outputId": "ecfd5dfa-ceba-4490-df16-3fa85ef79eea"
      },
      "outputs": [
        {
          "name": "stdout",
          "output_type": "stream",
          "text": [
            "--2022-09-10 18:56:32--  https://archive.ics.uci.edu/ml/machine-learning-databases/spect/SPECT.train\n",
            "Resolving archive.ics.uci.edu (archive.ics.uci.edu)... 128.195.10.252\n",
            "Connecting to archive.ics.uci.edu (archive.ics.uci.edu)|128.195.10.252|:443... connected.\n",
            "HTTP request sent, awaiting response... 200 OK\n",
            "Length: 3758 (3.7K) [application/x-httpd-php]\n",
            "Saving to: ‘SPECT.train’\n",
            "\n",
            "SPECT.train         100%[===================>]   3.67K  --.-KB/s    in 0s      \n",
            "\n",
            "2022-09-10 18:56:34 (33.2 MB/s) - ‘SPECT.train’ saved [3758/3758]\n",
            "\n"
          ]
        }
      ],
      "source": [
        "!rm -rf SPECT.train\n",
        "!wget https://archive.ics.uci.edu/ml/machine-learning-databases/spect/SPECT.train"
      ]
    },
    {
      "cell_type": "code",
      "execution_count": 3,
      "metadata": {
        "id": "nQK-GbVYhCqN"
      },
      "outputs": [],
      "source": [
        "def sigmoid(z):\n",
        "    return 1 / (1 + np.exp(-z))\n",
        "\n",
        "\n",
        "def loss(y, y_hat):\n",
        "    minval = 0.000000000001\n",
        "    m = y.shape[0]\n",
        "    loss = -1 / m * np.sum(y * np.log(y_hat.clip(min=minval)))\n",
        "    return loss\n",
        "\n",
        "\n",
        "def sigmoid_derivative(z):\n",
        "    return z * (1 - z)\n",
        "\n",
        "\n",
        "def loss_derivative(y, y_hat):\n",
        "    return y_hat - y\n",
        "\n",
        "\n",
        "def tanh_derivative(x):\n",
        "    return 1 - np.power(x, 2)\n",
        "\n",
        "\n",
        "def calc_accuracy(model, x, y):\n",
        "    m = y.shape[0]\n",
        "    pred = predict(model, x)\n",
        "    pred = pred.reshape(y.shape)\n",
        "    error = np.sum(np.abs(pred - y))\n",
        "    return (m - error) / m * 100\n"
      ]
    },
    {
      "cell_type": "code",
      "execution_count": 4,
      "metadata": {
        "id": "tuzMSmzGaLGh"
      },
      "outputs": [],
      "source": [
        "def forward_prop(model, a0):\n",
        "    W1, b1, W2, b2, W3, b3, W4, b4 = (\n",
        "        model[\"W1\"],\n",
        "        model[\"b1\"],\n",
        "        model[\"W2\"],\n",
        "        model[\"b2\"],\n",
        "        model[\"W3\"],\n",
        "        model[\"b3\"],\n",
        "        model[\"W4\"],\n",
        "        model[\"b4\"],\n",
        "    )\n",
        "    z1 = a0.dot(W1) + b1\n",
        "    a1 = np.tanh(z1)\n",
        "    z2 = a1.dot(W2) + b2\n",
        "    a2 = np.tanh(z2)\n",
        "    z3 = a2.dot(W3) + b3\n",
        "    a3 = np.tanh(z3)\n",
        "    z4 = a3.dot(W4) + b4\n",
        "    a4 = sigmoid(z4)\n",
        "    cache = {\n",
        "        \"a0\": a0,\n",
        "        \"z1\": z1,\n",
        "        \"a1\": a1,\n",
        "        \"z2\": z2,\n",
        "        \"a2\": a2,\n",
        "        \"a3\": a3,\n",
        "        \"z3\": z3,\n",
        "        \"a4\": a4,\n",
        "        \"z4\": z4,\n",
        "    }\n",
        "    return cache\n",
        "\n",
        "\n",
        "def backward_prop(model, cache, y):\n",
        "    W1, b1, W2, b2, W3, b3, W4, b4 = (\n",
        "        model[\"W1\"],\n",
        "        model[\"b1\"],\n",
        "        model[\"W2\"],\n",
        "        model[\"b2\"],\n",
        "        model[\"W3\"],\n",
        "        model[\"b3\"],\n",
        "        model[\"W4\"],\n",
        "        model[\"b4\"],\n",
        "    )\n",
        "    a0, a1, a2, a3, a4 = cache[\"a0\"], cache[\"a1\"], cache[\"a2\"], cache[\"a3\"], cache[\"a4\"]\n",
        "    m = y.shape[0]\n",
        "    dz4 = np.multiply(loss_derivative(y=y, y_hat=a4), sigmoid_derivative(a4))\n",
        "    dW4 = 1 / m * (a3.T).dot(dz4)\n",
        "    db4 = 1 / m * np.sum(dz4, axis=0)\n",
        "    dz3 = np.multiply(dz4.dot(W4.T), tanh_derivative(a3))\n",
        "    dW3 = 1 / m * np.dot(a2.T, dz3)\n",
        "    db3 = 1 / m * np.sum(dz3, axis=0)\n",
        "    dz2 = np.multiply(dz3.dot(W3.T), tanh_derivative(a2))\n",
        "    dW2 = 1 / m * np.dot(a1.T, dz2)\n",
        "    db2 = 1 / m * np.sum(dz2, axis=0)\n",
        "    dz1 = np.multiply(dz2.dot(W2.T), tanh_derivative(a1))\n",
        "    dW1 = 1 / m * np.dot(a0.T, dz1)\n",
        "    db1 = 1 / m * np.sum(dz1, axis=0)\n",
        "    grads = {\n",
        "        \"dW4\": dW4,\n",
        "        \"db4\": db4,\n",
        "        \"dW3\": dW3,\n",
        "        \"db3\": db3,\n",
        "        \"dW2\": dW2,\n",
        "        \"db2\": db2,\n",
        "        \"dW1\": dW1,\n",
        "        \"db1\": db1,\n",
        "    }\n",
        "    return grads\n",
        "\n",
        "\n",
        "def update_parameters(model, grads, learning_rate):\n",
        "    W1, b1, W2, b2, W3, b3, W4, b4 = (\n",
        "        model[\"W1\"],\n",
        "        model[\"b1\"],\n",
        "        model[\"W2\"],\n",
        "        model[\"b2\"],\n",
        "        model[\"W3\"],\n",
        "        model[\"b3\"],\n",
        "        model[\"W4\"],\n",
        "        model[\"b4\"],\n",
        "    )\n",
        "    W1 -= learning_rate * grads[\"dW1\"]\n",
        "    b1 -= learning_rate * grads[\"db1\"]\n",
        "    W2 -= learning_rate * grads[\"dW2\"]\n",
        "    b2 -= learning_rate * grads[\"db2\"]\n",
        "    W3 -= learning_rate * grads[\"dW3\"]\n",
        "    b3 -= learning_rate * grads[\"db3\"]\n",
        "    W4 -= learning_rate * grads[\"dW4\"]\n",
        "    b4 -= learning_rate * grads[\"db4\"]\n",
        "    model = {\n",
        "        \"W1\": W1,\n",
        "        \"b1\": b1,\n",
        "        \"W2\": W2,\n",
        "        \"b2\": b2,\n",
        "        \"W3\": W3,\n",
        "        \"b3\": b3,\n",
        "        \"W4\": W4,\n",
        "        \"b4\": b4,\n",
        "    }\n",
        "    return model\n"
      ]
    },
    {
      "cell_type": "code",
      "execution_count": 5,
      "metadata": {
        "id": "TJKCqsKJhb9l"
      },
      "outputs": [],
      "source": [
        "def initialize_parameters(nn_input_dim, nn_hdim, nn_output_dim):\n",
        "    W1 = np.random.randn(nn_input_dim, nn_hdim[0])\n",
        "    b1 = np.zeros((1, nn_hdim[0]))\n",
        "    W2 = np.random.randn(nn_hdim[0], nn_hdim[1])\n",
        "    b2 = np.zeros((1, nn_hdim[1]))\n",
        "    W3 = np.random.randn(nn_hdim[1], nn_hdim[2])\n",
        "    b3 = np.zeros((1, nn_hdim[2]))\n",
        "    W4 = np.random.rand(nn_hdim[2], nn_output_dim)\n",
        "    b4 = np.zeros((1, nn_output_dim))\n",
        "    model = {\n",
        "        \"W1\": W1,\n",
        "        \"b1\": b1,\n",
        "        \"W2\": W2,\n",
        "        \"b2\": b2,\n",
        "        \"W3\": W3,\n",
        "        \"b3\": b3,\n",
        "        \"W4\": W4,\n",
        "        \"b4\": b4,\n",
        "    }\n",
        "    return model\n"
      ]
    },
    {
      "cell_type": "code",
      "execution_count": 6,
      "metadata": {
        "id": "tA5-R_35kBpe"
      },
      "outputs": [],
      "source": [
        "def predict(model, x):\n",
        "    c = forward_prop(model, x)\n",
        "    y_hat = np.argmax(c[\"a4\"], axis=1)\n",
        "    return y_hat\n",
        "\n",
        "\n",
        "def train(model, X_, y_, learning_rate, epochs=1000, print_loss=False):\n",
        "    for i in range(0, epochs):\n",
        "        cache = forward_prop(model, X_)\n",
        "        grads = backward_prop(model, cache, y_)\n",
        "        model = update_parameters(model=model, grads=grads, learning_rate=learning_rate)\n",
        "    return model\n",
        "\n",
        "\n",
        "def evaluate_algorithm(dataset, n_folds, l_rate, in_dim, hid_dim, out_dim):\n",
        "    kf = KFold(n_splits=n_folds, random_state=None, shuffle=True)\n",
        "    scores = list()\n",
        "    f = 1\n",
        "    for train_index, test_index in kf.split(dataset):\n",
        "        print(\"\\nFold {}\".format(f))\n",
        "        f += 1\n",
        "        df_train, df_test = dataset[train_index], dataset[test_index]\n",
        "        df_train = pd.DataFrame(df_train)\n",
        "        df_test = pd.DataFrame(df_test)\n",
        "        train_Y = pd.get_dummies(df_train.iloc[:, -1]).values\n",
        "        train_X = df_train.iloc[:, :-1].values\n",
        "        test_Y = pd.get_dummies(df_test.iloc[:, -1]).values\n",
        "        test_X = df_test.iloc[:, :-1].values\n",
        "        model = initialize_parameters(\n",
        "            nn_input_dim=in_dim, nn_hdim=hid_dim, nn_output_dim=out_dim\n",
        "        )\n",
        "        model = train(\n",
        "            model, train_X, train_Y, learning_rate=l_rate, epochs=4500, print_loss=True\n",
        "        )\n",
        "        y_hat = predict(model, test_X)\n",
        "        y_true = test_Y.argmax(axis=1)\n",
        "        accuracy = accuracy_score(y_pred=y_hat, y_true=y_true) * 100\n",
        "        print(\"Accuracy = {}\".format(accuracy))\n",
        "        scores.append(accuracy)\n",
        "    return scores\n"
      ]
    },
    {
      "cell_type": "markdown",
      "metadata": {
        "id": "PJACMgn0uhes"
      },
      "source": [
        "# SPECTF Dataset\n"
      ]
    },
    {
      "cell_type": "code",
      "execution_count": 7,
      "metadata": {
        "colab": {
          "base_uri": "https://localhost:8080/",
          "height": 235
        },
        "id": "keq7AtpXsmA5",
        "outputId": "95705c66-a260-467b-cf36-23a802e62000"
      },
      "outputs": [
        {
          "data": {
            "text/html": [
              "<div>\n",
              "<style scoped>\n",
              "    .dataframe tbody tr th:only-of-type {\n",
              "        vertical-align: middle;\n",
              "    }\n",
              "\n",
              "    .dataframe tbody tr th {\n",
              "        vertical-align: top;\n",
              "    }\n",
              "\n",
              "    .dataframe thead th {\n",
              "        text-align: right;\n",
              "    }\n",
              "</style>\n",
              "<table border=\"1\" class=\"dataframe\">\n",
              "  <thead>\n",
              "    <tr style=\"text-align: right;\">\n",
              "      <th></th>\n",
              "      <th>0</th>\n",
              "      <th>1</th>\n",
              "      <th>2</th>\n",
              "      <th>3</th>\n",
              "      <th>4</th>\n",
              "      <th>5</th>\n",
              "      <th>6</th>\n",
              "      <th>7</th>\n",
              "      <th>8</th>\n",
              "      <th>9</th>\n",
              "      <th>...</th>\n",
              "      <th>13</th>\n",
              "      <th>14</th>\n",
              "      <th>15</th>\n",
              "      <th>16</th>\n",
              "      <th>17</th>\n",
              "      <th>18</th>\n",
              "      <th>19</th>\n",
              "      <th>20</th>\n",
              "      <th>21</th>\n",
              "      <th>22</th>\n",
              "    </tr>\n",
              "  </thead>\n",
              "  <tbody>\n",
              "    <tr>\n",
              "      <th>0</th>\n",
              "      <td>1</td>\n",
              "      <td>0</td>\n",
              "      <td>0</td>\n",
              "      <td>0</td>\n",
              "      <td>1</td>\n",
              "      <td>0</td>\n",
              "      <td>0</td>\n",
              "      <td>0</td>\n",
              "      <td>1</td>\n",
              "      <td>1</td>\n",
              "      <td>...</td>\n",
              "      <td>1</td>\n",
              "      <td>1</td>\n",
              "      <td>0</td>\n",
              "      <td>0</td>\n",
              "      <td>0</td>\n",
              "      <td>0</td>\n",
              "      <td>0</td>\n",
              "      <td>0</td>\n",
              "      <td>0</td>\n",
              "      <td>0</td>\n",
              "    </tr>\n",
              "    <tr>\n",
              "      <th>1</th>\n",
              "      <td>1</td>\n",
              "      <td>0</td>\n",
              "      <td>0</td>\n",
              "      <td>1</td>\n",
              "      <td>1</td>\n",
              "      <td>0</td>\n",
              "      <td>0</td>\n",
              "      <td>0</td>\n",
              "      <td>1</td>\n",
              "      <td>1</td>\n",
              "      <td>...</td>\n",
              "      <td>1</td>\n",
              "      <td>1</td>\n",
              "      <td>0</td>\n",
              "      <td>0</td>\n",
              "      <td>0</td>\n",
              "      <td>0</td>\n",
              "      <td>0</td>\n",
              "      <td>0</td>\n",
              "      <td>0</td>\n",
              "      <td>1</td>\n",
              "    </tr>\n",
              "    <tr>\n",
              "      <th>2</th>\n",
              "      <td>1</td>\n",
              "      <td>1</td>\n",
              "      <td>0</td>\n",
              "      <td>1</td>\n",
              "      <td>0</td>\n",
              "      <td>1</td>\n",
              "      <td>0</td>\n",
              "      <td>0</td>\n",
              "      <td>1</td>\n",
              "      <td>0</td>\n",
              "      <td>...</td>\n",
              "      <td>1</td>\n",
              "      <td>0</td>\n",
              "      <td>0</td>\n",
              "      <td>0</td>\n",
              "      <td>0</td>\n",
              "      <td>0</td>\n",
              "      <td>0</td>\n",
              "      <td>0</td>\n",
              "      <td>0</td>\n",
              "      <td>0</td>\n",
              "    </tr>\n",
              "    <tr>\n",
              "      <th>3</th>\n",
              "      <td>1</td>\n",
              "      <td>0</td>\n",
              "      <td>0</td>\n",
              "      <td>0</td>\n",
              "      <td>0</td>\n",
              "      <td>0</td>\n",
              "      <td>0</td>\n",
              "      <td>0</td>\n",
              "      <td>0</td>\n",
              "      <td>0</td>\n",
              "      <td>...</td>\n",
              "      <td>0</td>\n",
              "      <td>0</td>\n",
              "      <td>0</td>\n",
              "      <td>0</td>\n",
              "      <td>0</td>\n",
              "      <td>0</td>\n",
              "      <td>0</td>\n",
              "      <td>1</td>\n",
              "      <td>1</td>\n",
              "      <td>1</td>\n",
              "    </tr>\n",
              "    <tr>\n",
              "      <th>4</th>\n",
              "      <td>1</td>\n",
              "      <td>0</td>\n",
              "      <td>0</td>\n",
              "      <td>0</td>\n",
              "      <td>0</td>\n",
              "      <td>0</td>\n",
              "      <td>0</td>\n",
              "      <td>0</td>\n",
              "      <td>1</td>\n",
              "      <td>0</td>\n",
              "      <td>...</td>\n",
              "      <td>1</td>\n",
              "      <td>0</td>\n",
              "      <td>1</td>\n",
              "      <td>1</td>\n",
              "      <td>0</td>\n",
              "      <td>0</td>\n",
              "      <td>0</td>\n",
              "      <td>0</td>\n",
              "      <td>0</td>\n",
              "      <td>0</td>\n",
              "    </tr>\n",
              "  </tbody>\n",
              "</table>\n",
              "<p>5 rows × 23 columns</p>\n",
              "</div>"
            ],
            "text/plain": [
              "   0   1   2   3   4   5   6   7   8   9   ...  13  14  15  16  17  18  19  \\\n",
              "0   1   0   0   0   1   0   0   0   1   1  ...   1   1   0   0   0   0   0   \n",
              "1   1   0   0   1   1   0   0   0   1   1  ...   1   1   0   0   0   0   0   \n",
              "2   1   1   0   1   0   1   0   0   1   0  ...   1   0   0   0   0   0   0   \n",
              "3   1   0   0   0   0   0   0   0   0   0  ...   0   0   0   0   0   0   0   \n",
              "4   1   0   0   0   0   0   0   0   1   0  ...   1   0   1   1   0   0   0   \n",
              "\n",
              "   20  21  22  \n",
              "0   0   0   0  \n",
              "1   0   0   1  \n",
              "2   0   0   0  \n",
              "3   1   1   1  \n",
              "4   0   0   0  \n",
              "\n",
              "[5 rows x 23 columns]"
            ]
          },
          "execution_count": 7,
          "metadata": {},
          "output_type": "execute_result"
        }
      ],
      "source": [
        "data = pd.read_csv(\"SPECT.train\", header=None)\n",
        "data.head()\n"
      ]
    },
    {
      "cell_type": "code",
      "execution_count": 8,
      "metadata": {
        "colab": {
          "base_uri": "https://localhost:8080/"
        },
        "id": "xgrtwSCdscNY",
        "outputId": "9d6d1997-2f91-4070-9f31-6dedea2f6d27"
      },
      "outputs": [
        {
          "name": "stdout",
          "output_type": "stream",
          "text": [
            "Learning Rate = 0.01\n",
            "\n",
            "Fold 1\n",
            "Accuracy = 68.75\n",
            "\n",
            "Fold 2\n",
            "Accuracy = 43.75\n",
            "\n",
            "Fold 3\n",
            "Accuracy = 62.5\n",
            "\n",
            "Fold 4\n",
            "Accuracy = 50.0\n",
            "\n",
            "Fold 5\n",
            "Accuracy = 50.0\n"
          ]
        }
      ],
      "source": [
        "print(\"Learning Rate = {}\".format(0.01))\n",
        "scores = evaluate_algorithm(\n",
        "    data.values, n_folds=5, l_rate=0.01, in_dim=22, hid_dim=[15, 10, 5], out_dim=2\n",
        ")\n"
      ]
    },
    {
      "cell_type": "code",
      "execution_count": 9,
      "metadata": {
        "colab": {
          "base_uri": "https://localhost:8080/"
        },
        "id": "1Lhzz6BwuJsp",
        "outputId": "86dd1961-007e-4863-90a7-339afcad091e"
      },
      "outputs": [
        {
          "name": "stdout",
          "output_type": "stream",
          "text": [
            "Learning Rate = 0.001\n",
            "\n",
            "Fold 1\n",
            "Accuracy = 56.25\n",
            "\n",
            "Fold 2\n",
            "Accuracy = 62.5\n",
            "\n",
            "Fold 3\n",
            "Accuracy = 75.0\n",
            "\n",
            "Fold 4\n",
            "Accuracy = 62.5\n",
            "\n",
            "Fold 5\n",
            "Accuracy = 68.75\n"
          ]
        }
      ],
      "source": [
        "print(\"Learning Rate = {}\".format(0.001))\n",
        "scores = evaluate_algorithm(\n",
        "    data.values, n_folds=5, l_rate=0.001, in_dim=22, hid_dim=[15, 10, 5], out_dim=2\n",
        ")\n"
      ]
    },
    {
      "cell_type": "code",
      "execution_count": 10,
      "metadata": {
        "colab": {
          "base_uri": "https://localhost:8080/"
        },
        "id": "tm4kmg0MuTC6",
        "outputId": "e4fcce86-4c0c-4883-e44d-5bd472af776a"
      },
      "outputs": [
        {
          "name": "stdout",
          "output_type": "stream",
          "text": [
            "Learning Rate = 0.0001\n",
            "\n",
            "Fold 1\n",
            "Accuracy = 62.5\n",
            "\n",
            "Fold 2\n",
            "Accuracy = 43.75\n",
            "\n",
            "Fold 3\n",
            "Accuracy = 50.0\n",
            "\n",
            "Fold 4\n",
            "Accuracy = 37.5\n",
            "\n",
            "Fold 5\n",
            "Accuracy = 50.0\n"
          ]
        }
      ],
      "source": [
        "print(\"Learning Rate = {}\".format(0.0001))\n",
        "scores = evaluate_algorithm(\n",
        "    data.values, n_folds=5, l_rate=0.0001, in_dim=22, hid_dim=[15, 10, 5], out_dim=2\n",
        ")\n"
      ]
    },
    {
      "cell_type": "markdown",
      "metadata": {
        "id": "zuq09JbRuabD"
      },
      "source": [
        "# Iris Dataset\n"
      ]
    },
    {
      "cell_type": "code",
      "execution_count": 11,
      "metadata": {
        "colab": {
          "base_uri": "https://localhost:8080/",
          "height": 206
        },
        "id": "r5dX2hDyZqF1",
        "outputId": "8c90d126-152f-4144-e9e3-631c308532ab"
      },
      "outputs": [
        {
          "data": {
            "text/html": [
              "<div>\n",
              "<style scoped>\n",
              "    .dataframe tbody tr th:only-of-type {\n",
              "        vertical-align: middle;\n",
              "    }\n",
              "\n",
              "    .dataframe tbody tr th {\n",
              "        vertical-align: top;\n",
              "    }\n",
              "\n",
              "    .dataframe thead th {\n",
              "        text-align: right;\n",
              "    }\n",
              "</style>\n",
              "<table border=\"1\" class=\"dataframe\">\n",
              "  <thead>\n",
              "    <tr style=\"text-align: right;\">\n",
              "      <th></th>\n",
              "      <th>sepal length (cm)</th>\n",
              "      <th>sepal width (cm)</th>\n",
              "      <th>petal length (cm)</th>\n",
              "      <th>petal width (cm)</th>\n",
              "      <th>class</th>\n",
              "    </tr>\n",
              "  </thead>\n",
              "  <tbody>\n",
              "    <tr>\n",
              "      <th>0</th>\n",
              "      <td>5.1</td>\n",
              "      <td>3.5</td>\n",
              "      <td>1.4</td>\n",
              "      <td>0.2</td>\n",
              "      <td>0</td>\n",
              "    </tr>\n",
              "    <tr>\n",
              "      <th>1</th>\n",
              "      <td>4.9</td>\n",
              "      <td>3.0</td>\n",
              "      <td>1.4</td>\n",
              "      <td>0.2</td>\n",
              "      <td>0</td>\n",
              "    </tr>\n",
              "    <tr>\n",
              "      <th>2</th>\n",
              "      <td>4.7</td>\n",
              "      <td>3.2</td>\n",
              "      <td>1.3</td>\n",
              "      <td>0.2</td>\n",
              "      <td>0</td>\n",
              "    </tr>\n",
              "    <tr>\n",
              "      <th>3</th>\n",
              "      <td>4.6</td>\n",
              "      <td>3.1</td>\n",
              "      <td>1.5</td>\n",
              "      <td>0.2</td>\n",
              "      <td>0</td>\n",
              "    </tr>\n",
              "    <tr>\n",
              "      <th>4</th>\n",
              "      <td>5.0</td>\n",
              "      <td>3.6</td>\n",
              "      <td>1.4</td>\n",
              "      <td>0.2</td>\n",
              "      <td>0</td>\n",
              "    </tr>\n",
              "  </tbody>\n",
              "</table>\n",
              "</div>"
            ],
            "text/plain": [
              "   sepal length (cm)  sepal width (cm)  petal length (cm)  petal width (cm)  \\\n",
              "0                5.1               3.5                1.4               0.2   \n",
              "1                4.9               3.0                1.4               0.2   \n",
              "2                4.7               3.2                1.3               0.2   \n",
              "3                4.6               3.1                1.5               0.2   \n",
              "4                5.0               3.6                1.4               0.2   \n",
              "\n",
              "   class  \n",
              "0      0  \n",
              "1      0  \n",
              "2      0  \n",
              "3      0  \n",
              "4      0  "
            ]
          },
          "execution_count": 11,
          "metadata": {},
          "output_type": "execute_result"
        }
      ],
      "source": [
        "iris_data = datasets.load_iris()\n",
        "df = pd.DataFrame(data=iris_data.data, columns=iris_data.feature_names)\n",
        "df[\"class\"] = iris_data.target\n",
        "df.head()\n"
      ]
    },
    {
      "cell_type": "code",
      "execution_count": 12,
      "metadata": {
        "colab": {
          "base_uri": "https://localhost:8080/"
        },
        "id": "a5tCdz10z0GC",
        "outputId": "aed4ace1-af69-4595-d200-c4a8152d6c86"
      },
      "outputs": [
        {
          "name": "stdout",
          "output_type": "stream",
          "text": [
            "Learning Rate = 0.01\n",
            "\n",
            "Fold 1\n",
            "Accuracy = 90.0\n",
            "\n",
            "Fold 2\n",
            "Accuracy = 30.0\n",
            "\n",
            "Fold 3\n",
            "Accuracy = 20.0\n",
            "\n",
            "Fold 4\n",
            "Accuracy = 23.333333333333332\n",
            "\n",
            "Fold 5\n",
            "Accuracy = 26.666666666666668\n"
          ]
        }
      ],
      "source": [
        "print(\"Learning Rate = {}\".format(0.01))\n",
        "scores = evaluate_algorithm(\n",
        "    df.values, n_folds=5, l_rate=0.01, in_dim=4, hid_dim=[4, 4, 3], out_dim=3\n",
        ")\n"
      ]
    },
    {
      "cell_type": "code",
      "execution_count": 13,
      "metadata": {
        "colab": {
          "base_uri": "https://localhost:8080/"
        },
        "id": "ZEtbAT-u0iM-",
        "outputId": "4f54cc6d-1be7-4a1e-b05e-1f3b14b20f56"
      },
      "outputs": [
        {
          "name": "stdout",
          "output_type": "stream",
          "text": [
            "Learning Rate = 0.001\n",
            "\n",
            "Fold 1\n",
            "Accuracy = 63.33333333333333\n",
            "\n",
            "Fold 2\n",
            "Accuracy = 33.33333333333333\n",
            "\n",
            "Fold 3\n",
            "Accuracy = 33.33333333333333\n",
            "\n",
            "Fold 4\n",
            "Accuracy = 33.33333333333333\n",
            "\n",
            "Fold 5\n",
            "Accuracy = 40.0\n"
          ]
        }
      ],
      "source": [
        "print(\"Learning Rate = {}\".format(0.001))\n",
        "scores = evaluate_algorithm(\n",
        "    df.values, n_folds=5, l_rate=0.001, in_dim=4, hid_dim=[4, 4, 3], out_dim=3\n",
        ")\n"
      ]
    },
    {
      "cell_type": "code",
      "execution_count": 14,
      "metadata": {
        "colab": {
          "base_uri": "https://localhost:8080/"
        },
        "id": "XReEJo93GHrs",
        "outputId": "5b3a2294-0446-4fa4-9fc3-fcfcc6175151"
      },
      "outputs": [
        {
          "name": "stdout",
          "output_type": "stream",
          "text": [
            "Learning Rate = 0.0001\n",
            "\n",
            "Fold 1\n",
            "Accuracy = 43.333333333333336\n",
            "\n",
            "Fold 2\n",
            "Accuracy = 30.0\n",
            "\n",
            "Fold 3\n",
            "Accuracy = 43.333333333333336\n",
            "\n",
            "Fold 4\n",
            "Accuracy = 43.333333333333336\n",
            "\n",
            "Fold 5\n",
            "Accuracy = 33.33333333333333\n"
          ]
        }
      ],
      "source": [
        "print(\"Learning Rate = {}\".format(0.0001))\n",
        "scores = evaluate_algorithm(\n",
        "    df.values, n_folds=5, l_rate=0.0001, in_dim=4, hid_dim=[4, 4, 3], out_dim=3\n",
        ")\n"
      ]
    }
  ],
  "metadata": {
    "colab": {
      "collapsed_sections": [],
      "provenance": []
    },
    "kernelspec": {
      "display_name": "Python 3.9.13 ('venv': venv)",
      "language": "python",
      "name": "python3"
    },
    "language_info": {
      "codemirror_mode": {
        "name": "ipython",
        "version": 3
      },
      "file_extension": ".py",
      "mimetype": "text/x-python",
      "name": "python",
      "nbconvert_exporter": "python",
      "pygments_lexer": "ipython3",
      "version": "3.9.13"
    },
    "vscode": {
      "interpreter": {
        "hash": "a77b418897c13dc0554657847c7cc7f7fdbb5fb92d0b98174476f01db36bcaa6"
      }
    }
  },
  "nbformat": 4,
  "nbformat_minor": 0
}
