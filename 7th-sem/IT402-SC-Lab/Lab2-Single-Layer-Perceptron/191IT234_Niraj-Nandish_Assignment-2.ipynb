{
 "cells": [
  {
   "cell_type": "markdown",
   "metadata": {},
   "source": [
    "# IT 402\n",
    "## Assignment 2 - Single Layer Perceptron\n",
    "\n",
    "### Name: Niraj Nandish\n",
    "### Roll no.: 191IT234"
   ]
  },
  {
   "cell_type": "code",
   "execution_count": 1,
   "metadata": {},
   "outputs": [],
   "source": [
    "import numpy as np\n",
    "import pandas as pd\n",
    "from sklearn.model_selection import train_test_split\n",
    "import matplotlib.pyplot as plt\n"
   ]
  },
  {
   "cell_type": "code",
   "execution_count": 2,
   "metadata": {},
   "outputs": [
    {
     "data": {
      "text/html": [
       "<div>\n",
       "<style scoped>\n",
       "    .dataframe tbody tr th:only-of-type {\n",
       "        vertical-align: middle;\n",
       "    }\n",
       "\n",
       "    .dataframe tbody tr th {\n",
       "        vertical-align: top;\n",
       "    }\n",
       "\n",
       "    .dataframe thead th {\n",
       "        text-align: right;\n",
       "    }\n",
       "</style>\n",
       "<table border=\"1\" class=\"dataframe\">\n",
       "  <thead>\n",
       "    <tr style=\"text-align: right;\">\n",
       "      <th></th>\n",
       "      <th>0</th>\n",
       "      <th>1</th>\n",
       "      <th>2</th>\n",
       "      <th>3</th>\n",
       "      <th>4</th>\n",
       "      <th>5</th>\n",
       "      <th>6</th>\n",
       "      <th>7</th>\n",
       "      <th>8</th>\n",
       "      <th>9</th>\n",
       "      <th>...</th>\n",
       "      <th>13</th>\n",
       "      <th>14</th>\n",
       "      <th>15</th>\n",
       "      <th>16</th>\n",
       "      <th>17</th>\n",
       "      <th>18</th>\n",
       "      <th>19</th>\n",
       "      <th>20</th>\n",
       "      <th>21</th>\n",
       "      <th>22</th>\n",
       "    </tr>\n",
       "  </thead>\n",
       "  <tbody>\n",
       "    <tr>\n",
       "      <th>0</th>\n",
       "      <td>1</td>\n",
       "      <td>0</td>\n",
       "      <td>0</td>\n",
       "      <td>0</td>\n",
       "      <td>1</td>\n",
       "      <td>0</td>\n",
       "      <td>0</td>\n",
       "      <td>0</td>\n",
       "      <td>1</td>\n",
       "      <td>1</td>\n",
       "      <td>...</td>\n",
       "      <td>1</td>\n",
       "      <td>1</td>\n",
       "      <td>0</td>\n",
       "      <td>0</td>\n",
       "      <td>0</td>\n",
       "      <td>0</td>\n",
       "      <td>0</td>\n",
       "      <td>0</td>\n",
       "      <td>0</td>\n",
       "      <td>0</td>\n",
       "    </tr>\n",
       "    <tr>\n",
       "      <th>1</th>\n",
       "      <td>1</td>\n",
       "      <td>0</td>\n",
       "      <td>0</td>\n",
       "      <td>1</td>\n",
       "      <td>1</td>\n",
       "      <td>0</td>\n",
       "      <td>0</td>\n",
       "      <td>0</td>\n",
       "      <td>1</td>\n",
       "      <td>1</td>\n",
       "      <td>...</td>\n",
       "      <td>1</td>\n",
       "      <td>1</td>\n",
       "      <td>0</td>\n",
       "      <td>0</td>\n",
       "      <td>0</td>\n",
       "      <td>0</td>\n",
       "      <td>0</td>\n",
       "      <td>0</td>\n",
       "      <td>0</td>\n",
       "      <td>1</td>\n",
       "    </tr>\n",
       "    <tr>\n",
       "      <th>2</th>\n",
       "      <td>1</td>\n",
       "      <td>1</td>\n",
       "      <td>0</td>\n",
       "      <td>1</td>\n",
       "      <td>0</td>\n",
       "      <td>1</td>\n",
       "      <td>0</td>\n",
       "      <td>0</td>\n",
       "      <td>1</td>\n",
       "      <td>0</td>\n",
       "      <td>...</td>\n",
       "      <td>1</td>\n",
       "      <td>0</td>\n",
       "      <td>0</td>\n",
       "      <td>0</td>\n",
       "      <td>0</td>\n",
       "      <td>0</td>\n",
       "      <td>0</td>\n",
       "      <td>0</td>\n",
       "      <td>0</td>\n",
       "      <td>0</td>\n",
       "    </tr>\n",
       "    <tr>\n",
       "      <th>3</th>\n",
       "      <td>1</td>\n",
       "      <td>0</td>\n",
       "      <td>0</td>\n",
       "      <td>0</td>\n",
       "      <td>0</td>\n",
       "      <td>0</td>\n",
       "      <td>0</td>\n",
       "      <td>0</td>\n",
       "      <td>0</td>\n",
       "      <td>0</td>\n",
       "      <td>...</td>\n",
       "      <td>0</td>\n",
       "      <td>0</td>\n",
       "      <td>0</td>\n",
       "      <td>0</td>\n",
       "      <td>0</td>\n",
       "      <td>0</td>\n",
       "      <td>0</td>\n",
       "      <td>1</td>\n",
       "      <td>1</td>\n",
       "      <td>1</td>\n",
       "    </tr>\n",
       "    <tr>\n",
       "      <th>4</th>\n",
       "      <td>1</td>\n",
       "      <td>0</td>\n",
       "      <td>0</td>\n",
       "      <td>0</td>\n",
       "      <td>0</td>\n",
       "      <td>0</td>\n",
       "      <td>0</td>\n",
       "      <td>0</td>\n",
       "      <td>1</td>\n",
       "      <td>0</td>\n",
       "      <td>...</td>\n",
       "      <td>1</td>\n",
       "      <td>0</td>\n",
       "      <td>1</td>\n",
       "      <td>1</td>\n",
       "      <td>0</td>\n",
       "      <td>0</td>\n",
       "      <td>0</td>\n",
       "      <td>0</td>\n",
       "      <td>0</td>\n",
       "      <td>0</td>\n",
       "    </tr>\n",
       "  </tbody>\n",
       "</table>\n",
       "<p>5 rows × 23 columns</p>\n",
       "</div>"
      ],
      "text/plain": [
       "   0   1   2   3   4   5   6   7   8   9   ...  13  14  15  16  17  18  19  \\\n",
       "0   1   0   0   0   1   0   0   0   1   1  ...   1   1   0   0   0   0   0   \n",
       "1   1   0   0   1   1   0   0   0   1   1  ...   1   1   0   0   0   0   0   \n",
       "2   1   1   0   1   0   1   0   0   1   0  ...   1   0   0   0   0   0   0   \n",
       "3   1   0   0   0   0   0   0   0   0   0  ...   0   0   0   0   0   0   0   \n",
       "4   1   0   0   0   0   0   0   0   1   0  ...   1   0   1   1   0   0   0   \n",
       "\n",
       "   20  21  22  \n",
       "0   0   0   0  \n",
       "1   0   0   1  \n",
       "2   0   0   0  \n",
       "3   1   1   1  \n",
       "4   0   0   0  \n",
       "\n",
       "[5 rows x 23 columns]"
      ]
     },
     "execution_count": 2,
     "metadata": {},
     "output_type": "execute_result"
    }
   ],
   "source": [
    "df = pd.read_excel('Heart_Dataset.xlsx', header=None, sheet_name='Sheet1')\n",
    "df.head()"
   ]
  },
  {
   "cell_type": "code",
   "execution_count": 3,
   "metadata": {},
   "outputs": [],
   "source": [
    "train_df, test_df = train_test_split(df, test_size=0.2)"
   ]
  },
  {
   "cell_type": "code",
   "execution_count": 4,
   "metadata": {},
   "outputs": [
    {
     "data": {
      "image/png": "[encoded data removed]",
      "text/plain": [
       "<Figure size 432x288 with 1 Axes>"
      ]
     },
     "metadata": {
      "needs_background": "light"
     },
     "output_type": "display_data"
    }
   ],
   "source": [
    "for i, row in train_df.iterrows():\n",
    "    row = train_df.loc[i]\n",
    "    x = row.index[row == 1].tolist()[1:]\n",
    "    y = [i for _ in x]\n",
    "    col = \"b\" if (row.tolist()[0] == 1) else \"r\"\n",
    "    plt.scatter(x, y, color=col)\n",
    "    plt.xlabel(\"Features\")\n",
    "    plt.ylabel(\"Data Points\")\n",
    "    plt.title(\"Train Data Visualization\")\n",
    "\n",
    "plt.show()"
   ]
  },
  {
   "cell_type": "code",
   "execution_count": 14,
   "metadata": {},
   "outputs": [
    {
     "data": {
      "image/png": "[encoded data removed]",
      "text/plain": [
       "<Figure size 432x288 with 1 Axes>"
      ]
     },
     "metadata": {
      "needs_background": "light"
     },
     "output_type": "display_data"
    }
   ],
   "source": [
    "for i, row in test_df.iterrows():\n",
    "    row = test_df.loc[i]\n",
    "    x = row.index[row == 1].tolist()[1:]\n",
    "    y = [i for _ in x]\n",
    "    col = \"b\" if (row.tolist()[0] == 1) else \"r\"\n",
    "    plt.scatter(x, y, color=col)\n",
    "    plt.xlabel(\"Features\")\n",
    "    plt.ylabel(\"Data Points\")\n",
    "    plt.title(\"Test Data Visualization\")\n",
    "\n",
    "plt.show()"
   ]
  },
  {
   "cell_type": "code",
   "execution_count": 6,
   "metadata": {},
   "outputs": [],
   "source": [
    "class SLP:\n",
    "    def __init__(self, alpha):\n",
    "        self.alpha = alpha\n",
    "        self.weights = np.append(-0.5, np.random.uniform(0.5, 1, 22))\n",
    "\n",
    "    def predict(self, row):\n",
    "        activation = self.weights[0]\n",
    "        for j in range(len(row) - 1):\n",
    "            activation += self.weights[j + 1] * row[j]\n",
    "\n",
    "        return 1.0 if activation >= 0.0 else 0.0\n",
    "\n",
    "    def validate(self, X, y):\n",
    "        correct_pred = 0\n",
    "\n",
    "        for row_index in range(len(X)):\n",
    "            pred = self.predict(X[row_index])\n",
    "            error = y[row_index] - pred\n",
    "            correct_pred += 1 if error == 0 else 0\n",
    "\n",
    "        return 100 * correct_pred / len(X)\n",
    "\n",
    "    def fit(self, X, y, test_X=None, test_y=None, epochs=100, display=True):\n",
    "        for n in range(epochs):\n",
    "            correct_pred = 0\n",
    "\n",
    "            for i in range(len(X)):\n",
    "                pred = self.predict(X[i])\n",
    "                error = y[i] - pred\n",
    "                correct_pred += 1 if error == 0 else 0\n",
    "\n",
    "                self.weights[0] = self.weights[0] + (self.alpha * error)\n",
    "\n",
    "                for j in range(len(X[i]) - 1):\n",
    "                    self.weights[j + 1] = self.weights[j + 1] + (\n",
    "                        self.alpha * error * X[i][j]\n",
    "                    )\n",
    "\n",
    "            train_accuracy = 100 * correct_pred / len(X)\n",
    "\n",
    "            if test_X is not None and test_y is not None:\n",
    "                val_accuracy = self.validate(test_X, test_y)\n",
    "            else:\n",
    "                val_accuracy = 0.0\n",
    "\n",
    "            if display and (n + 1) % 5 == 0:\n",
    "                print(\n",
    "                    f\"Epoch: {n + 1} \\t Train Accuracy: {train_accuracy:.3f} % \\t Validation Accuracy: {val_accuracy:.3f} %\"\n",
    "                )\n"
   ]
  },
  {
   "cell_type": "code",
   "execution_count": 7,
   "metadata": {},
   "outputs": [],
   "source": [
    "train_data = train_df.to_numpy()\n",
    "X = train_data.T[1:].T\n",
    "y = train_data.T[0].T\n"
   ]
  },
  {
   "cell_type": "code",
   "execution_count": 8,
   "metadata": {},
   "outputs": [],
   "source": [
    "test_data = test_df.to_numpy()\n",
    "test_X = test_data.T[1:].T\n",
    "test_y = test_data.T[0].T\n"
   ]
  },
  {
   "cell_type": "code",
   "execution_count": 9,
   "metadata": {},
   "outputs": [
    {
     "name": "stdout",
     "output_type": "stream",
     "text": [
      "Epoch: 5 \t Train Accuracy: 68.750 % \t Validation Accuracy: 81.250 %\n",
      "Epoch: 10 \t Train Accuracy: 78.125 % \t Validation Accuracy: 75.000 %\n",
      "Epoch: 15 \t Train Accuracy: 79.688 % \t Validation Accuracy: 75.000 %\n",
      "Epoch: 20 \t Train Accuracy: 78.125 % \t Validation Accuracy: 75.000 %\n",
      "Epoch: 25 \t Train Accuracy: 81.250 % \t Validation Accuracy: 75.000 %\n",
      "Epoch: 30 \t Train Accuracy: 79.688 % \t Validation Accuracy: 75.000 %\n",
      "Epoch: 35 \t Train Accuracy: 79.688 % \t Validation Accuracy: 75.000 %\n",
      "Epoch: 40 \t Train Accuracy: 84.375 % \t Validation Accuracy: 75.000 %\n",
      "Epoch: 45 \t Train Accuracy: 84.375 % \t Validation Accuracy: 68.750 %\n",
      "Epoch: 50 \t Train Accuracy: 87.500 % \t Validation Accuracy: 68.750 %\n",
      "Epoch: 55 \t Train Accuracy: 85.938 % \t Validation Accuracy: 68.750 %\n",
      "Epoch: 60 \t Train Accuracy: 90.625 % \t Validation Accuracy: 62.500 %\n",
      "Epoch: 65 \t Train Accuracy: 85.938 % \t Validation Accuracy: 62.500 %\n",
      "Epoch: 70 \t Train Accuracy: 90.625 % \t Validation Accuracy: 62.500 %\n",
      "Epoch: 75 \t Train Accuracy: 92.188 % \t Validation Accuracy: 62.500 %\n",
      "Epoch: 80 \t Train Accuracy: 92.188 % \t Validation Accuracy: 68.750 %\n",
      "Epoch: 85 \t Train Accuracy: 87.500 % \t Validation Accuracy: 68.750 %\n",
      "Epoch: 90 \t Train Accuracy: 89.062 % \t Validation Accuracy: 68.750 %\n",
      "Epoch: 95 \t Train Accuracy: 92.188 % \t Validation Accuracy: 68.750 %\n",
      "Epoch: 100 \t Train Accuracy: 90.625 % \t Validation Accuracy: 68.750 %\n"
     ]
    }
   ],
   "source": [
    "model = SLP(0.01)\n",
    "model.fit(X, y, test_X, test_y)\n"
   ]
  },
  {
   "cell_type": "code",
   "execution_count": 10,
   "metadata": {},
   "outputs": [
    {
     "name": "stdout",
     "output_type": "stream",
     "text": [
      "Epoch: 5 \t Train Accuracy: 64.062 % \t Validation Accuracy: 68.750 %\n",
      "Epoch: 10 \t Train Accuracy: 62.500 % \t Validation Accuracy: 68.750 %\n",
      "Epoch: 15 \t Train Accuracy: 64.062 % \t Validation Accuracy: 68.750 %\n",
      "Epoch: 20 \t Train Accuracy: 64.062 % \t Validation Accuracy: 68.750 %\n",
      "Epoch: 25 \t Train Accuracy: 65.625 % \t Validation Accuracy: 68.750 %\n",
      "Epoch: 30 \t Train Accuracy: 67.188 % \t Validation Accuracy: 75.000 %\n",
      "Epoch: 35 \t Train Accuracy: 67.188 % \t Validation Accuracy: 75.000 %\n",
      "Epoch: 40 \t Train Accuracy: 67.188 % \t Validation Accuracy: 75.000 %\n",
      "Epoch: 45 \t Train Accuracy: 71.875 % \t Validation Accuracy: 75.000 %\n",
      "Epoch: 50 \t Train Accuracy: 71.875 % \t Validation Accuracy: 75.000 %\n",
      "Epoch: 55 \t Train Accuracy: 75.000 % \t Validation Accuracy: 81.250 %\n",
      "Epoch: 60 \t Train Accuracy: 76.562 % \t Validation Accuracy: 87.500 %\n",
      "Epoch: 65 \t Train Accuracy: 76.562 % \t Validation Accuracy: 87.500 %\n",
      "Epoch: 70 \t Train Accuracy: 75.000 % \t Validation Accuracy: 87.500 %\n",
      "Epoch: 75 \t Train Accuracy: 76.562 % \t Validation Accuracy: 81.250 %\n",
      "Epoch: 80 \t Train Accuracy: 76.562 % \t Validation Accuracy: 81.250 %\n",
      "Epoch: 85 \t Train Accuracy: 76.562 % \t Validation Accuracy: 81.250 %\n",
      "Epoch: 90 \t Train Accuracy: 73.438 % \t Validation Accuracy: 81.250 %\n",
      "Epoch: 95 \t Train Accuracy: 73.438 % \t Validation Accuracy: 81.250 %\n",
      "Epoch: 100 \t Train Accuracy: 76.562 % \t Validation Accuracy: 81.250 %\n"
     ]
    }
   ],
   "source": [
    "model = SLP(0.001)\n",
    "model.fit(X, y, test_X, test_y)\n"
   ]
  },
  {
   "cell_type": "code",
   "execution_count": 11,
   "metadata": {},
   "outputs": [
    {
     "name": "stdout",
     "output_type": "stream",
     "text": [
      "Epoch: 5 \t Train Accuracy: 64.062 % \t Validation Accuracy: 68.750 %\n",
      "Epoch: 10 \t Train Accuracy: 64.062 % \t Validation Accuracy: 68.750 %\n",
      "Epoch: 15 \t Train Accuracy: 64.062 % \t Validation Accuracy: 68.750 %\n",
      "Epoch: 20 \t Train Accuracy: 64.062 % \t Validation Accuracy: 68.750 %\n",
      "Epoch: 25 \t Train Accuracy: 62.500 % \t Validation Accuracy: 68.750 %\n",
      "Epoch: 30 \t Train Accuracy: 62.500 % \t Validation Accuracy: 68.750 %\n",
      "Epoch: 35 \t Train Accuracy: 62.500 % \t Validation Accuracy: 68.750 %\n",
      "Epoch: 40 \t Train Accuracy: 62.500 % \t Validation Accuracy: 68.750 %\n",
      "Epoch: 45 \t Train Accuracy: 62.500 % \t Validation Accuracy: 68.750 %\n",
      "Epoch: 50 \t Train Accuracy: 62.500 % \t Validation Accuracy: 68.750 %\n",
      "Epoch: 55 \t Train Accuracy: 62.500 % \t Validation Accuracy: 68.750 %\n",
      "Epoch: 60 \t Train Accuracy: 62.500 % \t Validation Accuracy: 68.750 %\n",
      "Epoch: 65 \t Train Accuracy: 62.500 % \t Validation Accuracy: 68.750 %\n",
      "Epoch: 70 \t Train Accuracy: 62.500 % \t Validation Accuracy: 68.750 %\n",
      "Epoch: 75 \t Train Accuracy: 62.500 % \t Validation Accuracy: 68.750 %\n",
      "Epoch: 80 \t Train Accuracy: 62.500 % \t Validation Accuracy: 68.750 %\n",
      "Epoch: 85 \t Train Accuracy: 62.500 % \t Validation Accuracy: 68.750 %\n",
      "Epoch: 90 \t Train Accuracy: 62.500 % \t Validation Accuracy: 68.750 %\n",
      "Epoch: 95 \t Train Accuracy: 62.500 % \t Validation Accuracy: 68.750 %\n",
      "Epoch: 100 \t Train Accuracy: 62.500 % \t Validation Accuracy: 68.750 %\n"
     ]
    }
   ],
   "source": [
    "model = SLP(0.0001)\n",
    "model.fit(X, y, test_X, test_y)\n"
   ]
  },
  {
   "cell_type": "code",
   "execution_count": 12,
   "metadata": {},
   "outputs": [],
   "source": [
    "def k_fold_cross_validation(n=5):\n",
    "    random_df = train_df.sample(frac=1)\n",
    "    folds = []\n",
    "    acc_scores = []\n",
    "    div = int(len(train_df) / n)\n",
    "\n",
    "    for fold_index in range(n):\n",
    "        folds.append(random_df[fold_index * div : (fold_index + 1) * div])\n",
    "\n",
    "    for i in range(n):\n",
    "        train_data = pd.concat((folds[:i] + folds[i + 1 :]), axis=0)\n",
    "        test_data = folds[i]\n",
    "\n",
    "        x_train = train_data.loc[:, 1:].to_numpy()\n",
    "        x_test = test_data.loc[:, 1:].to_numpy()\n",
    "        y_train = train_data.loc[:, 0].to_numpy()\n",
    "        y_test = test_data.loc[:, 0].to_numpy()\n",
    "\n",
    "        model = SLP(0.01)\n",
    "        model.fit(x_train, y_train, display=False)\n",
    "\n",
    "        acc_score = model.validate(x_test, y_test)\n",
    "        print(f\"Accuracy = {acc_score:.3f} %\")\n",
    "        acc_scores.append(acc_score)\n",
    "\n",
    "    return sum(acc_scores) / len(acc_scores)\n"
   ]
  },
  {
   "cell_type": "code",
   "execution_count": 13,
   "metadata": {},
   "outputs": [
    {
     "name": "stdout",
     "output_type": "stream",
     "text": [
      "Accuracy = 83.333 %\n",
      "Accuracy = 75.000 %\n",
      "Accuracy = 83.333 %\n",
      "Accuracy = 33.333 %\n",
      "Accuracy = 83.333 %\n",
      "\n",
      "Average Accuracy = 71.667 %\n"
     ]
    }
   ],
   "source": [
    "print(f'\\nAverage Accuracy = {k_fold_cross_validation():.3f} %')"
   ]
  }
 ],
 "metadata": {
  "kernelspec": {
   "display_name": "Python 3.9.13 64-bit",
   "language": "python",
   "name": "python3"
  },
  "language_info": {
   "codemirror_mode": {
    "name": "ipython",
    "version": 3
   },
   "file_extension": ".py",
   "mimetype": "text/x-python",
   "name": "python",
   "nbconvert_exporter": "python",
   "pygments_lexer": "ipython3",
   "version": "3.9.13"
  },
  "vscode": {
   "interpreter": {
    "hash": "b0fa6594d8f4cbf19f97940f81e996739fb7646882a419484c72d19e05852a7e"
   }
  }
 },
 "nbformat": 4,
 "nbformat_minor": 2
}
