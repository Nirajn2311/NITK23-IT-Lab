{
  "cells": [
    {
      "cell_type": "markdown",
      "metadata": {
        "id": "KQDYv4HiEnr9"
      },
      "source": [
        "# Lab Assignment 4\n",
        "## Naive Bayes Classifier\n",
        "\n",
        "```txt\n",
        "Gaurang Velingkar\n",
        "191IT113\n",
        "```\n",
        "\n",
        "Implement a Naive Bayes Classifier on the IRIS and SPECT Datasets and report the following:\n",
        "1. Correctly classified instances\n",
        "2. Incorrectly classified instances\n",
        "3. Kappa Statistics\n",
        "4. RMSE\n",
        "5. Relative Absolute Error\n",
        "6. Confusion Matrix\n",
        "7. True Positive Rate and False Positive Rate"
      ]
    },
    {
      "cell_type": "markdown",
      "metadata": {
        "id": "Ci9KHMcbGg-O"
      },
      "source": [
        "Load dataset from drive"
      ]
    },
    {
      "cell_type": "code",
      "execution_count": null,
      "metadata": {
        "colab": {
          "base_uri": "https://localhost:8080/"
        },
        "id": "ntRo0KbqEh1d",
        "outputId": "cca3dc22-3494-45aa-b96d-cf8c15b43492"
      },
      "outputs": [
        {
          "name": "stdout",
          "output_type": "stream",
          "text": [
            "Drive already mounted at /content/drive; to attempt to forcibly remount, call drive.mount(\"/content/drive\", force_remount=True).\n"
          ]
        }
      ],
      "source": [
        "from google.colab import drive\n",
        "drive.mount('/content/drive')"
      ]
    },
    {
      "cell_type": "markdown",
      "metadata": {
        "id": "wZZFp1utGgEl"
      },
      "source": [
        "Import all required libraries"
      ]
    },
    {
      "cell_type": "code",
      "execution_count": null,
      "metadata": {
        "id": "szYjuBsVGpul"
      },
      "outputs": [],
      "source": [
        "import random\n",
        "import pandas as pd\n",
        "import numpy as np\n",
        "import matplotlib.pyplot as plt\n",
        "from sklearn.datasets import load_iris\n",
        "from sklearn.model_selection import train_test_split\n",
        "from sklearn.metrics import accuracy_score\n",
        "from sklearn.metrics import classification_report\n",
        "from sklearn.metrics import confusion_matrix, ConfusionMatrixDisplay\n",
        "from sklearn.metrics import cohen_kappa_score\n",
        "from sklearn.metrics import mean_absolute_error"
      ]
    },
    {
      "cell_type": "code",
      "execution_count": null,
      "metadata": {
        "id": "cloK6Ua1TLLd"
      },
      "outputs": [],
      "source": [
        "import warnings\n",
        "warnings.filterwarnings('ignore')"
      ]
    },
    {
      "cell_type": "markdown",
      "metadata": {
        "id": "MOQXuDf5GjQj"
      },
      "source": [
        "Load the datasets as a dataframe"
      ]
    },
    {
      "cell_type": "code",
      "execution_count": null,
      "metadata": {
        "colab": {
          "base_uri": "https://localhost:8080/",
          "height": 236
        },
        "id": "K6qpJnWrG8N1",
        "outputId": "3c25556f-de74-4d4c-b468-2f1ccca3af40"
      },
      "outputs": [
        {
          "data": {
            "text/html": [
              "\n",
              "  <div id=\"df-e05ed3e8-7e1a-4645-8a42-da0339ca7cf8\">\n",
              "    <div class=\"colab-df-container\">\n",
              "      <div>\n",
              "<style scoped>\n",
              "    .dataframe tbody tr th:only-of-type {\n",
              "        vertical-align: middle;\n",
              "    }\n",
              "\n",
              "    .dataframe tbody tr th {\n",
              "        vertical-align: top;\n",
              "    }\n",
              "\n",
              "    .dataframe thead th {\n",
              "        text-align: right;\n",
              "    }\n",
              "</style>\n",
              "<table border=\"1\" class=\"dataframe\">\n",
              "  <thead>\n",
              "    <tr style=\"text-align: right;\">\n",
              "      <th></th>\n",
              "      <th>0</th>\n",
              "      <th>1</th>\n",
              "      <th>2</th>\n",
              "      <th>3</th>\n",
              "      <th>4</th>\n",
              "      <th>5</th>\n",
              "      <th>6</th>\n",
              "      <th>7</th>\n",
              "      <th>8</th>\n",
              "      <th>9</th>\n",
              "      <th>...</th>\n",
              "      <th>13</th>\n",
              "      <th>14</th>\n",
              "      <th>15</th>\n",
              "      <th>16</th>\n",
              "      <th>17</th>\n",
              "      <th>18</th>\n",
              "      <th>19</th>\n",
              "      <th>20</th>\n",
              "      <th>21</th>\n",
              "      <th>22</th>\n",
              "    </tr>\n",
              "  </thead>\n",
              "  <tbody>\n",
              "    <tr>\n",
              "      <th>0</th>\n",
              "      <td>1</td>\n",
              "      <td>0</td>\n",
              "      <td>0</td>\n",
              "      <td>0</td>\n",
              "      <td>1</td>\n",
              "      <td>0</td>\n",
              "      <td>0</td>\n",
              "      <td>0</td>\n",
              "      <td>1</td>\n",
              "      <td>1</td>\n",
              "      <td>...</td>\n",
              "      <td>1</td>\n",
              "      <td>1</td>\n",
              "      <td>0</td>\n",
              "      <td>0</td>\n",
              "      <td>0</td>\n",
              "      <td>0</td>\n",
              "      <td>0</td>\n",
              "      <td>0</td>\n",
              "      <td>0</td>\n",
              "      <td>0</td>\n",
              "    </tr>\n",
              "    <tr>\n",
              "      <th>1</th>\n",
              "      <td>1</td>\n",
              "      <td>0</td>\n",
              "      <td>0</td>\n",
              "      <td>1</td>\n",
              "      <td>1</td>\n",
              "      <td>0</td>\n",
              "      <td>0</td>\n",
              "      <td>0</td>\n",
              "      <td>1</td>\n",
              "      <td>1</td>\n",
              "      <td>...</td>\n",
              "      <td>1</td>\n",
              "      <td>1</td>\n",
              "      <td>0</td>\n",
              "      <td>0</td>\n",
              "      <td>0</td>\n",
              "      <td>0</td>\n",
              "      <td>0</td>\n",
              "      <td>0</td>\n",
              "      <td>0</td>\n",
              "      <td>1</td>\n",
              "    </tr>\n",
              "    <tr>\n",
              "      <th>2</th>\n",
              "      <td>1</td>\n",
              "      <td>1</td>\n",
              "      <td>0</td>\n",
              "      <td>1</td>\n",
              "      <td>0</td>\n",
              "      <td>1</td>\n",
              "      <td>0</td>\n",
              "      <td>0</td>\n",
              "      <td>1</td>\n",
              "      <td>0</td>\n",
              "      <td>...</td>\n",
              "      <td>1</td>\n",
              "      <td>0</td>\n",
              "      <td>0</td>\n",
              "      <td>0</td>\n",
              "      <td>0</td>\n",
              "      <td>0</td>\n",
              "      <td>0</td>\n",
              "      <td>0</td>\n",
              "      <td>0</td>\n",
              "      <td>0</td>\n",
              "    </tr>\n",
              "    <tr>\n",
              "      <th>3</th>\n",
              "      <td>1</td>\n",
              "      <td>0</td>\n",
              "      <td>0</td>\n",
              "      <td>0</td>\n",
              "      <td>0</td>\n",
              "      <td>0</td>\n",
              "      <td>0</td>\n",
              "      <td>0</td>\n",
              "      <td>0</td>\n",
              "      <td>0</td>\n",
              "      <td>...</td>\n",
              "      <td>0</td>\n",
              "      <td>0</td>\n",
              "      <td>0</td>\n",
              "      <td>0</td>\n",
              "      <td>0</td>\n",
              "      <td>0</td>\n",
              "      <td>0</td>\n",
              "      <td>1</td>\n",
              "      <td>1</td>\n",
              "      <td>1</td>\n",
              "    </tr>\n",
              "    <tr>\n",
              "      <th>4</th>\n",
              "      <td>1</td>\n",
              "      <td>0</td>\n",
              "      <td>0</td>\n",
              "      <td>0</td>\n",
              "      <td>0</td>\n",
              "      <td>0</td>\n",
              "      <td>0</td>\n",
              "      <td>0</td>\n",
              "      <td>1</td>\n",
              "      <td>0</td>\n",
              "      <td>...</td>\n",
              "      <td>1</td>\n",
              "      <td>0</td>\n",
              "      <td>1</td>\n",
              "      <td>1</td>\n",
              "      <td>0</td>\n",
              "      <td>0</td>\n",
              "      <td>0</td>\n",
              "      <td>0</td>\n",
              "      <td>0</td>\n",
              "      <td>0</td>\n",
              "    </tr>\n",
              "  </tbody>\n",
              "</table>\n",
              "<p>5 rows × 23 columns</p>\n",
              "</div>\n",
              "      <button class=\"colab-df-convert\" onclick=\"convertToInteractive('df-e05ed3e8-7e1a-4645-8a42-da0339ca7cf8')\"\n",
              "              title=\"Convert this dataframe to an interactive table.\"\n",
              "              style=\"display:none;\">\n",
              "        \n",
              "  <svg xmlns=\"http://www.w3.org/2000/svg\" height=\"24px\"viewBox=\"0 0 24 24\"\n",
              "       width=\"24px\">\n",
              "    <path d=\"M0 0h24v24H0V0z\" fill=\"none\"/>\n",
              "    <path d=\"M18.56 5.44l.94 2.06.94-2.06 2.06-.94-2.06-.94-.94-2.06-.94 2.06-2.06.94zm-11 1L8.5 8.5l.94-2.06 2.06-.94-2.06-.94L8.5 2.5l-.94 2.06-2.06.94zm10 10l.94 2.06.94-2.06 2.06-.94-2.06-.94-.94-2.06-.94 2.06-2.06.94z\"/><path d=\"M17.41 7.96l-1.37-1.37c-.4-.4-.92-.59-1.43-.59-.52 0-1.04.2-1.43.59L10.3 9.45l-7.72 7.72c-.78.78-.78 2.05 0 2.83L4 21.41c.39.39.9.59 1.41.59.51 0 1.02-.2 1.41-.59l7.78-7.78 2.81-2.81c.8-.78.8-2.07 0-2.86zM5.41 20L4 18.59l7.72-7.72 1.47 1.35L5.41 20z\"/>\n",
              "  </svg>\n",
              "      </button>\n",
              "      \n",
              "  <style>\n",
              "    .colab-df-container {\n",
              "      display:flex;\n",
              "      flex-wrap:wrap;\n",
              "      gap: 12px;\n",
              "    }\n",
              "\n",
              "    .colab-df-convert {\n",
              "      background-color: #E8F0FE;\n",
              "      border: none;\n",
              "      border-radius: 50%;\n",
              "      cursor: pointer;\n",
              "      display: none;\n",
              "      fill: #1967D2;\n",
              "      height: 32px;\n",
              "      padding: 0 0 0 0;\n",
              "      width: 32px;\n",
              "    }\n",
              "\n",
              "    .colab-df-convert:hover {\n",
              "      background-color: #E2EBFA;\n",
              "      box-shadow: 0px 1px 2px rgba(60, 64, 67, 0.3), 0px 1px 3px 1px rgba(60, 64, 67, 0.15);\n",
              "      fill: #174EA6;\n",
              "    }\n",
              "\n",
              "    [theme=dark] .colab-df-convert {\n",
              "      background-color: #3B4455;\n",
              "      fill: #D2E3FC;\n",
              "    }\n",
              "\n",
              "    [theme=dark] .colab-df-convert:hover {\n",
              "      background-color: #434B5C;\n",
              "      box-shadow: 0px 1px 3px 1px rgba(0, 0, 0, 0.15);\n",
              "      filter: drop-shadow(0px 1px 2px rgba(0, 0, 0, 0.3));\n",
              "      fill: #FFFFFF;\n",
              "    }\n",
              "  </style>\n",
              "\n",
              "      <script>\n",
              "        const buttonEl =\n",
              "          document.querySelector('#df-e05ed3e8-7e1a-4645-8a42-da0339ca7cf8 button.colab-df-convert');\n",
              "        buttonEl.style.display =\n",
              "          google.colab.kernel.accessAllowed ? 'block' : 'none';\n",
              "\n",
              "        async function convertToInteractive(key) {\n",
              "          const element = document.querySelector('#df-e05ed3e8-7e1a-4645-8a42-da0339ca7cf8');\n",
              "          const dataTable =\n",
              "            await google.colab.kernel.invokeFunction('convertToInteractive',\n",
              "                                                     [key], {});\n",
              "          if (!dataTable) return;\n",
              "\n",
              "          const docLinkHtml = 'Like what you see? Visit the ' +\n",
              "            '<a target=\"_blank\" href=https://colab.research.google.com/notebooks/data_table.ipynb>data table notebook</a>'\n",
              "            + ' to learn more about interactive tables.';\n",
              "          element.innerHTML = '';\n",
              "          dataTable['output_type'] = 'display_data';\n",
              "          await google.colab.output.renderOutput(dataTable, element);\n",
              "          const docLink = document.createElement('div');\n",
              "          docLink.innerHTML = docLinkHtml;\n",
              "          element.appendChild(docLink);\n",
              "        }\n",
              "      </script>\n",
              "    </div>\n",
              "  </div>\n",
              "  "
            ],
            "text/plain": [
              "   0   1   2   3   4   5   6   7   8   9   ...  13  14  15  16  17  18  19  \\\n",
              "0   1   0   0   0   1   0   0   0   1   1  ...   1   1   0   0   0   0   0   \n",
              "1   1   0   0   1   1   0   0   0   1   1  ...   1   1   0   0   0   0   0   \n",
              "2   1   1   0   1   0   1   0   0   1   0  ...   1   0   0   0   0   0   0   \n",
              "3   1   0   0   0   0   0   0   0   0   0  ...   0   0   0   0   0   0   0   \n",
              "4   1   0   0   0   0   0   0   0   1   0  ...   1   0   1   1   0   0   0   \n",
              "\n",
              "   20  21  22  \n",
              "0   0   0   0  \n",
              "1   0   0   1  \n",
              "2   0   0   0  \n",
              "3   1   1   1  \n",
              "4   0   0   0  \n",
              "\n",
              "[5 rows x 23 columns]"
            ]
          },
          "execution_count": 4,
          "metadata": {},
          "output_type": "execute_result"
        }
      ],
      "source": [
        "spect_df = pd.read_excel('/content/drive/MyDrive/Colab Notebooks/CustomDatasets/Heart_Dataset.xlsx',  sheet_name='Sheet1', header=None)\n",
        "spect_df.head()"
      ]
    },
    {
      "cell_type": "code",
      "execution_count": null,
      "metadata": {
        "colab": {
          "base_uri": "https://localhost:8080/",
          "height": 206
        },
        "id": "FueEnZ_mFY3E",
        "outputId": "c62a5c36-f44c-4522-965a-188847cb767a"
      },
      "outputs": [
        {
          "data": {
            "text/html": [
              "\n",
              "  <div id=\"df-b58af53f-ee5e-48d6-b4f0-5807e3f04c16\">\n",
              "    <div class=\"colab-df-container\">\n",
              "      <div>\n",
              "<style scoped>\n",
              "    .dataframe tbody tr th:only-of-type {\n",
              "        vertical-align: middle;\n",
              "    }\n",
              "\n",
              "    .dataframe tbody tr th {\n",
              "        vertical-align: top;\n",
              "    }\n",
              "\n",
              "    .dataframe thead th {\n",
              "        text-align: right;\n",
              "    }\n",
              "</style>\n",
              "<table border=\"1\" class=\"dataframe\">\n",
              "  <thead>\n",
              "    <tr style=\"text-align: right;\">\n",
              "      <th></th>\n",
              "      <th>sepal length (cm)</th>\n",
              "      <th>sepal width (cm)</th>\n",
              "      <th>petal length (cm)</th>\n",
              "      <th>petal width (cm)</th>\n",
              "      <th>target</th>\n",
              "    </tr>\n",
              "  </thead>\n",
              "  <tbody>\n",
              "    <tr>\n",
              "      <th>0</th>\n",
              "      <td>5.1</td>\n",
              "      <td>3.5</td>\n",
              "      <td>1.4</td>\n",
              "      <td>0.2</td>\n",
              "      <td>0</td>\n",
              "    </tr>\n",
              "    <tr>\n",
              "      <th>1</th>\n",
              "      <td>4.9</td>\n",
              "      <td>3.0</td>\n",
              "      <td>1.4</td>\n",
              "      <td>0.2</td>\n",
              "      <td>0</td>\n",
              "    </tr>\n",
              "    <tr>\n",
              "      <th>2</th>\n",
              "      <td>4.7</td>\n",
              "      <td>3.2</td>\n",
              "      <td>1.3</td>\n",
              "      <td>0.2</td>\n",
              "      <td>0</td>\n",
              "    </tr>\n",
              "    <tr>\n",
              "      <th>3</th>\n",
              "      <td>4.6</td>\n",
              "      <td>3.1</td>\n",
              "      <td>1.5</td>\n",
              "      <td>0.2</td>\n",
              "      <td>0</td>\n",
              "    </tr>\n",
              "    <tr>\n",
              "      <th>4</th>\n",
              "      <td>5.0</td>\n",
              "      <td>3.6</td>\n",
              "      <td>1.4</td>\n",
              "      <td>0.2</td>\n",
              "      <td>0</td>\n",
              "    </tr>\n",
              "  </tbody>\n",
              "</table>\n",
              "</div>\n",
              "      <button class=\"colab-df-convert\" onclick=\"convertToInteractive('df-b58af53f-ee5e-48d6-b4f0-5807e3f04c16')\"\n",
              "              title=\"Convert this dataframe to an interactive table.\"\n",
              "              style=\"display:none;\">\n",
              "        \n",
              "  <svg xmlns=\"http://www.w3.org/2000/svg\" height=\"24px\"viewBox=\"0 0 24 24\"\n",
              "       width=\"24px\">\n",
              "    <path d=\"M0 0h24v24H0V0z\" fill=\"none\"/>\n",
              "    <path d=\"M18.56 5.44l.94 2.06.94-2.06 2.06-.94-2.06-.94-.94-2.06-.94 2.06-2.06.94zm-11 1L8.5 8.5l.94-2.06 2.06-.94-2.06-.94L8.5 2.5l-.94 2.06-2.06.94zm10 10l.94 2.06.94-2.06 2.06-.94-2.06-.94-.94-2.06-.94 2.06-2.06.94z\"/><path d=\"M17.41 7.96l-1.37-1.37c-.4-.4-.92-.59-1.43-.59-.52 0-1.04.2-1.43.59L10.3 9.45l-7.72 7.72c-.78.78-.78 2.05 0 2.83L4 21.41c.39.39.9.59 1.41.59.51 0 1.02-.2 1.41-.59l7.78-7.78 2.81-2.81c.8-.78.8-2.07 0-2.86zM5.41 20L4 18.59l7.72-7.72 1.47 1.35L5.41 20z\"/>\n",
              "  </svg>\n",
              "      </button>\n",
              "      \n",
              "  <style>\n",
              "    .colab-df-container {\n",
              "      display:flex;\n",
              "      flex-wrap:wrap;\n",
              "      gap: 12px;\n",
              "    }\n",
              "\n",
              "    .colab-df-convert {\n",
              "      background-color: #E8F0FE;\n",
              "      border: none;\n",
              "      border-radius: 50%;\n",
              "      cursor: pointer;\n",
              "      display: none;\n",
              "      fill: #1967D2;\n",
              "      height: 32px;\n",
              "      padding: 0 0 0 0;\n",
              "      width: 32px;\n",
              "    }\n",
              "\n",
              "    .colab-df-convert:hover {\n",
              "      background-color: #E2EBFA;\n",
              "      box-shadow: 0px 1px 2px rgba(60, 64, 67, 0.3), 0px 1px 3px 1px rgba(60, 64, 67, 0.15);\n",
              "      fill: #174EA6;\n",
              "    }\n",
              "\n",
              "    [theme=dark] .colab-df-convert {\n",
              "      background-color: #3B4455;\n",
              "      fill: #D2E3FC;\n",
              "    }\n",
              "\n",
              "    [theme=dark] .colab-df-convert:hover {\n",
              "      background-color: #434B5C;\n",
              "      box-shadow: 0px 1px 3px 1px rgba(0, 0, 0, 0.15);\n",
              "      filter: drop-shadow(0px 1px 2px rgba(0, 0, 0, 0.3));\n",
              "      fill: #FFFFFF;\n",
              "    }\n",
              "  </style>\n",
              "\n",
              "      <script>\n",
              "        const buttonEl =\n",
              "          document.querySelector('#df-b58af53f-ee5e-48d6-b4f0-5807e3f04c16 button.colab-df-convert');\n",
              "        buttonEl.style.display =\n",
              "          google.colab.kernel.accessAllowed ? 'block' : 'none';\n",
              "\n",
              "        async function convertToInteractive(key) {\n",
              "          const element = document.querySelector('#df-b58af53f-ee5e-48d6-b4f0-5807e3f04c16');\n",
              "          const dataTable =\n",
              "            await google.colab.kernel.invokeFunction('convertToInteractive',\n",
              "                                                     [key], {});\n",
              "          if (!dataTable) return;\n",
              "\n",
              "          const docLinkHtml = 'Like what you see? Visit the ' +\n",
              "            '<a target=\"_blank\" href=https://colab.research.google.com/notebooks/data_table.ipynb>data table notebook</a>'\n",
              "            + ' to learn more about interactive tables.';\n",
              "          element.innerHTML = '';\n",
              "          dataTable['output_type'] = 'display_data';\n",
              "          await google.colab.output.renderOutput(dataTable, element);\n",
              "          const docLink = document.createElement('div');\n",
              "          docLink.innerHTML = docLinkHtml;\n",
              "          element.appendChild(docLink);\n",
              "        }\n",
              "      </script>\n",
              "    </div>\n",
              "  </div>\n",
              "  "
            ],
            "text/plain": [
              "   sepal length (cm)  sepal width (cm)  petal length (cm)  petal width (cm)  \\\n",
              "0                5.1               3.5                1.4               0.2   \n",
              "1                4.9               3.0                1.4               0.2   \n",
              "2                4.7               3.2                1.3               0.2   \n",
              "3                4.6               3.1                1.5               0.2   \n",
              "4                5.0               3.6                1.4               0.2   \n",
              "\n",
              "   target  \n",
              "0       0  \n",
              "1       0  \n",
              "2       0  \n",
              "3       0  \n",
              "4       0  "
            ]
          },
          "execution_count": 5,
          "metadata": {},
          "output_type": "execute_result"
        }
      ],
      "source": [
        "dataset = load_iris()\n",
        "iris_df = pd.DataFrame(dataset.data, columns=dataset.feature_names)\n",
        "iris_df['target'] = pd.Series(dataset.target)\n",
        "iris_df.head()"
      ]
    },
    {
      "cell_type": "markdown",
      "metadata": {
        "id": "mzYNBecxHSjk"
      },
      "source": [
        "### Naive bayes model logic"
      ]
    },
    {
      "cell_type": "code",
      "execution_count": null,
      "metadata": {
        "id": "s39mQ2k5VQBo"
      },
      "outputs": [],
      "source": [
        "class NaiveBayes:\n",
        "  def gaussian_fit(self, X, y):\n",
        "    self.n_samples, self.n_features = X.shape\n",
        "    self.n_classes = len(np.unique(y))\n",
        "\n",
        "    self.mean = np.zeros((self.n_classes, self.n_features))\n",
        "    self.variance = np.zeros((self.n_classes, self.n_features))\n",
        "    self.prior_pred = np.zeros(self.n_classes)\n",
        "\n",
        "    for clas in range(self.n_classes):\n",
        "      X_c = X[y == clas]\n",
        "\n",
        "      self.mean[clas, :] = np.mean(X_c, axis=0)\n",
        "      self.variance[clas, :] = np.var(X_c, axis=0)\n",
        "      self.prior_pred[clas] = X_c.shape[0] / self.n_samples\n",
        "\n",
        "  def gaussian_predict(self, X):\n",
        "    pred = [self.get_gaussian_probability(x) for x in X]\n",
        "    return pred\n",
        "\n",
        "  def get_gaussian_probability(self, x):\n",
        "    posterior_prob = []\n",
        "\n",
        "    for clas in range(self.n_classes):\n",
        "      mean = self.mean[clas]\n",
        "      vari = self.variance[clas]\n",
        "      prior_pred = np.log(self.prior_pred[clas])\n",
        "\n",
        "      posterior_pred = np.sum(np.log(self.gaussian_density(x, mean, vari)))\n",
        "      posterior_pred = prior_pred + posterior_pred\n",
        "      posterior_prob.append(posterior_pred)\n",
        "\n",
        "    return np.argmax(posterior_prob)\n",
        "\n",
        "  def gaussian_density(self, x, mean, variance):\n",
        "    const = 1 / np.sqrt(2 * np.pi * variance)\n",
        "    proba = np.exp(-0.5 * ((x - mean) ** 2 / variance))\n",
        "\n",
        "    return const * proba\n",
        "\n",
        "  def discrete_fit(self, X, y):\n",
        "    self.n_samples, self.n_features = X.shape\n",
        "    self.n_classes = len(np.unique(y))\n",
        "    self.likelihood_prob = np.zeros((self.n_classes, self.n_features))\n",
        "    self.prior_prob = np.zeros(self.n_classes)\n",
        "\n",
        "    for clas in range(self.n_classes):\n",
        "      x = X[y == clas]\n",
        "      self.prior_prob[clas] = x.shape[0] / self.n_samples\n",
        "\n",
        "      for feature in range(self.n_features):\n",
        "        self.likelihood_prob[clas][feature] = np.log((np.sum(x[:, feature]) + 1) / (len(x) + 1))\n",
        "\n",
        "  def discrete_predict(self, X):\n",
        "    pred = [self.get_discrete_probability(x) for x in X]\n",
        "    return pred\n",
        "\n",
        "  def get_discrete_probability(self, x):\n",
        "    posterior_prob = []\n",
        "\n",
        "    for clas in range(self.n_classes):\n",
        "      posterior_prob.append(np.sum(self.likelihood_prob[clas]) + np.log(self.prior_prob[clas]))\n",
        "\n",
        "    return np.argmax(posterior_prob)"
      ]
    },
    {
      "cell_type": "code",
      "execution_count": null,
      "metadata": {
        "id": "u8YSIxEdaaYo"
      },
      "outputs": [],
      "source": [
        "def performance_measures_continuous(cm):\n",
        "  fp = cm.sum(axis=0) - np.diag(cm)\n",
        "  fn = cm.sum(axis=1) - np.diag(cm)\n",
        "  tp = np.diag(cm)\n",
        "  tn = cm.sum() - (fp + fn + tp)\n",
        "\n",
        "  tpr = tp/(tp+fn)\n",
        "  fpr = fp/(fp+tn)\n",
        "\n",
        "  print_tpr = '\\n'.join([f' {idx} --> {tprr:.03f}' for idx, tprr in enumerate(tpr)])\n",
        "  print_fpr = '\\n'.join([f' {idx} --> {fprr:.03f}' for idx, fprr in enumerate(fpr)])\n",
        "\n",
        "  print(f'\\nTrue Positive Rate (Sensitivity) for each class:\\n{print_tpr}')\n",
        "  print(f'\\nFalse Positive Rate (Fall Out) for each class:\\n{print_fpr}')\n",
        "\n",
        "  return tp, fp, tn, fn"
      ]
    },
    {
      "cell_type": "code",
      "execution_count": null,
      "metadata": {
        "id": "Cz8Ml_3DKllR"
      },
      "outputs": [],
      "source": [
        "def performance_measures_discrete(test_y, y_pred):\n",
        "  tp = 0\n",
        "  fp = 0\n",
        "  tn = 0\n",
        "  fn = 0\n",
        "\n",
        "  for i in range(len(test_y)):\n",
        "    if test_y[i] == y_pred[i] == 1:\n",
        "      tp += 1\n",
        "    if test_y[i] != y_pred[i] and test_y[i] == 1:\n",
        "      fn += 1\n",
        "    if test_y[i] == y_pred[i] == 0:\n",
        "      tn += 1\n",
        "    if test_y[i] != y_pred[i] and test_y[i] == 0:\n",
        "      fp += 1\n",
        "\n",
        "  print(f'True Positive Rate (Sensitivity) = {tp/(tp+fn):.03f}')\n",
        "  print(f'False Positive Rate (Fall Out) = {fp/(fp+tn):.03f}')\n",
        "\n",
        "  return tp, fp, tn, fn"
      ]
    },
    {
      "cell_type": "code",
      "execution_count": null,
      "metadata": {
        "id": "-b111qlGYRTQ"
      },
      "outputs": [],
      "source": [
        "def relative_absolute_error(test_y, y_pred):\n",
        "  return abs(test_y - y_pred).sum() / abs(test_y - test_y.mean()).sum()"
      ]
    },
    {
      "cell_type": "markdown",
      "metadata": {
        "id": "7-ZQI_CuG6yc"
      },
      "source": [
        "### IRIS Dataset"
      ]
    },
    {
      "cell_type": "code",
      "execution_count": null,
      "metadata": {
        "id": "Rsiv6eHOEXrW"
      },
      "outputs": [],
      "source": [
        "train_df, test_df = train_test_split(iris_df, test_size=0.2, random_state=21)"
      ]
    },
    {
      "cell_type": "code",
      "execution_count": null,
      "metadata": {
        "id": "2gUlKqys16Rr"
      },
      "outputs": [],
      "source": [
        "train_data = train_df.to_numpy()\n",
        "X = train_data.T[:-1].T\n",
        "y = train_data.T[-1].T"
      ]
    },
    {
      "cell_type": "code",
      "execution_count": null,
      "metadata": {
        "id": "4u2ESvzM85CD"
      },
      "outputs": [],
      "source": [
        "test_data = test_df.to_numpy()\n",
        "test_X = test_data.T[:-1].T\n",
        "test_y = test_data.T[-1].T"
      ]
    },
    {
      "cell_type": "code",
      "execution_count": null,
      "metadata": {
        "id": "2kvP0eAytQao"
      },
      "outputs": [],
      "source": [
        "model = NaiveBayes()\n",
        "model.gaussian_fit(X, y)"
      ]
    },
    {
      "cell_type": "code",
      "execution_count": null,
      "metadata": {
        "colab": {
          "base_uri": "https://localhost:8080/"
        },
        "id": "CPVUnUZKGnzQ",
        "outputId": "cc20dabc-3587-4e72-a5a8-1b3679a175a3"
      },
      "outputs": [
        {
          "name": "stdout",
          "output_type": "stream",
          "text": [
            "Accuracy for the IRIS Dataset = 96.667 %\n"
          ]
        }
      ],
      "source": [
        "y_pred = model.gaussian_predict(test_X)\n",
        "print(f'Accuracy for the IRIS Dataset = {100*accuracy_score(test_y, y_pred):.3f} %')"
      ]
    },
    {
      "cell_type": "code",
      "execution_count": null,
      "metadata": {
        "colab": {
          "base_uri": "https://localhost:8080/"
        },
        "id": "28hnniS8TS8U",
        "outputId": "6e23dd5c-6c83-422d-9df7-7bdb17bad9e7"
      },
      "outputs": [
        {
          "name": "stdout",
          "output_type": "stream",
          "text": [
            "Correctly classified instances = 29\n",
            "Incorrectly classified instances = 1\n"
          ]
        }
      ],
      "source": [
        "correctly_classified = len(test_y[test_y == y_pred])\n",
        "incorrectly_classified = len(test_y) - correctly_classified\n",
        "\n",
        "print(f'Correctly classified instances = {correctly_classified}')\n",
        "print(f'Incorrectly classified instances = {incorrectly_classified}')"
      ]
    },
    {
      "cell_type": "code",
      "execution_count": null,
      "metadata": {
        "colab": {
          "base_uri": "https://localhost:8080/"
        },
        "id": "fqjB46iNTwVC",
        "outputId": "34403a21-0858-4d02-8d3a-fe49ea593519"
      },
      "outputs": [
        {
          "name": "stdout",
          "output_type": "stream",
          "text": [
            "Kappa Score = 0.949238578680203\n"
          ]
        }
      ],
      "source": [
        "print(f'Kappa Score = {cohen_kappa_score(test_y.tolist(), y_pred)}')"
      ]
    },
    {
      "cell_type": "code",
      "execution_count": null,
      "metadata": {
        "colab": {
          "base_uri": "https://localhost:8080/"
        },
        "id": "dKHBcoTKQvep",
        "outputId": "890f406e-6de8-4d81-af69-eaa96a398f0a"
      },
      "outputs": [
        {
          "name": "stdout",
          "output_type": "stream",
          "text": [
            "Root Mean Square Error (RMSE) = 0.18257418583505536\n"
          ]
        }
      ],
      "source": [
        "print(f'Root Mean Square Error (RMSE) = {np.sqrt(((y_pred - test_y) ** 2).mean())}')"
      ]
    },
    {
      "cell_type": "code",
      "execution_count": null,
      "metadata": {
        "colab": {
          "base_uri": "https://localhost:8080/"
        },
        "id": "omwjIRpgYr6T",
        "outputId": "c45f1009-3696-48b1-b2bf-46fa52480c9a"
      },
      "outputs": [
        {
          "name": "stdout",
          "output_type": "stream",
          "text": [
            "Relative Absolute Error (RAE) = 0.05244755244755245\n"
          ]
        }
      ],
      "source": [
        "print(f'Relative Absolute Error (RAE) = {relative_absolute_error(test_y, y_pred)}')"
      ]
    },
    {
      "cell_type": "code",
      "execution_count": null,
      "metadata": {
        "colab": {
          "base_uri": "https://localhost:8080/",
          "height": 279
        },
        "id": "XIUzbPpoRjCJ",
        "outputId": "e40a17c7-b39b-4b30-86b2-9d36acdf0e83"
      },
      "outputs": [
        {
          "data": {
            "image/png": "[encoded data removed]",
            "text/plain": [
              "<Figure size 432x288 with 2 Axes>"
            ]
          },
          "metadata": {
            "needs_background": "light"
          },
          "output_type": "display_data"
        }
      ],
      "source": [
        "cm = confusion_matrix(test_y.tolist(), y_pred)\n",
        "cm_display = ConfusionMatrixDisplay(confusion_matrix=cm)\n",
        "cm_display.plot()\n",
        "plt.show()"
      ]
    },
    {
      "cell_type": "code",
      "execution_count": null,
      "metadata": {
        "colab": {
          "base_uri": "https://localhost:8080/"
        },
        "id": "yp-PDXEKIqYF",
        "outputId": "814c022c-5925-4316-e01c-6fdb3b1e5df7"
      },
      "outputs": [
        {
          "name": "stdout",
          "output_type": "stream",
          "text": [
            "              precision    recall  f1-score   support\n",
            "\n",
            "         0.0       1.00      1.00      1.00        11\n",
            "         1.0       1.00      0.92      0.96        12\n",
            "         2.0       0.88      1.00      0.93         7\n",
            "\n",
            "    accuracy                           0.97        30\n",
            "   macro avg       0.96      0.97      0.96        30\n",
            "weighted avg       0.97      0.97      0.97        30\n",
            "\n"
          ]
        }
      ],
      "source": [
        "print(classification_report(test_y, y_pred))"
      ]
    },
    {
      "cell_type": "code",
      "execution_count": null,
      "metadata": {
        "colab": {
          "base_uri": "https://localhost:8080/"
        },
        "id": "6s57ni1cJVEe",
        "outputId": "3e820ffc-f6e9-40c7-efed-80afb2834275"
      },
      "outputs": [
        {
          "name": "stdout",
          "output_type": "stream",
          "text": [
            "\n",
            "True Positive Rate (Sensitivity) for each class:\n",
            " 0 --> 1.000\n",
            " 1 --> 0.917\n",
            " 2 --> 1.000\n",
            "\n",
            "False Positive Rate (Fall Out) for each class:\n",
            " 0 --> 0.000\n",
            " 1 --> 0.000\n",
            " 2 --> 0.043\n"
          ]
        }
      ],
      "source": [
        "tp, fp, tn, fn = performance_measures_continuous(cm)"
      ]
    },
    {
      "cell_type": "code",
      "execution_count": null,
      "metadata": {
        "colab": {
          "base_uri": "https://localhost:8080/"
        },
        "id": "OxHBzGdyStRv",
        "outputId": "21041a3a-6c55-4817-920e-077c62662763"
      },
      "outputs": [
        {
          "name": "stdout",
          "output_type": "stream",
          "text": [
            "Mean Absolute Error (MAE) = 0.03333333333333333\n"
          ]
        }
      ],
      "source": [
        "print(f'Mean Absolute Error (MAE) = {mean_absolute_error(test_y, y_pred)}')"
      ]
    },
    {
      "cell_type": "markdown",
      "metadata": {
        "id": "Kl4fi-bIQzLc"
      },
      "source": [
        "### SPECT Dataset"
      ]
    },
    {
      "cell_type": "code",
      "execution_count": null,
      "metadata": {
        "id": "Ctk4RBSFPpyD"
      },
      "outputs": [],
      "source": [
        "train_df, test_df = train_test_split(spect_df, test_size=0.2, random_state=31)"
      ]
    },
    {
      "cell_type": "code",
      "execution_count": null,
      "metadata": {
        "id": "ojUdXi7IPrwD"
      },
      "outputs": [],
      "source": [
        "train_data = train_df.to_numpy()\n",
        "X = train_data.T[1:].T\n",
        "y = train_data.T[0].T"
      ]
    },
    {
      "cell_type": "code",
      "execution_count": null,
      "metadata": {
        "id": "wM980y_zPzZB"
      },
      "outputs": [],
      "source": [
        "test_data = test_df.to_numpy()\n",
        "test_X = test_data.T[1:].T\n",
        "test_y = test_data.T[0].T"
      ]
    },
    {
      "cell_type": "code",
      "execution_count": null,
      "metadata": {
        "id": "32BpOqljP22p"
      },
      "outputs": [],
      "source": [
        "model = NaiveBayes()\n",
        "model.discrete_fit(X, y)"
      ]
    },
    {
      "cell_type": "code",
      "execution_count": null,
      "metadata": {
        "colab": {
          "base_uri": "https://localhost:8080/"
        },
        "id": "qPmGeX_YIDh-",
        "outputId": "081b9225-2f7a-47ad-8cfa-ee7e4b97592f"
      },
      "outputs": [
        {
          "name": "stdout",
          "output_type": "stream",
          "text": [
            "Accuracy for the SPECT Dataset = 81.250 %\n"
          ]
        }
      ],
      "source": [
        "y_pred = model.discrete_predict(test_X)\n",
        "print(f'Accuracy for the SPECT Dataset = {100*accuracy_score(test_y, y_pred):.3f} %')"
      ]
    },
    {
      "cell_type": "code",
      "execution_count": null,
      "metadata": {
        "colab": {
          "base_uri": "https://localhost:8080/"
        },
        "id": "JGPbS08FVbet",
        "outputId": "31380eaa-07f6-4c88-8009-e697a9957700"
      },
      "outputs": [
        {
          "name": "stdout",
          "output_type": "stream",
          "text": [
            "Correctly classified instances = 13\n",
            "Incorrectly classified instances = 3\n"
          ]
        }
      ],
      "source": [
        "correctly_classified = len(test_y[test_y == y_pred])\n",
        "incorrectly_classified = len(test_y) - correctly_classified\n",
        "\n",
        "print(f'Correctly classified instances = {correctly_classified}')\n",
        "print(f'Incorrectly classified instances = {incorrectly_classified}')"
      ]
    },
    {
      "cell_type": "code",
      "execution_count": null,
      "metadata": {
        "colab": {
          "base_uri": "https://localhost:8080/"
        },
        "id": "1ILzNxxVUGYC",
        "outputId": "a00bf0c8-6120-42f6-8b9e-28d2c8df3560"
      },
      "outputs": [
        {
          "name": "stdout",
          "output_type": "stream",
          "text": [
            "Kappa Score = 0.0\n"
          ]
        }
      ],
      "source": [
        "print(f'Kappa Score = {cohen_kappa_score(test_y.tolist(), y_pred)}')"
      ]
    },
    {
      "cell_type": "code",
      "execution_count": null,
      "metadata": {
        "colab": {
          "base_uri": "https://localhost:8080/"
        },
        "id": "rGobN6UgVVeX",
        "outputId": "96316de1-40b0-4ac6-b714-02aeb48db1f1"
      },
      "outputs": [
        {
          "name": "stdout",
          "output_type": "stream",
          "text": [
            "Root Mean Square Error (RMSE) = 0.4330127018922193\n"
          ]
        }
      ],
      "source": [
        "print(f'Root Mean Square Error (RMSE) = {np.sqrt(((y_pred - test_y) ** 2).mean())}')"
      ]
    },
    {
      "cell_type": "code",
      "execution_count": null,
      "metadata": {
        "colab": {
          "base_uri": "https://localhost:8080/"
        },
        "id": "KFxNUgLvXH_T",
        "outputId": "0ec81c86-6cce-4ce5-f3ca-df8917824b3e"
      },
      "outputs": [
        {
          "name": "stdout",
          "output_type": "stream",
          "text": [
            "Relative Absolute Error (RAE) = 0.6153846153846154\n"
          ]
        }
      ],
      "source": [
        "print(f'Relative Absolute Error (RAE) = {relative_absolute_error(test_y, y_pred)}')"
      ]
    },
    {
      "cell_type": "code",
      "execution_count": null,
      "metadata": {
        "colab": {
          "base_uri": "https://localhost:8080/",
          "height": 279
        },
        "id": "FhE0apZrSV2p",
        "outputId": "6e334906-4cc8-41a7-d19d-90a9c7e4c22d"
      },
      "outputs": [
        {
          "data": {
            "image/png": "[encoded data removed]",
            "text/plain": [
              "<Figure size 432x288 with 2 Axes>"
            ]
          },
          "metadata": {
            "needs_background": "light"
          },
          "output_type": "display_data"
        }
      ],
      "source": [
        "cm = confusion_matrix(test_y.tolist(), y_pred)\n",
        "cm_display = ConfusionMatrixDisplay(confusion_matrix=cm)\n",
        "cm_display.plot()\n",
        "plt.show()"
      ]
    },
    {
      "cell_type": "code",
      "execution_count": null,
      "metadata": {
        "colab": {
          "base_uri": "https://localhost:8080/"
        },
        "id": "sW6-RuAeVU6v",
        "outputId": "fa97a95d-af30-41b9-d80d-206337629ea1"
      },
      "outputs": [
        {
          "name": "stdout",
          "output_type": "stream",
          "text": [
            "True Positive Rate (Sensitivity) = 1.000\n",
            "False Positive Rate (Fall Out) = 1.000\n"
          ]
        }
      ],
      "source": [
        "tp, fp, tn, fn = performance_measures_discrete(test_y, y_pred)"
      ]
    },
    {
      "cell_type": "code",
      "execution_count": null,
      "metadata": {
        "colab": {
          "base_uri": "https://localhost:8080/"
        },
        "id": "i79ONd3QVZfO",
        "outputId": "747cea10-b3b0-4b93-8af1-5ed081307e8b"
      },
      "outputs": [
        {
          "name": "stdout",
          "output_type": "stream",
          "text": [
            "Mean Absolute Error (MAE) = 0.1875\n"
          ]
        }
      ],
      "source": [
        "print(f'Mean Absolute Error (MAE) = {mean_absolute_error(test_y, y_pred)}')"
      ]
    }
  ],
  "metadata": {
    "colab": {
      "provenance": []
    },
    "kernelspec": {
      "display_name": "Python 3.9.13 64-bit",
      "language": "python",
      "name": "python3"
    },
    "language_info": {
      "name": "python",
      "version": "3.9.13"
    },
    "vscode": {
      "interpreter": {
        "hash": "b0fa6594d8f4cbf19f97940f81e996739fb7646882a419484c72d19e05852a7e"
      }
    }
  },
  "nbformat": 4,
  "nbformat_minor": 0
}
