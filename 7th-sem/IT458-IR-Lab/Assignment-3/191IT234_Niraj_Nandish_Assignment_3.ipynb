{
  "nbformat": 4,
  "nbformat_minor": 0,
  "metadata": {
    "colab": {
      "provenance": [],
      "collapsed_sections": []
    },
    "kernelspec": {
      "name": "python3",
      "display_name": "Python 3"
    },
    "language_info": {
      "name": "python"
    }
  },
  "cells": [
    {
      "cell_type": "markdown",
      "source": [
        "# IT 458\n",
        "\n",
        "## Assignment 3\n",
        "\n",
        "### Name: Niraj Nandish\n",
        "\n",
        "### Roll no.: 191IT234\n"
      ],
      "metadata": {
        "id": "4qpml_0VPuZf"
      }
    },
    {
      "cell_type": "markdown",
      "source": [
        "### Import the corpus and required libraries"
      ],
      "metadata": {
        "id": "_T_6Z74L8hRR"
      }
    },
    {
      "cell_type": "code",
      "execution_count": 1,
      "metadata": {
        "colab": {
          "base_uri": "https://localhost:8080/",
          "height": 0
        },
        "id": "heGtKB4pfh7m",
        "outputId": "53429ed3-bb0a-4977-dcf8-f043e3ba1c7c"
      },
      "outputs": [
        {
          "output_type": "stream",
          "name": "stderr",
          "text": [
            "[nltk_data] Downloading package stopwords to /root/nltk_data...\n",
            "[nltk_data]   Package stopwords is already up-to-date!\n",
            "[nltk_data] Downloading package punkt to /root/nltk_data...\n",
            "[nltk_data]   Package punkt is already up-to-date!\n"
          ]
        },
        {
          "output_type": "execute_result",
          "data": {
            "text/plain": [
              "True"
            ]
          },
          "metadata": {},
          "execution_count": 1
        }
      ],
      "source": [
        "import string\n",
        "import nltk\n",
        "import re\n",
        "import pandas as pd\n",
        "\n",
        "nltk.download('stopwords')\n",
        "nltk.download('punkt')"
      ]
    },
    {
      "cell_type": "code",
      "source": [
        "urls = [\n",
        "\"https://www.incredibleindia.org/content/incredible-india-v2/en/destinations/delhi/india-gate.html\",\n",
        "\"https://www.incredibleindia.org/content/incredible-india-v2/en/destinations/delhi/raj-ghat.html\",\n",
        "\"https://www.incredibleindia.org/content/incredible-india-v2/en/destinations/delhi/chhatarpur-mandir.html\",\n",
        "\"https://www.incredibleindia.org/content/incredible-india-v2/en/destinations/delhi/bahai-lotus-temple.html\",\n",
        "\"https://www.incredibleindia.org/content/incredible-india-v2/en/destinations/delhi/connaught-place.html\",\n",
        "\"https://www.incredibleindia.org/content/incredible-india-v2/en/destinations/delhi/chandni-chowk.html\",\n",
        "\"https://www.incredibleindia.org/content/incredible-india-v2/en/destinations/delhi/akshardham.html\",\n",
        "\"https://www.incredibleindia.org/content/incredible-india-v2/en/destinations/delhi/garden-of-five-senses.html\",\n",
        "\"https://www.incredibleindia.org/content/incredible-india-v2/en/destinations/delhi/dilli-haat.html\",\n",
        "\"https://www.incredibleindia.org/content/incredible-india-v2/en/destinations/chennai/cholamandal-artistsa-village.html\",\n",
        "\"https://www.incredibleindia.org/content/incredible-india-v2/en/destinations/chennai/fort-st-george.html\",\n",
        "\"https://www.incredibleindia.org/content/incredible-india-v2/en/destinations/chennai/krishnamacharya-yoga-mandiram.html\",\n",
        "\"https://www.incredibleindia.org/content/incredible-india-v2/en/destinations/chennai/chettinad-cuisine.html\",\n",
        "\"https://www.incredibleindia.org/content/incredible-india-v2/en/destinations/chennai/kalakshetra.html\",\n",
        "\"https://www.incredibleindia.org/content/incredible-india-v2/en/destinations/chennai/filter-coffee.html\",\n",
        "\"https://www.incredibleindia.org/content/incredible-india-v2/en/destinations/chennai/tanjore-paintings.html\",\n",
        "\"https://www.incredibleindia.org/content/incredible-india-v2/en/destinations/chennai/kapaleeswarar-temple.html\",\n",
        "\"https://www.incredibleindia.org/content/incredible-india-v2/en/experiences/spiritual/buddhism.html\",\n",
        "\"https://www.incredibleindia.org/content/incredible-india-v2/en/experiences/spiritual/jainism.html\",\n",
        "\"https://www.incredibleindia.org/content/incredible-india-v2/en/experiences/spiritual/sikhism.html\",\n",
        "\"https://www.incredibleindia.org/content/incredible-india-v2/en/experiences/spiritual/christianity.html\",\n",
        "\"https://www.incredibleindia.org/content/incredible-india-v2/en/experiences/spiritual/islam.html\",\n",
        "\"https://www.incredibleindia.org/content/incredible-india-v2/en/experiences/spiritual/hinduism.html\",\n",
        "\"https://www.incredibleindia.org/content/incredible-india-v2/en/destinations/jaipur/ranthambore-national-park.html\",\n",
        "\"https://www.incredibleindia.org/content/incredible-india-v2/en/destinations/jaipur/mandawa-fort.html\",\n",
        "\"https://www.incredibleindia.org/content/incredible-india-v2/en/destinations/jaipur/amber-fort.html\",\n",
        "\"https://www.incredibleindia.org/content/incredible-india-v2/en/destinations/jaipur/govind-devji-temple.html\",\n",
        "\"https://www.incredibleindia.org/content/incredible-india-v2/en/destinations/jaipur/jantar-mantar.html\",\n",
        "\"https://www.incredibleindia.org/content/incredible-india-v2/en/destinations/jaipur/abhaneri.html\",\n",
        "\"https://www.incredibleindia.org/content/incredible-india-v2/en/destinations/jaipur/kanak-vrindavan.html\",\n",
        "\"https://www.incredibleindia.org/content/incredible-india-v2/en/destinations/jaipur/jaipur-wax-museum.html\",\n",
        "\"https://www.incredibleindia.org/content/incredible-india-v2/en/destinations/jaipur/samode-palace.html\",\n",
        "\"https://www.incredibleindia.org/content/incredible-india-v2/en/destinations/jaipur/jhunjhunu.html\",\n",
        "\"https://www.incredibleindia.org/content/incredible-india-v2/en/destinations/jaipur/jal-mahal.html\",\n",
        "\"https://www.incredibleindia.org/content/incredible-india-v2/en/destinations/jaipur/hawa-mahal.html\",\n",
        "\"https://www.incredibleindia.org/content/incredible-india-v2/en/destinations/mumbai/elephanta-caves.html\",\n",
        "\"https://www.incredibleindia.org/content/incredible-india-v2/en/destinations/mumbai/chhatrapati-shivaji-maharaj-terminus.html\",\n",
        "\"https://www.incredibleindia.org/content/incredible-india-v2/en/destinations/mumbai/global-vipasana-pagoda.html\",\n",
        "\"https://www.incredibleindia.org/content/incredible-india-v2/en/destinations/mumbai/deolali.html\",\n",
        "\"https://www.incredibleindia.org/content/incredible-india-v2/en/destinations/mumbai/bhandardara.html\",\n",
        "\"https://www.incredibleindia.org/content/incredible-india-v2/en/destinations/mumbai/ganeshpuri-temple.html\",\n",
        "\"https://www.incredibleindia.org/content/incredible-india-v2/en/destinations/mumbai/mahalaxmi-temple.html\",\n",
        "\"https://www.incredibleindia.org/content/incredible-india-v2/en/destinations/mumbai/haji-ali-mosque.html\",\n",
        "\"https://www.incredibleindia.org/content/incredible-india-v2/en/destinations/varanasi/sarnath.html\",\n",
        "\"https://www.incredibleindia.org/content/incredible-india-v2/en/destinations/varanasi/kaimoor-wildlife-sanctuary.html\",\n",
        "\"https://www.incredibleindia.org/content/incredible-india-v2/en/destinations/varanasi/ganga-ghats.html\",\n",
        "\"https://www.incredibleindia.org/content/incredible-india-v2/en/destinations/varanasi/dashashwamedh-ghats.html\",\n",
        "\"https://www.incredibleindia.org/content/incredible-india-v2/en/destinations/varanasi/vishwanath-khand.html\",\n",
        "\"https://www.incredibleindia.org/content/incredible-india-v2/en/destinations/varanasi/banaras-hindu-university.html\",\n",
        "\"https://www.incredibleindia.org/content/incredible-india-v2/en/destinations/varanasi/ramnagar-fort.html\",\n",
        "\"https://www.incredibleindia.org/content/incredible-india-v2/en/destinations/udaipur/ahar.html\",\n",
        "\"https://www.incredibleindia.org/content/incredible-india-v2/en/destinations/udaipur/city-palace.html\",\n",
        "\"https://www.incredibleindia.org/content/incredible-india-v2/en/destinations/udaipur/dungarpur.html\",\n",
        "\"https://www.incredibleindia.org/content/incredible-india-v2/en/destinations/udaipur/bagore-ki-haveli.html\",\n",
        "\"https://www.incredibleindia.org/content/incredible-india-v2/en/destinations/udaipur/charbhuja.html\",\n",
        "\"https://www.incredibleindia.org/content/incredible-india-v2/en/destinations/udaipur/fateh-sagar-lake.html\",\n",
        "\"https://www.incredibleindia.org/content/incredible-india-v2/en/destinations/udaipur/ekling-temple.html\",\n",
        "\"https://www.incredibleindia.org/content/incredible-india-v2/en/destinations/udaipur/haldighati.html\",\n",
        "\"https://www.incredibleindia.org/content/incredible-india-v2/en/destinations/haridwar/har-ki-pauri.html\",\n",
        "\"https://www.incredibleindia.org/content/incredible-india-v2/en/destinations/haridwar/patanjali-yogapeeth.html\",\n",
        "\"https://www.incredibleindia.org/content/incredible-india-v2/en/destinations/haridwar/daksh-mahadev-temple-and-sati-kund.html\",\n",
        "\"https://www.incredibleindia.org/content/incredible-india-v2/en/destinations/haridwar/mansa-devi-temple.html\",\n",
        "\"https://www.incredibleindia.org/content/incredible-india-v2/en/destinations/haridwar/kumbh-mela.html\",\n",
        "\"https://www.incredibleindia.org/content/incredible-india-v2/en/destinations/haridwar/chandi-devi-temple.html\",\n",
        "\"https://www.incredibleindia.org/content/incredible-india-v2/en/destinations/kolkata/dakshineswar-temple.html\",\n",
        "\"https://www.incredibleindia.org/content/incredible-india-v2/en/destinations/kolkata/vidyasagar-setu.html\",\n",
        "\"https://www.incredibleindia.org/content/incredible-india-v2/en/destinations/kolkata/academy-of-fine-arts.html\",\n",
        "\"https://www.incredibleindia.org/content/incredible-india-v2/en/destinations/kolkata/writers-building.html\",\n",
        "\"https://www.incredibleindia.org/content/incredible-india-v2/en/destinations/kolkata/victoria-memorial.html\",\n",
        "\"https://www.incredibleindia.org/content/incredible-india-v2/en/destinations/kolkata/alipore-zoological-garden.html\",\n",
        "\"https://www.incredibleindia.org/content/incredible-india-v2/en/destinations/kolkata/star-theatre.html\",\n",
        "\"https://www.incredibleindia.org/content/incredible-india-v2/en/destinations/kolkata/armenian-church.html\",\n",
        "\"https://www.incredibleindia.org/content/incredible-india-v2/en/destinations/kolkata/sovabazar-rajbari.html\",\n",
        "\"https://www.incredibleindia.org/content/incredible-india-v2/en/destinations/kolkata/race-course.html\",\n",
        "\"https://www.incredibleindia.org/content/incredible-india-v2/en/destinations/kolkata/bankura.html\",\n",
        "\"https://www.incredibleindia.org/content/incredible-india-v2/en/destinations/kolkata/belur-math.html\",\n",
        "\"https://www.incredibleindia.org/content/incredible-india-v2/en/destinations/bengaluru/vidhana-soudha.html\",\n",
        "\"https://www.incredibleindia.org/content/incredible-india-v2/en/destinations/bengaluru/bannerghatta-national-park.html\",\n",
        "\"https://www.incredibleindia.org/content/incredible-india-v2/en/destinations/bengaluru/belur.html\",\n",
        "\"https://www.incredibleindia.org/content/incredible-india-v2/en/destinations/bengaluru/bangalore-palace.html\",\n",
        "\"https://www.incredibleindia.org/content/incredible-india-v2/en/destinations/bengaluru/halebeedu--halebidu-.html\",\n",
        "\"https://www.incredibleindia.org/content/incredible-india-v2/en/destinations/bengaluru/br-hills.html\",\n",
        "\"https://www.incredibleindia.org/content/incredible-india-v2/en/destinations/bengaluru/cubbon-park.html\",\n",
        "\"https://www.incredibleindia.org/content/incredible-india-v2/en/destinations/bengaluru/hesaraghatta-lake.html\",\n",
        "\"https://www.incredibleindia.org/content/incredible-india-v2/en/destinations/bengaluru/bull-temple.html\",\n",
        "\"https://www.incredibleindia.org/content/incredible-india-v2/en/destinations/bengaluru/kolar-gold-fields.html\",\n",
        "\"https://www.incredibleindia.org/content/incredible-india-v2/en/destinations/hyderabad/chowmahalla-palace.html\",\n",
        "\"https://www.incredibleindia.org/content/incredible-india-v2/en/destinations/hyderabad/falaknuma-palace.html\",\n",
        "\"https://www.incredibleindia.org/content/incredible-india-v2/en/destinations/hyderabad/hussain-sagar-lake.html\",\n",
        "\"https://www.incredibleindia.org/content/incredible-india-v2/en/destinations/hyderabad/nagarjuna-sagar-dam.html\",\n",
        "\"https://www.incredibleindia.org/content/incredible-india-v2/en/destinations/hyderabad/charminar.html\",\n",
        "\"https://www.incredibleindia.org/content/incredible-india-v2/en/destinations/hyderabad/salar-jung-museum.html\",\n",
        "\"https://www.incredibleindia.org/content/incredible-india-v2/en/destinations/hyderabad/birla-mandir.html\",\n",
        "\"https://www.incredibleindia.org/content/incredible-india-v2/en/destinations/hyderabad/ananda-buddha-vihara.html\",\n",
        "\"https://www.incredibleindia.org/content/incredible-india-v2/en/destinations/hyderabad/chilkur-balaji-temple.html\",\n",
        "\"https://www.incredibleindia.org/content/incredible-india-v2/en/destinations/kochi/fort-kochi.html\",\n",
        "\"https://www.incredibleindia.org/content/incredible-india-v2/en/destinations/hyderabad/purani-haveli.html\",\n",
        "\"https://www.incredibleindia.org/content/incredible-india-v2/en/destinations/kochi/athirapally-waterfalls.html\",\n",
        "\"https://www.incredibleindia.org/content/incredible-india-v2/en/destinations/kochi/bishop-s-house.html\",\n",
        "\"https://www.incredibleindia.org/content/incredible-india-v2/en/destinations/kochi/chinese-fishing-nets.html\"\n",
        "]\n",
        "        \n",
        "docs_list = []"
      ],
      "metadata": {
        "id": "GouEPLPLfmvR"
      },
      "execution_count": 2,
      "outputs": []
    },
    {
      "cell_type": "code",
      "source": [
        "import urllib.request\n",
        "from bs4 import BeautifulSoup\n",
        "\n",
        "for url in urls:\n",
        "    html = urllib.request.urlopen(url)\n",
        "    htmlParse = BeautifulSoup(html, 'html.parser')\n",
        "    para = htmlParse.find(\"div\", {\"class\": \"read-more-hide\"}).p.get_text()\n",
        "    docs_list.append(para)"
      ],
      "metadata": {
        "id": "qXTQe8zFfpuH"
      },
      "execution_count": 3,
      "outputs": []
    },
    {
      "cell_type": "code",
      "source": [
        "import copy\n",
        "docs = copy.deepcopy(docs_list)\n",
        "print(docs_list[1])\n",
        "len(docs_list)\n",
        "corpus = docs_list"
      ],
      "metadata": {
        "id": "65VO_imrtUAO",
        "colab": {
          "base_uri": "https://localhost:8080/",
          "height": 0
        },
        "outputId": "2a8b6710-6058-48ad-f76f-3f3c2293544a"
      },
      "execution_count": 4,
      "outputs": [
        {
          "output_type": "stream",
          "name": "stdout",
          "text": [
            "Built in the memory of Mohandas Karamchand Gandhi, who is revered as the Father of the Nation, Raj Ghat is a marble platform where he was cremated on January 31, 1948. Lying on the banks of the Yamuna river, Rajghat is fringed by lush well-manicured lawns that are dotted with trees. The mortal remains of Gandhiji were cremated at this ghat.\n"
          ]
        }
      ]
    },
    {
      "cell_type": "markdown",
      "source": [
        "### Pre-process the corpus\n",
        "\n",
        "1. Tokenization\n",
        "2. Normalization\n",
        "3. Stemming and Lemmatization\n",
        "4. Removal of Stopwords\n",
        "\n"
      ],
      "metadata": {
        "id": "1JE3DnOL-mNk"
      }
    },
    {
      "cell_type": "code",
      "source": [
        "import nltk\n",
        "from nltk.corpus import stopwords\n",
        "from functools import reduce\n",
        "from collections import defaultdict\n",
        "from nltk import WordNetLemmatizer\n",
        "from nltk.tokenize import word_tokenize\n",
        "from nltk.corpus import stopwords\n",
        "from nltk.stem import PorterStemmer, SnowballStemmer\n",
        "from nltk.tokenize import word_tokenize\n",
        "import string\n",
        "import re\n",
        "from functools import reduce\n",
        "\n",
        "nltk.download('stopwords')\n",
        "nltk.download('punkt')\n",
        "nltk.download('wordnet')\n",
        "nltk.download('omw-1.4')"
      ],
      "metadata": {
        "colab": {
          "base_uri": "https://localhost:8080/",
          "height": 0
        },
        "id": "Pa1QJLehoY-u",
        "outputId": "f37b8910-1920-4c6d-bca1-5c810b11c644"
      },
      "execution_count": 5,
      "outputs": [
        {
          "output_type": "stream",
          "name": "stderr",
          "text": [
            "[nltk_data] Downloading package stopwords to /root/nltk_data...\n",
            "[nltk_data]   Package stopwords is already up-to-date!\n",
            "[nltk_data] Downloading package punkt to /root/nltk_data...\n",
            "[nltk_data]   Package punkt is already up-to-date!\n",
            "[nltk_data] Downloading package wordnet to /root/nltk_data...\n",
            "[nltk_data]   Package wordnet is already up-to-date!\n",
            "[nltk_data] Downloading package omw-1.4 to /root/nltk_data...\n",
            "[nltk_data]   Package omw-1.4 is already up-to-date!\n"
          ]
        },
        {
          "output_type": "execute_result",
          "data": {
            "text/plain": [
              "True"
            ]
          },
          "metadata": {},
          "execution_count": 5
        }
      ]
    },
    {
      "cell_type": "code",
      "source": [
        "def count_tokens(arr):\n",
        "    print(f'Vocabulary size: {len(set(reduce(lambda x, y: x + y, arr)))}')\n",
        "\n",
        "def remove_punctuation(text):\n",
        "    trans = str.maketrans('', '', string.punctuation)\n",
        "    return text.translate(trans)\n",
        "\n",
        "print(f'Total number of distinct tokens in each document of corpus: {sum(map(lambda x: len(x), corpus))}')"
      ],
      "metadata": {
        "id": "9XBcvxhSvWFs",
        "colab": {
          "base_uri": "https://localhost:8080/",
          "height": 0
        },
        "outputId": "ae1acb8e-d17d-4ece-c174-58612a2e014d"
      },
      "execution_count": 6,
      "outputs": [
        {
          "output_type": "stream",
          "name": "stdout",
          "text": [
            "Total number of distinct tokens in each document of corpus: 103508\n"
          ]
        }
      ]
    },
    {
      "cell_type": "code",
      "source": [
        "corpus_tokens = []\n",
        "\n",
        "for doc in corpus:\n",
        "    corpus_tokens.append(word_tokenize(doc))\n",
        "  \n",
        "count_tokens(corpus_tokens)"
      ],
      "metadata": {
        "id": "OCH-k48Rf2FY",
        "colab": {
          "base_uri": "https://localhost:8080/",
          "height": 0
        },
        "outputId": "30258ea1-2fee-4e08-8ea1-67f892a64d62"
      },
      "execution_count": 7,
      "outputs": [
        {
          "output_type": "stream",
          "name": "stdout",
          "text": [
            "Vocabulary size: 4239\n"
          ]
        }
      ]
    },
    {
      "cell_type": "code",
      "source": [
        "normalized_tokens = []\n",
        "\n",
        "for tokens in corpus_tokens:\n",
        "    normalized_doc_tokens = []\n",
        "\n",
        "    for token in tokens:\n",
        "        token = remove_punctuation(token).lower()\n",
        "\n",
        "        if token.isalpha():\n",
        "            normalized_doc_tokens.append(token)\n",
        "\n",
        "    normalized_tokens.append(normalized_doc_tokens)\n",
        "  \n",
        "count_tokens(normalized_tokens)"
      ],
      "metadata": {
        "id": "c5N29zUunlXm",
        "colab": {
          "base_uri": "https://localhost:8080/",
          "height": 0
        },
        "outputId": "c7da8339-65c4-44c7-8ebc-f6fb98e0b154"
      },
      "execution_count": 8,
      "outputs": [
        {
          "output_type": "stream",
          "name": "stdout",
          "text": [
            "Vocabulary size: 3751\n"
          ]
        }
      ]
    },
    {
      "cell_type": "code",
      "source": [
        "wordnet = WordNetLemmatizer()\n",
        "lemmatized_tokens = []\n",
        "\n",
        "for tokens in normalized_tokens:\n",
        "    lemma = []\n",
        "\n",
        "    for token in tokens:\n",
        "        lemma.append(wordnet.lemmatize(wordnet.lemmatize(token, pos='v'), pos='n'))\n",
        "\n",
        "    lemmatized_tokens.append(lemma)\n",
        "\n",
        "count_tokens(lemmatized_tokens)"
      ],
      "metadata": {
        "id": "Xfi0hDIwp9za",
        "colab": {
          "base_uri": "https://localhost:8080/",
          "height": 0
        },
        "outputId": "349e4766-d3ae-4a4f-e037-f41bd3172eb8"
      },
      "execution_count": 9,
      "outputs": [
        {
          "output_type": "stream",
          "name": "stdout",
          "text": [
            "Vocabulary size: 3146\n"
          ]
        }
      ]
    },
    {
      "cell_type": "code",
      "source": [
        "final_tokens = []\n",
        "\n",
        "for tokens in lemmatized_tokens:\n",
        "    final_tokens.append([token for token in tokens if not token in stopwords.words(\"english\")])\n",
        "\n",
        "count_tokens(final_tokens)"
      ],
      "metadata": {
        "id": "b1O9q2UCtT3x",
        "colab": {
          "base_uri": "https://localhost:8080/",
          "height": 0
        },
        "outputId": "01581289-9532-47fc-8e87-85f5083db8a2"
      },
      "execution_count": 10,
      "outputs": [
        {
          "output_type": "stream",
          "name": "stdout",
          "text": [
            "Vocabulary size: 3053\n"
          ]
        }
      ]
    },
    {
      "cell_type": "markdown",
      "source": [
        "### Generate the Term Weights\n",
        "\n",
        "Use the TF-IDF weighting scheme, with custom variants of the TF and IDF weighting schemes\n",
        "\n",
        "Calculate the weights - $w_{i,j} = tf_{i,j} * idf_i$"
      ],
      "metadata": {
        "id": "r976AYQ151Y6"
      }
    },
    {
      "cell_type": "code",
      "source": [
        "vocab = list(set(reduce(lambda x, y: x + y, final_tokens)))\n",
        "inv_vocab = { word: idx for idx, word in enumerate(vocab) }"
      ],
      "metadata": {
        "id": "shaIfKesy71L"
      },
      "execution_count": 11,
      "outputs": []
    },
    {
      "cell_type": "code",
      "source": [
        "import numpy as np\n",
        "def generate_weights(tf_func, idf_func):\n",
        "    inc_matrix = np.empty(shape=(100, len(vocab))).astype(int)\n",
        "    inc_matrix.fill(0)\n",
        "\n",
        "    tf_table = np.empty(shape=(100, len(vocab))).astype(float)\n",
        "    tf_table.fill(0)\n",
        "\n",
        "    weights = np.empty(shape=(100, len(vocab))).astype(float)\n",
        "    weights.fill(0)\n",
        "\n",
        "    inverted_index = defaultdict(set)\n",
        "    doc_freq_table = np.zeros(len(vocab)).astype(int)\n",
        "    idf_table = np.zeros(len(vocab))\n",
        "\n",
        "    # Incidence Matrix\n",
        "    for doc_id, tokens in enumerate(final_tokens):\n",
        "        for token in tokens:\n",
        "            inc_matrix[doc_id][inv_vocab[token]] += 1\n",
        "\n",
        "    # Table of TF weights\n",
        "    for i in range(inc_matrix.shape[0]):\n",
        "        for j in range(inc_matrix.shape[1]):\n",
        "            tf_table[i][j] = tf_func(inc_matrix[i][j], inc_matrix[i].max())\n",
        "\n",
        "    # Inverted Index\n",
        "    for docid, tokens in enumerate(final_tokens):\n",
        "        for token in tokens:\n",
        "            inverted_index[token].add(docid)\n",
        "\n",
        "    # Count of document frequency n(i) for term k(i)\n",
        "    for term, docs in inverted_index.items():\n",
        "        doc_freq_table[inv_vocab[term]] = len(docs)\n",
        "\n",
        "    # Table of IDF weights\n",
        "    for i in range(len(vocab)):\n",
        "        idf_table[i] = idf_func(doc_freq_table[i])\n",
        "\n",
        "    # Calculate weights\n",
        "    for i in range(tf_table.shape[0]):\n",
        "        for j in range(tf_table.shape[1]):\n",
        "          weights[i][j] = tf_table[i][j] * idf_table[i]\n",
        "\n",
        "    return weights, idf_table"
      ],
      "metadata": {
        "id": "igMeYbmLWwLN"
      },
      "execution_count": 12,
      "outputs": []
    },
    {
      "cell_type": "code",
      "source": [
        "def log_norm(f_ij, _):\n",
        "    return 1 + np.log2(f_ij) if f_ij != 0 else 0\n",
        "\n",
        "def inv_freq(n_i, N = 100):\n",
        "    return np.log2(N / n_i)"
      ],
      "metadata": {
        "id": "Xfn-NamzsqFn"
      },
      "execution_count": 13,
      "outputs": []
    },
    {
      "cell_type": "code",
      "source": [
        "weights, idf_table = generate_weights(log_norm, inv_freq)\n",
        "weights"
      ],
      "metadata": {
        "id": "lFoJFg5cIBYn",
        "colab": {
          "base_uri": "https://localhost:8080/",
          "height": 0
        },
        "outputId": "206662c0-e6c8-476a-8864-dbdc7777ab69"
      },
      "execution_count": 14,
      "outputs": [
        {
          "output_type": "execute_result",
          "data": {
            "text/plain": [
              "array([[0., 0., 0., ..., 0., 0., 0.],\n",
              "       [0., 0., 0., ..., 0., 0., 0.],\n",
              "       [0., 0., 0., ..., 0., 0., 0.],\n",
              "       ...,\n",
              "       [0., 0., 0., ..., 0., 0., 0.],\n",
              "       [0., 0., 0., ..., 0., 0., 0.],\n",
              "       [0., 0., 0., ..., 0., 0., 0.]])"
            ]
          },
          "metadata": {},
          "execution_count": 14
        }
      ]
    },
    {
      "cell_type": "code",
      "source": [
        "idf_table"
      ],
      "metadata": {
        "colab": {
          "base_uri": "https://localhost:8080/",
          "height": 0
        },
        "id": "tpDkVaXMJ0Ga",
        "outputId": "d6ee27c9-491c-4d71-fde6-cf9b4eb66ba5"
      },
      "execution_count": 15,
      "outputs": [
        {
          "output_type": "execute_result",
          "data": {
            "text/plain": [
              "array([5.05889369, 5.05889369, 6.64385619, ..., 6.64385619, 6.64385619,\n",
              "       6.64385619])"
            ]
          },
          "metadata": {},
          "execution_count": 15
        }
      ]
    },
    {
      "cell_type": "markdown",
      "source": [
        "### Sample queries"
      ],
      "metadata": {
        "id": "e3fF3Z5STX0m"
      }
    },
    {
      "cell_type": "code",
      "source": [
        "Q1 = 'Temples in Karnataka'\n",
        "Q2 = 'Massive hills located in Karnataka'"
      ],
      "metadata": {
        "id": "z3q_U5Y2IFyh"
      },
      "execution_count": 16,
      "outputs": []
    },
    {
      "cell_type": "markdown",
      "source": [
        "### Generate ranked list of documents for queries"
      ],
      "metadata": {
        "id": "JKJnaTMiN3tV"
      }
    },
    {
      "cell_type": "code",
      "source": [
        "def process_query(q):\n",
        "    tokens = word_tokenize(q)\n",
        "    tokens = [remove_punctuation(token).lower() for token in tokens if token.isalpha()]\n",
        "    tokens = [wordnet.lemmatize(wordnet.lemmatize(token, pos='v'), pos='n') for token in tokens]\n",
        "    tokens = [token for token in tokens if not token in stopwords.words(\"english\")]\n",
        "\n",
        "    return tokens\n",
        "  \n",
        "q1 = process_query(Q1)\n",
        "q2 = process_query(Q2)"
      ],
      "metadata": {
        "id": "SEhpLUlsIIAK"
      },
      "execution_count": 17,
      "outputs": []
    },
    {
      "cell_type": "code",
      "source": [
        "def query_weights(q, tf_var_func):\n",
        "    token_inc = np.zeros(len(vocab))\n",
        "    tf_q = np.zeros(len(vocab))\n",
        "    weights_q = np.zeros(len(vocab))\n",
        "\n",
        "    for token in q:\n",
        "        if token in vocab:\n",
        "          token_inc[inv_vocab[token]] += 1\n",
        "\n",
        "    for idx, tf in enumerate(token_inc):\n",
        "        tf_q[idx] = tf_var_func(tf, token_inc.max())\n",
        "        weights_q[idx] = tf_q[idx] * idf_table[idx]\n",
        "\n",
        "    return weights_q\n",
        "\n",
        "weights_q = np.empty(shape=(2, len(vocab)))\n",
        "\n",
        "weights_q[0] = query_weights(q1, log_norm)\n",
        "weights_q[1] = query_weights(q2, log_norm)"
      ],
      "metadata": {
        "id": "bWeJ9xcOIK5U"
      },
      "execution_count": 18,
      "outputs": []
    },
    {
      "cell_type": "code",
      "source": [
        "def cos_sim(w1, w2):\n",
        "    return (w1 * w2).sum() / ( np.sqrt((w1 ** 2).sum()) * np.sqrt((w2 ** 2).sum()) )"
      ],
      "metadata": {
        "id": "rky-WLVvIN0Z"
      },
      "execution_count": 19,
      "outputs": []
    },
    {
      "cell_type": "code",
      "source": [
        "def ranking(weights_q, query, ranks=10):\n",
        "    q_similarities = []\n",
        "\n",
        "    for doc_weights in weights:\n",
        "        q_similarities.append(cos_sim(doc_weights, weights_q))\n",
        "\n",
        "    sim_ranks = np.argsort(q_similarities)[::-1][:ranks]\n",
        "\n",
        "    similarity_ranks = '\\n '.join(map(lambda x: docs_list[x], sim_ranks))\n",
        "\n",
        "    print(query, end='\\n\\n')\n",
        "    print(f'Document ranks (First {ranks}) based on similarity (Cosine similarity):\\n {similarity_ranks}', end='\\n\\n')"
      ],
      "metadata": {
        "id": "MeLJItOfIPbw"
      },
      "execution_count": 20,
      "outputs": []
    },
    {
      "cell_type": "code",
      "source": [
        "ranking(weights_q[0], Q1, 10)"
      ],
      "metadata": {
        "colab": {
          "base_uri": "https://localhost:8080/",
          "height": 0
        },
        "id": "i3a098N4IlN4",
        "outputId": "e1edcfe4-5b69-45cd-d550-6352aa1fd56a"
      },
      "execution_count": 21,
      "outputs": [
        {
          "output_type": "stream",
          "name": "stdout",
          "text": [
            "Temples in Karnataka\n",
            "\n",
            "Document ranks (First 10) based on similarity (Cosine similarity):\n",
            " Belur is a popular temple town of Karnataka that stands as a proud reminder of the princely past of the Hoysala empire. The Hoysalas were known as patrons of temple construction and the temples constructed under their rule are noted for their minute and intricate carvings and sculptures adorned with metal-like polishing. The prime attraction at Belur is the popular Chennakeshava Temple, dedicated to Lord Chennakeshava, an incarnation of Lord Vishnu. It rests on a star-shaped platform and houses two smaller shrines of Lord Chennakesava's consorts, Soumyanayaki and Ranganayaki. The temple's facade is decorated with intricate sculptures and the interior houses 48 pillars of varied shapes, sizes and designs. Visitors can also admire fine carvings depicting scenes from epics like Ramayana and Mahabharata. Towards the right of the main entrance gate lies a stepped well or pushkarni that is another attraction.\n",
            " The Mahalaxmi Temple is an ancient shrine dedicated to Goddess Laxmi, Goddess Mahakali and Goddess Mahasaraswati, whose idols are adorned with resplendent jewellery, including nose rings, pearl necklaces and gold bangles. This beautiful temple overlooking the Arabian Sea at one end of Breach Candy, now known as Bhulabhai Desai Road, is in a trendy residential and shopping area. One of the oldest temples in the city, the Mahalaxmi Temple is renowned for its exquisite architecture and intricate designs. The main doorway leading to the temple complex is luxuriously ornamented attracting not only pilgrims but also avid photographers. The temple was built between the 16th and 17th centuries. Several stalls stationed outside the temple sell items used in the worship of the goddesses.\n",
            "\n",
            " Four hours away from Udaipur lies the grand and ancient Charbhuja (meaning four-armed) temple, built in 1444 and dedicated to Lord Vishnu. Situated inGarbhor village of Rajsamand district, the temple is at a distance of 61 km from Udaipur. The walls of the temple are adorned with pictures depicting tales from Bhagwat. It is also a fine specimen of excellent mirror work and is made from lime mortars and marble. Visiting the temple is a peaceful experience and must be undertaken during a trip to Udaipur.\n",
            " One of the most prominent shrines in the city, Dakshineswar Kali Temple is dedicated to Goddess Kali. Located on the banks of the Hooghly river, the temple sprawls over an area of 25 acre. The main temple is a nine-spired structure and is surrounded by a huge courtyard that has rooms along the boundary. On the riverfront, there are about 12 shrines dedicated to Lord Shiva, along with a temple of Lord Krishna and Goddess Radha and a shrine of Rani Rashmoni, who is believed to have constructed the temple. She was an ardent devotee of Goddess Kali. The temple is also known for its association with Ramakrishna, a mystic of the 19th century. Legend has it that the idols of the goddess and gods were established on the snana-yatra day, which is considered auspicious by the Hindus.\n",
            " Believed to the second-deepest gold mines in the world, the Kolar Gold Fields is located at a distance of 100 km from Bengaluru and invites visitors from all parts of the country. Known for its old-world charm and British-era bungalows, the place is home to the now defunct gold mines, which were once counted among the major gold mines of the country. Some of the prime attractions here include the KGF Club, the Golf Course and numerous beautiful temples. The Kotilingeshwara Temple at Kammasandra is one of the most-visited temples in the state. It houses a huge shivling and a Nandi statue, along with as many as 86 lakh shivlings. Other temples of interest include the Sita Temple, situated on a hilltop in Avani, and the ancient Bangaru Tirupati temple, dedicated to Lord Venkateshwara.\n",
            " The Chilkur Balaji Temple, located on the outskirts of Hyderabad, on the banks of the Osman Sagar Lake, is a popular site for the devotees of  Lord Balaji Venkateswara. It is believed that prayers offered after 11 pradakshanas (rounds) of the temple come true on the condition that once the prayer is fulfilled, devotees have to come back and do an added 108 pradakshanas (circumambulation). Devotees can be seen walking around the temple late into the night. The temple is also known as visa temple, as it is said that people attempting to obtain a visa to any country are never disappointed if they pray here. The temple has beautiful architecture and it is believed that it was built more than half a millennium ago. The main deity is Lord Balaji Venkateswara, who is accompanied by Sridevi and Bhoodevi.Legend has it that the temple was built by a devotee who couldn't visit the famous  Tirupati Temple due to his health condition. Moved by his devotion, the lord himself appeared to him and asked him to build his temple at this spot.\n",
            "\n",
            " Dedicated to Goddess Katyayani, an incarnation of Goddess Durga, Chhatarpur Temple is said to be the second-largest temple complex in India, spread over an area of 60 acre. Constructed from marble, the temple boasts Dravidian and Nagara styles of architecture. It has 20 small and large temples in three complexes, along with a room that houses tables, chairs, a bed and a dressing table carved in silver. The sanctum sanctorum houses an idol of the goddess, who can be seen riding a lion and holding a sword in her hand. After paying obeisance at the sanctum sanctorum, devotees can also visit the temples of Lord Rama, Lord Shiva, Lord Ganesha and Lord Hanuman in the premises. Chhatarpur Temple was built in 1974 by Baba Sant Nagpal Ji. Thousands of devotees flock to the temple, particularly during the Navratri (a holy nine-day festival) season.\n",
            " A popular attraction of Bengaluru, the Bull Temple that is dedicated to Nandi (bull god). This temple is noted for its large statue of sacred bull, Nandi. Standing at a height of around 4 m, the statue has been carved out of a single grey granite stone and has been polished black with a mixture of charcoal powder and peanut oil. Built in traditional Dravidian style of architecture, the temple is said to have been commissioned by ruler Kempe Gowda, of the Vijayanagara empire, during the 16th century. The present vimana, or the structure above the inner sanctum of the temple, was built during the 20th century and is adorned with Shaiva motifs. The temple remains open from 6 am to 8 pm everyday and must be included in your list of places to visit in Bengaluru.\n",
            " Once a dense forestland inhabited by a few tribal communities, Ganeshpuri was transformed into a spiritual centre by spiritual leader, Nityanand Swami. The place has a Shiva temple, a few natural hotwater springs and several other temples. Of the many hot springs, a few are open to the public with bathhouses built around them. In its twin town, Vajreshwari, the Vajreshwari Temple is quite significant. It is dedicated to Goddess Vajreshwari, who is an incarnation of Goddess Parvati. The temple was built by the Peshwas after winning back the Vasai Fort from the Portuguese. It is situated at the foothills of the Mandakini Hills, which were formed out of a volcanic eruption. This also explains the numerous mineral-rich springs in the area. A flight of fifty odd steps leads to the temple perched on the top of a small hillock.\n",
            "\n",
            " Believed to be one of the oldest and most revered temples of Chennai, Kapaleeswarar Temple is a shrine of Lord Shiva. In the temple, the wife of Lord Shiva, Goddess Parvati is worshipped in the incarnation of Goddess Karpagambal. She is believed to be the 'Goddess of the Wish-Yielding Tree'.  As a ritual of Friday worship, Goddess Karpagambal is offered a garland made of gold coins called kaasu mala.\n",
            "\n",
            "\n"
          ]
        }
      ]
    },
    {
      "cell_type": "code",
      "source": [
        "ranking(weights_q[1], Q2, 10)"
      ],
      "metadata": {
        "colab": {
          "base_uri": "https://localhost:8080/",
          "height": 0
        },
        "id": "vefsyQ7YIwPD",
        "outputId": "b56cf712-a9fe-4c07-fc3d-7e337dc110ab"
      },
      "execution_count": 22,
      "outputs": [
        {
          "output_type": "stream",
          "name": "stdout",
          "text": [
            "Massive hills located in Karnataka\n",
            "\n",
            "Document ranks (First 10) based on similarity (Cosine similarity):\n",
            " Beautiful terracotta temples, lush forests, scenic views as well as rich art and architecture attract tourists from all over the country to Bankura, located about 200 km from Kolkata. Endowed with a rugged topography of hills, Bankura also invites hikers and trekkers. Bankura is most popular as a city of temples and the Siddheswara Temple is a must-visit. Tourists can also visit Susunia Hill, Biharinath Hill and Koko Hill. A major attraction is the renowned Bankura horses that are used for both religious and decorative purposes. They are a fine example of terracotta craftsmanship and are distinguished by an erect neck and pointed ears. These horses are generally six inches to four feet in height and feature wide jaws. You can shop for these articles in Bishnupur, Nakaijuri, Kamardiha and Biboda, in West Bengal.\n",
            " Pear-shaped and encircled by green hills of the Aravalli range, the Fateh Sagar Lake is one of the most serene spots in Udaipur. Located just next to the Moti Magri hill, the lake was built in 1678 by Maharana Jai Singh. It was named after Maharana Fateh Singh, who extended it later. Fateh Sagar, which is the second largest artificial lake in Udaipur after Jaisamand, is 2.4 km long, 1.6 km wide and 11.5 m deep. It is a well-planned artificial lake with three intake channels and an overflow channel that help regulate water flow during monsoon. \n",
            " Located about 16 km from Nashik and 262 km from Mumbai, the hill station of Deolali is a popular getaway. Also known as the Deolali Camp, which is one of the oldest military centres in the country,  it was set up the British in 1861. Deolali is nestled amidst the beautiful Sahyadri range, surrounded by lush gardens, spacious grounds and trees. There are many military establishments here, including, the Military psychiatric hospital, the School of Artillery of Indian Army and the residential Barnes School. For the spiritual traveller, Deolali hosts many temples like the Muktidham Temple, Pandava Caves and Khandoba Temple. Shoppers would also have a delightful time in this quaint hill town, as the markets are lined with stalls selling various souvenirs and knickknacks, and have a very lively ambience.\n",
            "\n",
            " Just 11 km outside Jaipur, lies the magnificent Amber Fort (Amer Fort), sitting atop a hill, and rising like a sentinel guarding the city. Commissioned in 1592 by Maharaja Man Singh I, the fort is a fine blend of Rajput and Mughal architectural styles, and boasts a grand palace, temples and several ornate gates. Built entirely of red sandstone with white marble work, the UNESCO World Heritage Site is a picture of opulence and grandeur, set against a stark desert backdrop and rolling hills.\n",
            " One of the best things about Mumbai is the sea and the access it provides for quick day-time trips to nearby beaches and islands. Less than an hour's boat ride from the Gateway of India, in Colaba, lies the Elephanta Island colloquially known as Gharapuri or the Fortress City. The scenic island stretches across 10 to 15 sq km of land and has a dense foliage of mango, tamarind and palm trees. Perfect for a weekend excursion, this island provides good trekking as well as picnic opportunities. The island gets its name from a giant stone sculpture of an elephant that was discovered by the 16th century Portuguese explorers who came to this area. The island owes its global popularity to the fact that it is home to a network of ancient rock-cut caves known as the Elephanta caves that boast artistic wall carvings and sculptures, dedicated to Hindu and Buddhist gods. These caves were incorporated in the UNESCO list of World Heritage sites in the early 1980s. The walls of the caves, which are located on top of a hillock, are lined with rock art that experts say, dates as far back as the mid- 5th and 6th century. There are two main hills on the island – Gun Hill and Stupa Hill. The former gets its name from the two British-era canons perched on it and the latter because of the remains of a Buddhist stupa that was excavated here. The most intricately detailed and architecturally majestic cave, among the Elephanta network is situated on Gun Hill. The panels on these caves depict the lives and beliefs of the esoteric Pashupati sect of the Shaiva system. A 7-m-high sculpture called Sadashiva lies at the entrance of the cave. \n",
            "\n",
            " The Biligirirangana Hills lies at the meeting point of the Eastern and Western Ghats and draws nature lovers from all parts of the country. Blessed with a diverse ecosystem, it gets its name from the Ranganathaswamy Temple perched atop a cliff. Dedicated to Lord Ranganatha, the temple is a major pilgrimage centre and houses an idol of the lord with his consort Ranganayaki. It attracts a large number of tourists during the month of April when special festivities are held. Tourists can also explore the rich wildlife of the area by visiting the BR Hills Wildlife Sanctuary. Spread across an area of 539 sq km, the natural reserve is home to bears, chital, gaurs, sambhar, leopards, wild dogs, elephants and tigers. The sanctuary is also inhabited by more than 200 species of birds including racket tailed drongo and crested eagle. BR Hills also offers exciting opportunities for rafting, trekking, fishing, angling and coracle boat riding.\n",
            " The popular Ranthambore National Park and Tiger Reserve was once the private game reserve of the royal family of Jaipur. Located 155 km from Jaipur, Ranthambore's diverse topography with a mix of rolling hills and crags, meadows, lakes and rivulets, offers some of the finest opportunities for sighting the magnificent tiger in the wild. Apart from the tiger, other wildlife in the park includes sloth bear, leopard, jackal, fox, hyena, Indian wolf, chital, sambar deer, blue bull antelope or nilgai, rhesus macaque, langur and an incredible variety of birds. The 10th century Ranthambore fort dominates the landscape of this dry-deciduous forest.\n",
            " Jainism is among the major religions in the country and its prominence is reflected in various temples spread across India. One of the most popular temples is Ranakpur, in Rajasthan. Called Chaumukha Mandir (four-faced temple), it is dedicated to Adinath, the first Jain tirthankar (saint). Made entirely out of white marble, the temple comprises 29 halls, 80 domes, 400 columns and 1,444 individually engraved pillars. The pillars themselves are a thing of utmost beauty, adorned with peach and beige hues. They display intricate carvings of elephants, flowers, and people. Interestingly, no two pillars are the same! \n",
            " \n",
            "The Dilwara temples, in Mount Abu, Rajasthan are another example of the beauty with which spirituality has been conserved and nourished. The temples are great examples of the intricate Jain architecture. The temples exude a sense of simplicity and frugality, so intrinsic to Jainism as a philosophy while also being intricate in its minute splendour. \n",
            " \n",
            "The Pareshnath Jain Temple, also known as Pareswanath Temple Digambar, is one of the holiest places of worship for the Digambaras, and one of the most beautiful temples in Kolkata. The temple is built in the Nagara style in which creativity plays a key role. Once they are done with their prayers, devotees can feed hundreds of fish in a special tank here or relax in the beautiful gardens. \n",
            " \n",
            "Palitana, in Gujarat, is famed for a large cluster of Jain temples. On your way to the Shatrunjaya Hill top from the base, you will come across as many as 836 beautiful temples. Reaching the top is not an easy task as it requires tourists to climb almost 4,000 steps over a 3.5 km long uphill climb. The site holds immense significance for the Jain community as it was here that the first Jain tirthankara (saint), Adinath, achieved enlightenment, making the Shatrunjay Hill a holy site for Jains. The temples have been built in the 11th, 12th centuries and 16th centuries. Interestingly, unlike other temples in the country, these were not built under the patronage of any dynasty or kings but are a result of the efforts of the wealthy businessmen who followed Jainism.\n",
            " \n",
            "A large cluster of white Jain temples, dating back to the 9th century, marks the landscape of Sonagiri. Located around 70 km from Gwalior, these temples, 77 of which stand on the Shatrunjaya Hill, can be seen from a distance. The main temple is dedicated to Lord Chandraprabhu, the eighth Jain tirthankar and houses an 11-ft-tall idol of the deity. With a stunning spire, it also has two beautiful idols of Lord Sheetalnath and Lord Parsvanath. There is a 43-ft-high column of dignity (Manstambh) near the temple. \n",
            " \n",
            "One begins to believe in the spiritual power of beauty and love when one visits these destinations standing through ages, providing spiritual succour and aesthetic inspirations to millions.\n",
            "\n",
            " Belur is a popular temple town of Karnataka that stands as a proud reminder of the princely past of the Hoysala empire. The Hoysalas were known as patrons of temple construction and the temples constructed under their rule are noted for their minute and intricate carvings and sculptures adorned with metal-like polishing. The prime attraction at Belur is the popular Chennakeshava Temple, dedicated to Lord Chennakeshava, an incarnation of Lord Vishnu. It rests on a star-shaped platform and houses two smaller shrines of Lord Chennakesava's consorts, Soumyanayaki and Ranganayaki. The temple's facade is decorated with intricate sculptures and the interior houses 48 pillars of varied shapes, sizes and designs. Visitors can also admire fine carvings depicting scenes from epics like Ramayana and Mahabharata. Towards the right of the main entrance gate lies a stepped well or pushkarni that is another attraction.\n",
            " It is a Buddhist complex with meditation halls and a temple site atop the Mahindra hills in Secunderabad, near Hussain Sagar lake. The complex offers splendid views of the city. The hall of the temple has a large golden statue of Buddha and another smaller idol of Buddha is placed in a mini garden outside.\n",
            "\n"
          ]
        }
      ]
    },
    {
      "cell_type": "markdown",
      "source": [
        "### Incorporating Relevance Feedback using Rocchio's Algorithm\n",
        "\n"
      ],
      "metadata": {
        "id": "9sWhmLdnuNKb"
      }
    },
    {
      "cell_type": "code",
      "source": [
        "q1_relevant_docs = list([99, 51, 91, 60, 56, 72, 34, 26, 27, 28, 29, 30, 31, 32, 33])\n",
        "q2_relevant_docs = list([97, 9, 30, 25, 26, 60, 6, 58, 73, 5, 31, 20, 1, 82, 21])\n",
        "\n",
        "q1_non_relevant_docs = [doc for doc in list(range(0,100)) if doc not in q1_relevant_docs]\n",
        "q2_non_relevant_docs = [doc for doc in list(range(0,100)) if doc not in q2_relevant_docs]"
      ],
      "metadata": {
        "id": "Lg7ghTH_Iyib"
      },
      "execution_count": 23,
      "outputs": []
    },
    {
      "cell_type": "code",
      "source": [
        "def rocchio_algorithm(beta, gamma, query_weights, r, N_r):\n",
        "    result = np.zeros(len(vocab))\n",
        "    sum_of_r = np.zeros(len(vocab))\n",
        "    sum_of_n_r = np.zeros(len(vocab))\n",
        "\n",
        "    # Sum of relevant document weights\n",
        "    for i in range(len(vocab)):\n",
        "        for j in r:\n",
        "            sum_of_r[i] = sum_of_r[i] + weights[j][i]\n",
        "\n",
        "    # Sum of non-relevant document weights\n",
        "    for i in range(len(vocab)):\n",
        "        for j in N_r:\n",
        "            sum_of_n_r[i] = sum_of_n_r[i] + weights[j][i]\n",
        "\n",
        "    # Weights for positive feedback or relevant docs \n",
        "    if beta != 0:\n",
        "        positive_rocchio_algorithm = np.divide(sum_of_r, (len(r)/beta))\n",
        "    else : \n",
        "        positive_rocchio_algorithm = np.zeros(len(vocab))\n",
        "\n",
        "    # Weights for negative feedback or non-relevant docs \n",
        "    if gamma != 0:\n",
        "        negative_rocchio_algorithm = np.divide(sum_of_n_r, (len(N_r)/gamma)) \n",
        "    else : \n",
        "        negative_rocchio_algorithm = np.zeros(len(vocab))\n",
        "\n",
        "    # Result as the sum of query\n",
        "    for term in range(len(vocab)):\n",
        "        result[term] = query_weights[term] + positive_rocchio_algorithm[term] - negative_rocchio_algorithm[term]\n",
        "\n",
        "    return result"
      ],
      "metadata": {
        "id": "ezXhyQ3XI28d"
      },
      "execution_count": 24,
      "outputs": []
    },
    {
      "cell_type": "markdown",
      "source": [
        "### Incorporating Relevance Feedback using Rocchio's Algorithm\n",
        "\n"
      ],
      "metadata": {
        "id": "Pto5YMBxJmy4"
      }
    },
    {
      "cell_type": "code",
      "source": [
        "weights_q1_feedback = rocchio_algorithm(1, 0, weights_q[0], q1_relevant_docs, q1_non_relevant_docs)\n",
        "ranking(weights_q1_feedback, Q1, 10)"
      ],
      "metadata": {
        "colab": {
          "base_uri": "https://localhost:8080/",
          "height": 0
        },
        "id": "1uJQMDP0I4jF",
        "outputId": "5601addf-b5c2-4301-dff3-75bd43263fbc"
      },
      "execution_count": 25,
      "outputs": [
        {
          "output_type": "stream",
          "name": "stdout",
          "text": [
            "Temples in Karnataka\n",
            "\n",
            "Document ranks (First 10) based on similarity (Cosine similarity):\n",
            " Rising from the bank of Lake Pichola, the imposing City Palace is a grand icon of Udaipur's and Rajasthan's royal past. A must-visit destination for anyone who comes to Udaipur, City Palace is the largest palace in Rajasthan.\n",
            "\n",
            "With a facade that is 244 m long and 30.4 m high, the palace complex has 11 smaller palaces. Construction of the palace was started in 1599 by Maharana Udai Singh II, the city’s founder, and was extended by his successsors. Though today, it seems uniform, like the brainchild of one man. It includes two luxurious palace hotels, a school and the popular City Palace Museum. With ornate towers, cupolas, arched doorways and protruding balconies, the City Palace is an architectural marvel and represents an exquisite blend of Rajasthani, Mughal, European and oriental architecture styles.\n",
            "\n",
            "It has a maze of courtyards, pavilions, terraces, corridors, rooms and hanging gardens. Encircled by fortifications, this stately palace is built in granite and marble. The massive gates of the palace are known as ‘pols’ with Bara Pol being the main gate, which leads to the first courtyard. On passing Bara Pol, one comes across a triple arched gate, known as Tripolia. Between these two gates, one can see eight marble arches or 'toranas', where its is said kings used to weigh themselves with gold and silver. Next to Tripolia is an arena where elephant fights were staged. Across Tripolia, is the Elephant Gate or the Hathi Pol. In 1974, a large part of the City Palace was turned into a museum, known as the City palace Museum. You can still marvel at the royal family's horses at the stables next to the museum. Inside the museum, first comes Rai Angan, where it is said king Udai Singh met a sage who asked him to build the city.\n",
            " This landscaped garden is located at the foothills of Nahargarh on the way to Amber Fort. It houses an intricately carved temple, marble columns and lattices, making it an ideal location to spend a day in. It is a great spot for sightseeing, photography and relaxing. One can also spot a variety of birds here like neel kanth, spotted dove and kingfisher. The garden was built by Maharaja Sawai Jai Singh and is said to be emulated after a mythological garden where Lord Krishna used to play. This was meant as the king's recreational retreat. One can also find a spiritual spot here where several rivers meet. The water is considered holy here and a temple dedicated to Lord Vishnu has been built nearby.\n",
            " Jaipur’s most iconic building, the pink Hawa Mahal, stands royally in the bustling Johari Bazaar. With a fine honeycomb of latticed windows, the five-storeyed monument lives to its name, which means the palace of wind. Built in 1799 by Maharaja Sawai Pratap Singh, Hawa Mahal was primarily constructed as a summer retreat for the royal household and was also used by the royal ladies to enjoy the lively vibes of Johari Bazaar through the white framed windows, while they themselves stayed hidden from the people on the street. Interestingly, the arrangement of the windows is said to resemble the crown of Lord Krishna. Inside, there is a museum that houses Rajasthani miniature art and outside is a hub of stalls selling handmade jewellery, leather-crafted home decor items and the region’s famous silver jewellery.\n",
            " One of the most ethereal sights in Jaipur is the architectural marvel of Jal Mahal, which is standing right at the centre of the Man Sagar Lake. Conceptualised as a hunting lodge by Maharaja Madho Singh I and restored by Jai Singh II in 1734, it is built according to a blend of Rajput and Mughal aesthetics, with pink sandstone. The sandstone paints a vivid image against the blue backdrop of the water and the distant rolling hills. The palace is a five-storeyed building and about four storeys stay immersed when the lake is full. At night, bathed in dreamy lights, the palace seems as if it’s floating in the lake's water. In the vicinity of the palace is the gorgeous Chameli Bagh, which is a paradise for birdwatchers. Some of the avifauna one can spot here includes pochard, coot, flamingo and kestrel.\n",
            " While visiting the majestic Nahargarh Fort, one should rope in a visit to the fantastic Jaipur Wax Museum. Not unlike the renowned Madame Tussauds, this museum hosts respected and honoured faces from the fields of sports, arts, cinema, history and royalty. The wax and silicon statues seem almost life-like owing to the skill and intricacy with which they have been crafted. The statues have been sculpted by well-known sculptor Susanta Ray and are housed in the Royal Darbar and Hall of Icons sections of the Nahargarh Fort. A special section has been set apart for the royal people or the Maharajas and Maharanis of Jaipur and Rajasthan. A brief history and interesting tidbits from the lives of these people have also been recorded on a plaque beneath the statues to give visitors an interesting insight into the life of these remarkable people. To enter the museum, one has to wear a plastic covering on the shoes so as to not dirty the premises.\n",
            " Situated 22 km away from Udaipur, the Ekling Temple is one of the most famous pilgrimage sites in the state of Rajasthan. Ekling is believed to be the ruling deity of the princely state of Mewar. Dedicated to Lord Shiva, the temple was built in 734 AD and has been repaired and modified numerous times. A four-faced idol of Lord Shiva made out of black marble rests in the temple. The idol is 50 foot tall and is flanked by idols of Goddess Parvati and her two sons, Lord Ganesha and Lord Kartikeya. The main temple has huge silver doors depicting the two sons guarding their father. One must visit the temple during the festival of Shivratri as a great celebration ensues during this time.\n",
            " Govind Devji Temple is situated in the City Palace complex and is dedicated to Lord Krishna and Radha. The idols of the deities are believed to have been brought from Vrindavan by Raja Sawai Jai Singh II, the founder of Jaipur. Legend has it that Govind Dev Ji appeared in the dreams of Raja Sawai Jai Singh and asked him to bring his idol from Vrindavan to Jaipur and the king did as per the wish of god. After his death, however, the construction was overtaken by Raja Man Singh in 1890.\n",
            " Jhunjhunu is one of the oldest towns in the state of Rajasthan. It lies at a distance of about 186 km from Jaipur. What draws tourists here are the large vacant havelis with intricate frescos. These havelis, which are each a work of art, has earned the region of Shekhawati, under which Jhunjhunu is located, is the nomenclature of being the world's largest open-air art gallery. The most popular among these mansions are Kaniram Narsighdas Tibrewala haveli, Ishwardas Mohandas Modi haveli and Naruddin Farooqui haveli. These houses, once the residence of rich merchants, stand as a testimony to the former grandeur of Shekhawati. The well-preserved frescos, which may have been created in the 19th century, in brilliant colours depict snapshots of life from that era and also include images of Hindu gods and goddess. It is said that over the decades, as trade routes altered, the merchants migrated to other towns and cities, leaving their resplendant houses behind.\n",
            " The grand Salar Jung Museum is famous for housing one of the largest compilations of artefacts collected by one person. Boasting collections from ancient civilisations and modern times, it houses items that were painstakingly collected and curated by Mir Yousuf Ali Khan or Salar Jung III, the prime minister of the 7th Nizam of Hyderabad, who spent most of his income on this project, over a period of 35 years. The museum is home to collections dating from the 2nd century BC to the early 20th century AD, from different cultures such as Greek, Roman, Hindu, Jain, Buddhist, Christian and Islam. As many as 43,000 art objects and 50,000 manuscripts and books are housed here. It also showcases European fine arts, including a rare statue by 19th-century Italian sculptor Benzoni, South Indian bronzes and wood and stone sculptures and Indian miniature paintings. Other prominent exhibits include a fruit knife used by Nur Jahan, the wife of Mughal emperor Jehangir, and emperor Aurangzeb’s sword. \n",
            " Boasting the famous Chand Baori stepwell and Harsha Mata Temple, Abhaneri is one of the most prominent tourist destinations in Rajasthan. This small town lies about 45 km from the city of Jaipur. Chand Baori is an amazing display of engineering and gives a fascinating experience to the visitors. It was created with the purpose of harvesting rainwater and has a depth of 20 m with 13 levels. The Harsha Mata Temple is dedicated to Goddess Harshat Mata, who is goddess of joy. This temple was built in the 10th century.\n",
            "\n"
          ]
        }
      ]
    },
    {
      "cell_type": "code",
      "source": [
        "weights_q2_feedback = rocchio_algorithm(1, 0, weights_q[1], q2_relevant_docs, q2_non_relevant_docs)\n",
        "ranking(weights_q2_feedback, Q2, 10)"
      ],
      "metadata": {
        "colab": {
          "base_uri": "https://localhost:8080/",
          "height": 0
        },
        "id": "-CfSXH6OI6My",
        "outputId": "a86767a1-81d3-4417-f797-ce79ffec24ba"
      },
      "execution_count": 26,
      "outputs": [
        {
          "output_type": "stream",
          "name": "stdout",
          "text": [
            "Massive hills located in Karnataka\n",
            "\n",
            "Document ranks (First 10) based on similarity (Cosine similarity):\n",
            " As per popular belief, Christianity came to India in 52 AD via Apostle Saint Thomas, a disciple of Jesus Christ. It is said that Thomas sailed from Eastern Asia to Kerala and showed many miracles to the people there, after which they accepted the faith. Today, the country is speckled with churches and prayer houses that invite devotees from far and wide. The state of Goa is the best place to tread on a spiritual trail. Probably the most famous church in Goa and one of the most revered by Christians globally, the Basilica of Bom Jesus in Old Goa is famed for housing the mortal remains of St Francis Xavier. This complex, along with some other churches of Old Goa, features on the UNESCO World Heritage list. Its exterior facade, built using black granite, is noted for Baroque architecture combined with Doric, Corinthian and composite influences.\n",
            " \n",
            "Another stopover is the Church of St Francis of Assisi that was established by eight Franciscan friars who arrived in Goa in 1517. Retaining the Portuguese-Manueline style portal of its older structure, which was built in 1665, the Church of St Francis of Assisi, offers a fascinating visual contrast between its simple exterior facade and its lavish Baroque interior. Featuring Corinthian influences, the interior is beautifully decorated. The main altar is the highlight, with a large statue of St Francis of Assisi above it, along with another of Jesus Christ. It is flanked on either side by paintings on wood depicting the life and times of its patron saint.\n",
            " \n",
            "Located in the state capital of Panaji, Our Lady of Immaculate Conception Church is believed to have been originally built as a chapel in 1541, to serve the religious requirements of the Portuguese sailors. The chapel eventually became a parish in 1600 and nine years later, it was replaced by a church. Its symmetrical zigzag stairway was constructed in the 18th century. The church is believed to have been modelled after the Bom Jesus de Braga in Portugal, with one middle and four side landings in perfect symmetry.\n",
            " \n",
            "A beautiful Roman catholic cathedral in pristine white, San Thomas Basilica, in Chennai, has a Portuguese origin, and dates back to the 16th century. It was rebuilt in Neo-Gothic style in 1896 and is said to be the final resting place of St Thomas, the Apostle. A small cross on the tomb wall contains a tiny bone fragment referred to as the ‘Relic of St Thomas’. An underground tomb chapel is worshipped here and the devout believe that sand from the tomb has miraculous healing powers. A beautiful stained glass window at the basilica portrays the story of St Thomas and the central hall has 14 wooden plaques that depict the stations of the cross.\n",
            " \n",
            "One of the eight magnificent Basilicas in India, Santa Cruz Basilica, in Kochi, Kerala, was constructed by the Portuguese in 1505. Boasting two lofty spires that can be seen from a distance, this pristine white structure has a contrasting vividly painted interior. The overwhelming arches and the altar add medieval touches to the church's architecture. Tourists would be especially awed by seven canvas paintings that have been inspired by the 'Last Supper' by Leonardo da Vinci. As you gaze at the mesmeric ceiling, beautifully adorned with paintings depicting scenes from the Via Crucis of Christ, you are left marvelling at the skill of the artisans of that time. Don't miss out the intricate wall carvings and stained glass windows that enhance the beauty of the church.\n",
            " \n",
            "One of the oldest churches built by Europeans in India, St Francis Church, in Kerala, is known for its beautiful design and ambience. Boasting a lofty structure with a gable roof framed with timber and covered with tiles, the church has two steeped pinnacles on either side of the facade. It was built by Portuguese Franciscans friars’ group in 1503. \n",
            " \n",
            "Taking pride of place in Dalhousie's (in Himachal Pradesh) Subhas Chowk is the beautiful St Francis Church. It is a stunning structure boasting exquisite interior stoneworks and multicoloured Belgian glass decorations, making it a favourite haunt of art and architecture lovers. The exterior is the perfect representation of Victorian-era architecture and the church looks picturesque framed against tall deodar trees. Even the interior walls are adorned with words and illustrations narrating the history of the establishment.\n",
            " \n",
            "Nestled amongst tall coniferous and pine trees is the St John in the Wilderness Church, in Chamba (in Himachal Pradesh), widely known for its architectural intricacies and Gothic style. The beautiful polished wood of the altar railings and the brass oil lamps along with intricate stained glass windows are particularly attractive and diminish the forbidding appearance of the stone building. A huge church bell near the entrance was brought specially from England in 1915. \n",
            " \n",
            "One of the oldest churches in Delhi, dating back to the 19th century, St James Church is a prominent site on the tourist circuit. Located amidst the bustling neighbourhood of Kashmiri Gate, the church has a serene and tranquil ambience that draws visitors from all over the area. It boasts a charming facade and has been built in a Renaissance Revival style on a cruciform plan. It boasts three exquisite porticoes entrances, an octagonal dome in the centre and delicate stained glass windows above the altar. Other notable features are a cross hanging on the top and a copper ball, both of which are believed to be inspired by the facets of a church in Venice.\n",
            " \n",
            "One of the most prominent stopovers of Kolkata, the Armenian Church is located at Armenian Street, near the Howrah Bridge. It is believed to be the oldest church in the city and was built in 1764. The architecture of the church is a visual treat and the interior is decorated with marble, while the overhead gallery is adorned with mural tablets. There is a cross at the altar of this church, with the Gospels and 12 candlesticks representing the Christ and the Apostles. Besides, you will find three oil paintings that represent the Holy Trinity. \n",
            " \n",
            "Cathedral Mary Help of Christians is the primary place of worship for Catholics in Shillong. It is one of the oldest churches in the archdiocese and in all of Northeast India. The church was built over 50 years ago and invites people of all cultures and creeds. With its high arches and stained glass windows, the church is said to be one of the most beautiful buildings in the city of Shillong.\n",
            "\n",
            " India boasts some of the finest mosques and dargahs in the world, chief of which is the Jama Masjid, in Delhi. Believed to be the largest mosque in India, it was built by Mughal emperor Shah Jahan in 1650. Besides its spiritual significance, it is noted for its architectural splendour. From its domes of similar heights to intricate carvings, the mosque is a visual treat.\n",
            " \n",
            "Another popular site, echoing with spiritual fervour is the Hazratbal Shrine, located on the banks of the Dal Lake in Jammu and Kashmir. It is said to house a hair of Prophet Mohammad and is thus among the most reverential sites in the Union Territory.\n",
            " \n",
            "Ajmer Sharif, in Rajasthan, is believed to be the site where no prayer goes unanswered. The resting place of Gharib Nawaz Hazrat Khwaja Moinuddin Chisti, it is said to be the biggest dargahs in South Asia.\n",
            " \n",
            "The majestic complex of Fatehpur Sikri, in Agra, houses the tomb of Hazrat Sheikh Salim Chishti, a great saint. Every Friday, hundreds of men and women gather at the dargah to offer prayers and the whole atmosphere reverberates with divinity.\n",
            " \n",
            "One of the more popular attractions of Mumbai, the Haji Ali complex houses the tomb of Muslim saint, Pir Haji Ali Shah Bukhari, and a mosque. An oft-repeated belief here is that whoever prays to saint Pir Haji Ali Shah Bukhari won't ever be disappointed. The monument is an oasis of peace and serenity, floating in the gentle blue waters of the sea, away from the chaos of the mainland. Live qawwali and sufi music performances take place on the premise on most afternoons. Thursdays and Fridays are special days at the dargah and there is a greater surge of devotees on these days. \n",
            " \n",
            "One of the most prominent spiritual sites in Delhi, Hazrat Nizamuddin Dargah is the shrine of Muslim sufi saint, Nizam-ud-din Auliya (1238 - 1325 AD). The dargah draws devotees from far and wide and they can be seen tying a red thread on the jaalis so their prayers can be answered. While performing the prayers, they also light incense sticks and shower rose petals. Offering a chadar (a large sheet of fabric) at the shrine is considered especially auspicious. \n",
            "\n",
            " Jainism is among the major religions in the country and its prominence is reflected in various temples spread across India. One of the most popular temples is Ranakpur, in Rajasthan. Called Chaumukha Mandir (four-faced temple), it is dedicated to Adinath, the first Jain tirthankar (saint). Made entirely out of white marble, the temple comprises 29 halls, 80 domes, 400 columns and 1,444 individually engraved pillars. The pillars themselves are a thing of utmost beauty, adorned with peach and beige hues. They display intricate carvings of elephants, flowers, and people. Interestingly, no two pillars are the same! \n",
            " \n",
            "The Dilwara temples, in Mount Abu, Rajasthan are another example of the beauty with which spirituality has been conserved and nourished. The temples are great examples of the intricate Jain architecture. The temples exude a sense of simplicity and frugality, so intrinsic to Jainism as a philosophy while also being intricate in its minute splendour. \n",
            " \n",
            "The Pareshnath Jain Temple, also known as Pareswanath Temple Digambar, is one of the holiest places of worship for the Digambaras, and one of the most beautiful temples in Kolkata. The temple is built in the Nagara style in which creativity plays a key role. Once they are done with their prayers, devotees can feed hundreds of fish in a special tank here or relax in the beautiful gardens. \n",
            " \n",
            "Palitana, in Gujarat, is famed for a large cluster of Jain temples. On your way to the Shatrunjaya Hill top from the base, you will come across as many as 836 beautiful temples. Reaching the top is not an easy task as it requires tourists to climb almost 4,000 steps over a 3.5 km long uphill climb. The site holds immense significance for the Jain community as it was here that the first Jain tirthankara (saint), Adinath, achieved enlightenment, making the Shatrunjay Hill a holy site for Jains. The temples have been built in the 11th, 12th centuries and 16th centuries. Interestingly, unlike other temples in the country, these were not built under the patronage of any dynasty or kings but are a result of the efforts of the wealthy businessmen who followed Jainism.\n",
            " \n",
            "A large cluster of white Jain temples, dating back to the 9th century, marks the landscape of Sonagiri. Located around 70 km from Gwalior, these temples, 77 of which stand on the Shatrunjaya Hill, can be seen from a distance. The main temple is dedicated to Lord Chandraprabhu, the eighth Jain tirthankar and houses an 11-ft-tall idol of the deity. With a stunning spire, it also has two beautiful idols of Lord Sheetalnath and Lord Parsvanath. There is a 43-ft-high column of dignity (Manstambh) near the temple. \n",
            " \n",
            "One begins to believe in the spiritual power of beauty and love when one visits these destinations standing through ages, providing spiritual succour and aesthetic inspirations to millions.\n",
            "\n",
            " One of the largest religions followed throughout the country, Hinduism is also among the oldest in the world. In fact, it is known as 'Sanatan Dharma' or the everlasting religion. With thousands of temples, ashrams and sacred sites like ghats, and elements of nature like rivers, trees and mountains, the prominence of Hinduism can be felt at every nook and corner. The land of Ayodhya where walked Lord Rama, or the streets of Gokul where frolicked the young Lord Krishna or the formidable Himalayas that are believed to be the abode of Lord Shiva, there's a hardly any part in the country that does not echo with the legends of gods and goddesses. \n",
            " \n",
            "Most Hindus believe that there are four major pilgrimages that every devotee should take in his/her lifetime to get free from the circle of life and death. These are called char dhams - Kedarnath, Badrinath, Yamunotri and Gangotri (in Uttarakhand), and most pilgrims take an arduous journey in the heart of the Himalayas to reach them. Other prominent spiritual stopovers in the country include Dwarka (Gujarat), Puri (Odisha), Rameswaram (Tamil Nadu). \n",
            " \n",
            "Rivers and streams are highly venerated in Hinduism, and several cities that are sprawled along their banks have been designated as holy. The seven holy cities in Hinduism are Varanasi, Haridwar, Ayodhya, Mathura, Dwarka, Kanchipuram and Ujjain.\n",
            " \n",
            "Varanasi or Benaras, nestled on the banks of the holy Ganges river is believed to be the oldest living inhabitation in the world. From the famous Ganga arti (a fire ritual) to cremation ceremonies, its ghats are the site of time-honoured rituals that are performed to this day.\n",
            " \n",
            "The city of Haridwar, lying in the foothills of the Himalayas, in Uttarakhand, is bustling with devotees, its air filled with the sweet smell of incense sticks and the clanging of temple bells. It sees thousands of people taking a dip in the holy waters of River Ganges, which emerges from the Himalayas here. Devotees, sadhus (saffron-clad men) and saints throng the river’s ghats (stepped banks), to take a dip in its sacred waters and, according to Hindu beliefs, wash away their sins. \n",
            " \n",
            "Revered as the birthplace of Lord Rama, Ayodhya, in Uttar Pradesh, is a popular pilgrimage site for Hindus. It is sprawled along the serene Saryu river and is dotted with temples, some of which are connected to the ghats.\n",
            " \n",
            "Poised on the banks of the holy River Yamuna, Mathura and Vrindavan (Uttar Pradesh), are revered as the land where Lord Krishna spent his childhood. A labyrinth of lanes lined by temples, ancient ghats and numerous stories of Lord Krishna, who is said to be born here, echoing throughout the streets, Mathura invites devotees from far and wide. The city is renowned for several temples dedicated to Lord Krishna, who is one of the most popular and loved incarnations of Lord Vishnu. \n",
            " \n",
            "Sitting on the Arabian Sea coastline, the city of Dwarka, in Gujarat, is a popular pilgrim site, revered as the abode of Lord Krishna. Perched on the tip of the Saurashtra peninsula, this ancient city is renowned for the Dwarkadhish Temple, standing by the scenic Gomti creek. \n",
            " \n",
            "Synonymous with spirituality and serenity, the temple town of Kanchipuram, in Tamil Nadu, is dotted with ancient temples that are architectural marvels and a visual treat for the eyes. Situated on the banks of River Vegavathi, this historical city once had a 1,000 temples, of which only 126 (108 Shaiva and 18 Vaishnava) now remain. \n",
            " \n",
            "Sprawled along River Kshipra, the ancient city of Ujjain, in Madhya Pradesh, is a cross of bustling lanes that weave through temple clusters, earning Ujjain the moniker, “the city of temples”. Ujjain is one of the venues for the largest spiritual congregation in the world, the Kumbh Mela, held every 12 years (the other three being Prayagraj, Nashik and Haridwar). The city is resplendent as a bride during Simhast Kumbh, which attracts millions of devotees from all over the world to take a dip in Kshipra river, with a belief that it would absolve them of their sins. \n",
            " \n",
            "In addition, many, in the Hindu religion, believe that long walks and doing circumambulations around rivers, temples, mountains, deities, is a form of paying obeisance to the divine. Be it the 250-km-long, 84-kos parikrama (circumambulation) that takes place in Vrindavan or the 2,600-km Narmada parikrama (Madhya Pradesh) that traces the expanse of the river, these are journeys of self-discovery, in which one learns to put their faith in the spiritual. \n",
            "\n",
            " Holding the Guinness World Records as the world's largest comprehensive Hindu temple, the Akshardham temple complex is a stunning piece of architecture. Sprawled over a vast area, the complex looks like a splendid heavenly city when viewed from above. The temple itself has been constructed in pink sandstone and marble and is laid amidst neatly manicured lawns, pristine waterfronts and open courtyards. It has been designed in the traditional Hindu style of architecture and follows vaastu shastra and pancharatra shastra. As you stroll along the breathtaking complex, you will spot intricate carvings of animals, flowers, dancers, musicians and deities that adorn the walls. It is said that the stone used in the construction of the temple was brought from Rajasthan and weighed about 6,000 tonne. The Italian Carrara marble used in the structure adds to the beauty of the grand temple.\n",
            " One of the holiest ghats of Haridwar, Har-ki-Pauri is visited by thousands of pilgrims every year. The ghat is the spot where the River Ganges, after winding its way through the mountains, touches the plains for the first time. Countless people bathe in the waters of the river to wash off all their sins, as per Hindu beliefs. There are several temples next to the ghat and one can always hear the soothing chant of mantras and temple bells. The main attraction is the evening Ganga arti (a fire ritual). One can see the ghat swarmed with priests carrying three-tiered lamps of fire, and devotees immersed in a spiritual fervour, while the sound of mantras and gongs reverberates through the surroundings. During the arti, the devotees float lamps in the river, creating a beautiful scene.\n",
            " One of the most prominent stopovers of Kolkata, Armenian Church is located at Armenian Street, near the Howrah Bridge. It is believed to be the oldest church in the city and was built in 1764. The architecture of the church is a visual treat and the interiors are decorated with marble, while the overhead gallery is adorned with mural tablets. There is a cross at the altar of this church, with the Gospels and 12 candlesticks representing the Christ and the Apostles. Besides, you will find three oil paintings that represent the Holy Trinity. Tourists can also find the remains of an Armenian cemetery in the church. This graveyard houses the city's oldest known grave of an Armenian woman, Rezabeebeh, who was buried in 1630. The compound also hosts a monument dedicated to Armenians who died during World War 1.\n",
            " This landscaped garden is located at the foothills of Nahargarh on the way to Amber Fort. It houses an intricately carved temple, marble columns and lattices, making it an ideal location to spend a day in. It is a great spot for sightseeing, photography and relaxing. One can also spot a variety of birds here like neel kanth, spotted dove and kingfisher. The garden was built by Maharaja Sawai Jai Singh and is said to be emulated after a mythological garden where Lord Krishna used to play. This was meant as the king's recreational retreat. One can also find a spiritual spot here where several rivers meet. The water is considered holy here and a temple dedicated to Lord Vishnu has been built nearby.\n",
            " One of the major religions in India, Buddhism is based on the teachings of Lord Buddha or Siddhartha Gautama, a prince of the Sakya tribe. It is said that the young prince once saw intense suffering and decided to leave his riches to search for truth and enlightenment. After several years of fruitless effort, Buddha is believed to have attained nirvana in Bodhgaya, in Bihar. Today, this quaint town echoes with a tranquil ambience, underlined by intense devotion. Dotted with monasteries, this 2,500-year-old birthplace of Buddhism invites travellers from all across the world to soak in its spiritual vibes, retrace the footsteps of Lord Buddha and understand his philosophies. From the UNESCO World Heritage Site of the Mahabodhi Temple to the renowned Bodhi tree, there's much to see here. \n",
            " \n",
            "One of the most revered Buddhist pilgrimage centres in the world, Sarnath, is believed to be the place where Lord Buddha delivered his first sermon after attaining nirvana. Sarnath has several structures from the time – such as the Dhamekh Stupa, which marks the spot where Lord Buddha delivered his first sermon and the Chaukhandi Stupa, where Lord Buddha met his first five disciples. The spiritual tour to Sarnath is not complete without visiting the famous Bodhi tree. It is said to be grown from a cut taken from the original Bodhi tree in Bodhgaya. One can also visit the Sri Lankan monastery located nearby.\n",
            " \n",
            "Noted for the Buddhist shrine of Mahaparinirvana Temple, Kushinagar, in Uttar Pradesh is a popular pilgrim site. The temple here houses a 6-m-long idol of Lord Buddha reclining on his right side. It is believed that Lord Buddha had attained the supreme state of salvation here. Head to the Kushinagar Museum after visiting the Mahaparinirvana Temple to gain a deeper insight into the history of the city. \n",
            " \n",
            "The ancient city of Sravasti is a major pilgrimage centre for Buddhists and draws a large number of devotees from India and foreign countries like Thailand, Japan, China and Sri Lanka. Sprawled along the banks of River Rapti, the city boasts Miracle Stupa, where Lord Buddha is said to have spent his time after attaining enlightenment. His sermons and teachings made Sravasti an important centre for Buddhist learnings. A stupa was raised at the spot to commemorate Lord Buddha's teachings. \n",
            " \n",
            "An archaeological site, Kaushambi, in Uttar Pradesh, is said to have been the place where Lord Buddha stayed and preached in the sixth and ninth year of his attaining enlightenment. Founded by Kushamb, a king of the Chandra dynasty, Kaushambi, according to the famous book of Buddhist literature, Aguttar Nikaya, was one of the 16 mahajanapadas (great kingdoms) of the later ancient period of Indian history. \n",
            " \n",
            "A quaint hamlet scattered with the ruins of one of the greatest education institutes in history, the Nalanda University, 11 monasteries and six brick temples, the UNESCO World Heritage Site of Nalanda, in Bihar, is steeped in history. Echoing with the grandeur and glory of its ancient past, when it served as a prominent Buddhist centre, here one can trace the footsteps of Lord Buddha.\n",
            " \n",
            "There are several monasteries one can visit in India. Some of the prominent ones are Hemis (in Ladakh), Tabo (in Siti Valley), Tsulglagkhang (in Dharamsala), Thiksey Monastery (in Ladakh), Tawang (in Arunachal Pradesh), Bylakuppe (in Karnataka), Shashur (in Lahaul), Ghum (in West Bengal), Rumtek (in Sikkim), and so many more. \n",
            "\n",
            " One of the more popular attractions of Mumbai, the Haji Ali complex houses the tomb of Muslim saint, Pir Haji Ali Shah Bukhari, and a mosque. Popular with photographers, this iconic monument can be seen from the shores of Mumbai and lies entirely on an island in the Arabian Sea, at a distance of about 500 yards from the mainland. According to legend, the saint was travelling to the holy city of Mecca, in present day Saudi Arabia, on a pilgrimage, when he passed away. His casket floated across the Arabian Sea and landed up along the coast of Mumbai, where a mosque was built around it. The structure has white domes and minarets reminiscent of Mughal architecture and is a renowned pilgrimage and tourist site popular with both Muslims and non-Muslims. Adjacent to the mosque is an 85-foot-tall marble minaret. Both the mosque and the minaret are made out of pure white solid marble with carvings and engravings, adorned with beautiful mirror work. An oft-repeated belief here is that whoever prays to saint Pir Haji Ali Shah Bukhari won't ever be disappointed. The monument is an oasis of peace and serenity, floating in the gentle blue waters of the sea, away from the chaos of the mainland. Live qawwali and sufi music performances take place on the premise on most afternoons. Thursdays and Fridays are special days at the dargah and there is a greater surge of devotees on these days. Those visiting here often offer prayers and ask for the fulfilment of their wishes and seek blessings from the saint in whose honour this site was constructed. On special religious occasions like Urs (death anniversary of the saint) and Eid (Islamic religious festival), this heritage monument is beautifully decorated and Islamic rituals are observed. \n",
            "\n",
            "\n"
          ]
        }
      ]
    },
    {
      "cell_type": "markdown",
      "source": [
        "### Incorporating Relevance Feedback using Rocchio's Algorithm\n",
        "\n"
      ],
      "metadata": {
        "id": "Y6w3eZV7Jog6"
      }
    },
    {
      "cell_type": "code",
      "source": [
        "weights_q1_feedback = rocchio_algorithm(0, 1, weights_q[0], q1_relevant_docs, q1_non_relevant_docs)\n",
        "ranking(weights_q1_feedback, Q1, 10)"
      ],
      "metadata": {
        "colab": {
          "base_uri": "https://localhost:8080/",
          "height": 0
        },
        "id": "D0bF4fDcI8Qy",
        "outputId": "64104d95-13f1-433d-b369-3f93edccbede"
      },
      "execution_count": 27,
      "outputs": [
        {
          "output_type": "stream",
          "name": "stdout",
          "text": [
            "Temples in Karnataka\n",
            "\n",
            "Document ranks (First 10) based on similarity (Cosine similarity):\n",
            " A speciality drink from the region, filter coffee is prepared by mixing together milk and a decoction of coffee, made by filtering finely-ground coffee beans through boiling water. It can be had with or without milk. Filter coffee is a potent beverage that is brewed extra strong. \n",
            " Chettinad is a popular style of cooking that uses local spices generously. Some of the common flavours you would come across are star anise, maratti mokku (dried flower pods), kalpasi (stone flower) and pepper. Authentic Chettinad dishes mostly use seafood and some of the delicacies you can sample are pepper chicken, chicken varuval (dry spicy fried chicken), mor milagai (chillies marinated in yoghurt and dried in the sun), poriyal (a sautéed vegetable dish), masiyal (a vegetable curry), kootu (lentil curry), delicious lamb biryani (layered meat and rice dish), urundai (fried lentil balls), homemade coconut ice cream and payasam (a sweet pudding). The vegetarian counterpart of the cuisine is murukku (a deep-fried round crunchy snack made with rice flour).\n",
            " About 110 km away from Udaipur is the hilly paradise of Dungarpur nestled in the foothills of the Aravalli range. Popular for the green marble found here,\n",
            " Located around 40 km from Jaipur, the almost 500-year-old Samode Palace is the perfect example of Rajput haveli architecture. Visitors to Samode can experience the rural lifestyle by taking a camel safari through the village and visit local craftsmen.\n",
            " Built in the memory of Mohandas Karamchand Gandhi, who is revered as the Father of the Nation, Raj Ghat is a marble platform where he was cremated on January 31, 1948. Lying on the banks of the Yamuna river, Rajghat is fringed by lush well-manicured lawns that are dotted with trees. The mortal remains of Gandhiji were cremated at this ghat.\n",
            " The Old City is sometimes referred to as Vishwanatha Khanda. It is flanked by Dashashwamedha Ghat and Godaulia on south and west, and the Manikarnika Ghat on the north. Visitors can walk through a maze of narrow alleys and the Vishwanatha Gali (lane) to reach the Vishwanatha or Vishweshwara temple complex. \n",
            " Hyderabad's iconic landmark, the 56-m-high Charminar is an imposing four-sided archway with four minarets soaring above its surrounding bustling market area. It was built in 1591 by Mohammed Quli Qutub Shah, who was the fifth king of the Qutub Shahi dynasty, to mark the founding of Hyderabad and the end of a plague that had devastated the city. \n",
            " Govind Devji Temple is situated in the City Palace complex and is dedicated to Lord Krishna and Radha. The idols of the deities are believed to have been brought from Vrindavan by Raja Sawai Jai Singh II, the founder of Jaipur. Legend has it that Govind Dev Ji appeared in the dreams of Raja Sawai Jai Singh and asked him to bring his idol from Vrindavan to Jaipur and the king did as per the wish of god. After his death, however, the construction was overtaken by Raja Man Singh in 1890.\n",
            " A picturesque mountain pass, around an hour away from Udaipur, Haldighti is famous for several wars that were fought here, the most legendary being the battle of 1576, between Rana Pratap Singh of Mewar and Mughal emperor Akbar's army. It is said so many soldiers died in this batle that the yellow coloured soil (from which the place derives its name) turned red. \n",
            " The heartbeat of Delhi, Connaught Place is a heritage neighbourhood that has been modeled after the Georgian style of architecture. Lined with a host of eateries, high-end stores, parlours, theatres and book stores, the market is the hub of most activities in Delhi. Spread in two concentric circles, Connaught Place holds a vintage character that is vividly contrasted by various cosmopolitan shops and cafes that are crowned with blaring neon signs. On any good day, you can see a number of students and office workers spilling out on the streets and enjoying the pleasant weather while relishing a plate of chaat from a vendor.\n",
            "\n"
          ]
        }
      ]
    },
    {
      "cell_type": "code",
      "source": [
        "weights_q2_feedback = rocchio_algorithm(0, 1, weights_q[1], q2_relevant_docs, q2_non_relevant_docs)\n",
        "ranking(weights_q2_feedback, Q2, 10)"
      ],
      "metadata": {
        "colab": {
          "base_uri": "https://localhost:8080/",
          "height": 0
        },
        "id": "bfm0cVF3I9un",
        "outputId": "7cca582e-1975-41c8-a638-9aed2d0c50d2"
      },
      "execution_count": 28,
      "outputs": [
        {
          "output_type": "stream",
          "name": "stdout",
          "text": [
            "Massive hills located in Karnataka\n",
            "\n",
            "Document ranks (First 10) based on similarity (Cosine similarity):\n",
            " A speciality drink from the region, filter coffee is prepared by mixing together milk and a decoction of coffee, made by filtering finely-ground coffee beans through boiling water. It can be had with or without milk. Filter coffee is a potent beverage that is brewed extra strong. \n",
            " Chettinad is a popular style of cooking that uses local spices generously. Some of the common flavours you would come across are star anise, maratti mokku (dried flower pods), kalpasi (stone flower) and pepper. Authentic Chettinad dishes mostly use seafood and some of the delicacies you can sample are pepper chicken, chicken varuval (dry spicy fried chicken), mor milagai (chillies marinated in yoghurt and dried in the sun), poriyal (a sautéed vegetable dish), masiyal (a vegetable curry), kootu (lentil curry), delicious lamb biryani (layered meat and rice dish), urundai (fried lentil balls), homemade coconut ice cream and payasam (a sweet pudding). The vegetarian counterpart of the cuisine is murukku (a deep-fried round crunchy snack made with rice flour).\n",
            " Built in the memory of Mohandas Karamchand Gandhi, who is revered as the Father of the Nation, Raj Ghat is a marble platform where he was cremated on January 31, 1948. Lying on the banks of the Yamuna river, Rajghat is fringed by lush well-manicured lawns that are dotted with trees. The mortal remains of Gandhiji were cremated at this ghat.\n",
            " About 110 km away from Udaipur is the hilly paradise of Dungarpur nestled in the foothills of the Aravalli range. Popular for the green marble found here,\n",
            " Located around 40 km from Jaipur, the almost 500-year-old Samode Palace is the perfect example of Rajput haveli architecture. Visitors to Samode can experience the rural lifestyle by taking a camel safari through the village and visit local craftsmen.\n",
            " The heartbeat of Delhi, Connaught Place is a heritage neighbourhood that has been modeled after the Georgian style of architecture. Lined with a host of eateries, high-end stores, parlours, theatres and book stores, the market is the hub of most activities in Delhi. Spread in two concentric circles, Connaught Place holds a vintage character that is vividly contrasted by various cosmopolitan shops and cafes that are crowned with blaring neon signs. On any good day, you can see a number of students and office workers spilling out on the streets and enjoying the pleasant weather while relishing a plate of chaat from a vendor.\n",
            " The popular Ranthambore National Park and Tiger Reserve was once the private game reserve of the royal family of Jaipur. Located 155 km from Jaipur, Ranthambore's diverse topography with a mix of rolling hills and crags, meadows, lakes and rivulets, offers some of the finest opportunities for sighting the magnificent tiger in the wild. Apart from the tiger, other wildlife in the park includes sloth bear, leopard, jackal, fox, hyena, Indian wolf, chital, sambar deer, blue bull antelope or nilgai, rhesus macaque, langur and an incredible variety of birds. The 10th century Ranthambore fort dominates the landscape of this dry-deciduous forest.\n",
            " The Old City is sometimes referred to as Vishwanatha Khanda. It is flanked by Dashashwamedha Ghat and Godaulia on south and west, and the Manikarnika Ghat on the north. Visitors can walk through a maze of narrow alleys and the Vishwanatha Gali (lane) to reach the Vishwanatha or Vishweshwara temple complex. \n",
            " Started by KCS Paniker, who was not only a legendary artist but also a revolutionary thinker, Cholamandal Artists’ Village was established in 1966. The village is the perfect place for anyone who has even a slight inclination towards art, culture and craft. So, whether you are an artist, art buyer, art lover, art connoisseur or simply someone curious about Indian art, Cholamandal Artists’ Village has something to offer to everyone. Housed within the campus are museums, art galleries, an open-air theatre, a bookstore, a craft shop as well as a restaurant where you can spend your time enjoying the essence of everything handmade. \n",
            " Hyderabad's iconic landmark, the 56-m-high Charminar is an imposing four-sided archway with four minarets soaring above its surrounding bustling market area. It was built in 1591 by Mohammed Quli Qutub Shah, who was the fifth king of the Qutub Shahi dynasty, to mark the founding of Hyderabad and the end of a plague that had devastated the city. \n",
            "\n"
          ]
        }
      ]
    },
    {
      "cell_type": "markdown",
      "source": [
        "#### Standard Feedback\n",
        "\n",
        "$\\beta = 0.75$ <br>\n",
        "$\\gamma = 0.25$"
      ],
      "metadata": {
        "id": "MyV6Re3YBQSW"
      }
    },
    {
      "cell_type": "code",
      "source": [
        "weights_q1_feedback = rocchio_algorithm(0.75, 0.25, weights_q[0], q1_relevant_docs, q1_non_relevant_docs)\n",
        "ranking(weights_q1_feedback, Q1, 10)"
      ],
      "metadata": {
        "colab": {
          "base_uri": "https://localhost:8080/",
          "height": 0
        },
        "id": "h_wl5LeOI-8O",
        "outputId": "89862057-7a2e-4b7c-a4d8-66b817b618af"
      },
      "execution_count": 29,
      "outputs": [
        {
          "output_type": "stream",
          "name": "stdout",
          "text": [
            "Temples in Karnataka\n",
            "\n",
            "Document ranks (First 10) based on similarity (Cosine similarity):\n",
            " Rising from the bank of Lake Pichola, the imposing City Palace is a grand icon of Udaipur's and Rajasthan's royal past. A must-visit destination for anyone who comes to Udaipur, City Palace is the largest palace in Rajasthan.\n",
            "\n",
            "With a facade that is 244 m long and 30.4 m high, the palace complex has 11 smaller palaces. Construction of the palace was started in 1599 by Maharana Udai Singh II, the city’s founder, and was extended by his successsors. Though today, it seems uniform, like the brainchild of one man. It includes two luxurious palace hotels, a school and the popular City Palace Museum. With ornate towers, cupolas, arched doorways and protruding balconies, the City Palace is an architectural marvel and represents an exquisite blend of Rajasthani, Mughal, European and oriental architecture styles.\n",
            "\n",
            "It has a maze of courtyards, pavilions, terraces, corridors, rooms and hanging gardens. Encircled by fortifications, this stately palace is built in granite and marble. The massive gates of the palace are known as ‘pols’ with Bara Pol being the main gate, which leads to the first courtyard. On passing Bara Pol, one comes across a triple arched gate, known as Tripolia. Between these two gates, one can see eight marble arches or 'toranas', where its is said kings used to weigh themselves with gold and silver. Next to Tripolia is an arena where elephant fights were staged. Across Tripolia, is the Elephant Gate or the Hathi Pol. In 1974, a large part of the City Palace was turned into a museum, known as the City palace Museum. You can still marvel at the royal family's horses at the stables next to the museum. Inside the museum, first comes Rai Angan, where it is said king Udai Singh met a sage who asked him to build the city.\n",
            " This landscaped garden is located at the foothills of Nahargarh on the way to Amber Fort. It houses an intricately carved temple, marble columns and lattices, making it an ideal location to spend a day in. It is a great spot for sightseeing, photography and relaxing. One can also spot a variety of birds here like neel kanth, spotted dove and kingfisher. The garden was built by Maharaja Sawai Jai Singh and is said to be emulated after a mythological garden where Lord Krishna used to play. This was meant as the king's recreational retreat. One can also find a spiritual spot here where several rivers meet. The water is considered holy here and a temple dedicated to Lord Vishnu has been built nearby.\n",
            " Jaipur’s most iconic building, the pink Hawa Mahal, stands royally in the bustling Johari Bazaar. With a fine honeycomb of latticed windows, the five-storeyed monument lives to its name, which means the palace of wind. Built in 1799 by Maharaja Sawai Pratap Singh, Hawa Mahal was primarily constructed as a summer retreat for the royal household and was also used by the royal ladies to enjoy the lively vibes of Johari Bazaar through the white framed windows, while they themselves stayed hidden from the people on the street. Interestingly, the arrangement of the windows is said to resemble the crown of Lord Krishna. Inside, there is a museum that houses Rajasthani miniature art and outside is a hub of stalls selling handmade jewellery, leather-crafted home decor items and the region’s famous silver jewellery.\n",
            " Govind Devji Temple is situated in the City Palace complex and is dedicated to Lord Krishna and Radha. The idols of the deities are believed to have been brought from Vrindavan by Raja Sawai Jai Singh II, the founder of Jaipur. Legend has it that Govind Dev Ji appeared in the dreams of Raja Sawai Jai Singh and asked him to bring his idol from Vrindavan to Jaipur and the king did as per the wish of god. After his death, however, the construction was overtaken by Raja Man Singh in 1890.\n",
            " One of the most ethereal sights in Jaipur is the architectural marvel of Jal Mahal, which is standing right at the centre of the Man Sagar Lake. Conceptualised as a hunting lodge by Maharaja Madho Singh I and restored by Jai Singh II in 1734, it is built according to a blend of Rajput and Mughal aesthetics, with pink sandstone. The sandstone paints a vivid image against the blue backdrop of the water and the distant rolling hills. The palace is a five-storeyed building and about four storeys stay immersed when the lake is full. At night, bathed in dreamy lights, the palace seems as if it’s floating in the lake's water. In the vicinity of the palace is the gorgeous Chameli Bagh, which is a paradise for birdwatchers. Some of the avifauna one can spot here includes pochard, coot, flamingo and kestrel.\n",
            " While visiting the majestic Nahargarh Fort, one should rope in a visit to the fantastic Jaipur Wax Museum. Not unlike the renowned Madame Tussauds, this museum hosts respected and honoured faces from the fields of sports, arts, cinema, history and royalty. The wax and silicon statues seem almost life-like owing to the skill and intricacy with which they have been crafted. The statues have been sculpted by well-known sculptor Susanta Ray and are housed in the Royal Darbar and Hall of Icons sections of the Nahargarh Fort. A special section has been set apart for the royal people or the Maharajas and Maharanis of Jaipur and Rajasthan. A brief history and interesting tidbits from the lives of these people have also been recorded on a plaque beneath the statues to give visitors an interesting insight into the life of these remarkable people. To enter the museum, one has to wear a plastic covering on the shoes so as to not dirty the premises.\n",
            " Jhunjhunu is one of the oldest towns in the state of Rajasthan. It lies at a distance of about 186 km from Jaipur. What draws tourists here are the large vacant havelis with intricate frescos. These havelis, which are each a work of art, has earned the region of Shekhawati, under which Jhunjhunu is located, is the nomenclature of being the world's largest open-air art gallery. The most popular among these mansions are Kaniram Narsighdas Tibrewala haveli, Ishwardas Mohandas Modi haveli and Naruddin Farooqui haveli. These houses, once the residence of rich merchants, stand as a testimony to the former grandeur of Shekhawati. The well-preserved frescos, which may have been created in the 19th century, in brilliant colours depict snapshots of life from that era and also include images of Hindu gods and goddess. It is said that over the decades, as trade routes altered, the merchants migrated to other towns and cities, leaving their resplendant houses behind.\n",
            " The grand Salar Jung Museum is famous for housing one of the largest compilations of artefacts collected by one person. Boasting collections from ancient civilisations and modern times, it houses items that were painstakingly collected and curated by Mir Yousuf Ali Khan or Salar Jung III, the prime minister of the 7th Nizam of Hyderabad, who spent most of his income on this project, over a period of 35 years. The museum is home to collections dating from the 2nd century BC to the early 20th century AD, from different cultures such as Greek, Roman, Hindu, Jain, Buddhist, Christian and Islam. As many as 43,000 art objects and 50,000 manuscripts and books are housed here. It also showcases European fine arts, including a rare statue by 19th-century Italian sculptor Benzoni, South Indian bronzes and wood and stone sculptures and Indian miniature paintings. Other prominent exhibits include a fruit knife used by Nur Jahan, the wife of Mughal emperor Jehangir, and emperor Aurangzeb’s sword. \n",
            " Boasting the famous Chand Baori stepwell and Harsha Mata Temple, Abhaneri is one of the most prominent tourist destinations in Rajasthan. This small town lies about 45 km from the city of Jaipur. Chand Baori is an amazing display of engineering and gives a fascinating experience to the visitors. It was created with the purpose of harvesting rainwater and has a depth of 20 m with 13 levels. The Harsha Mata Temple is dedicated to Goddess Harshat Mata, who is goddess of joy. This temple was built in the 10th century.\n",
            " Situated 22 km away from Udaipur, the Ekling Temple is one of the most famous pilgrimage sites in the state of Rajasthan. Ekling is believed to be the ruling deity of the princely state of Mewar. Dedicated to Lord Shiva, the temple was built in 734 AD and has been repaired and modified numerous times. A four-faced idol of Lord Shiva made out of black marble rests in the temple. The idol is 50 foot tall and is flanked by idols of Goddess Parvati and her two sons, Lord Ganesha and Lord Kartikeya. The main temple has huge silver doors depicting the two sons guarding their father. One must visit the temple during the festival of Shivratri as a great celebration ensues during this time.\n",
            "\n"
          ]
        }
      ]
    },
    {
      "cell_type": "code",
      "source": [
        "weights_q2_feedback = rocchio_algorithm(0.75, 0.25, weights_q[1], q2_relevant_docs, q2_non_relevant_docs)\n",
        "ranking(weights_q2_feedback, Q2, 10)"
      ],
      "metadata": {
        "colab": {
          "base_uri": "https://localhost:8080/",
          "height": 0
        },
        "id": "LCI_r9TWJAaw",
        "outputId": "828cea6c-8dc8-4ad4-eaef-88f55203716b"
      },
      "execution_count": 30,
      "outputs": [
        {
          "output_type": "stream",
          "name": "stdout",
          "text": [
            "Massive hills located in Karnataka\n",
            "\n",
            "Document ranks (First 10) based on similarity (Cosine similarity):\n",
            " As per popular belief, Christianity came to India in 52 AD via Apostle Saint Thomas, a disciple of Jesus Christ. It is said that Thomas sailed from Eastern Asia to Kerala and showed many miracles to the people there, after which they accepted the faith. Today, the country is speckled with churches and prayer houses that invite devotees from far and wide. The state of Goa is the best place to tread on a spiritual trail. Probably the most famous church in Goa and one of the most revered by Christians globally, the Basilica of Bom Jesus in Old Goa is famed for housing the mortal remains of St Francis Xavier. This complex, along with some other churches of Old Goa, features on the UNESCO World Heritage list. Its exterior facade, built using black granite, is noted for Baroque architecture combined with Doric, Corinthian and composite influences.\n",
            " \n",
            "Another stopover is the Church of St Francis of Assisi that was established by eight Franciscan friars who arrived in Goa in 1517. Retaining the Portuguese-Manueline style portal of its older structure, which was built in 1665, the Church of St Francis of Assisi, offers a fascinating visual contrast between its simple exterior facade and its lavish Baroque interior. Featuring Corinthian influences, the interior is beautifully decorated. The main altar is the highlight, with a large statue of St Francis of Assisi above it, along with another of Jesus Christ. It is flanked on either side by paintings on wood depicting the life and times of its patron saint.\n",
            " \n",
            "Located in the state capital of Panaji, Our Lady of Immaculate Conception Church is believed to have been originally built as a chapel in 1541, to serve the religious requirements of the Portuguese sailors. The chapel eventually became a parish in 1600 and nine years later, it was replaced by a church. Its symmetrical zigzag stairway was constructed in the 18th century. The church is believed to have been modelled after the Bom Jesus de Braga in Portugal, with one middle and four side landings in perfect symmetry.\n",
            " \n",
            "A beautiful Roman catholic cathedral in pristine white, San Thomas Basilica, in Chennai, has a Portuguese origin, and dates back to the 16th century. It was rebuilt in Neo-Gothic style in 1896 and is said to be the final resting place of St Thomas, the Apostle. A small cross on the tomb wall contains a tiny bone fragment referred to as the ‘Relic of St Thomas’. An underground tomb chapel is worshipped here and the devout believe that sand from the tomb has miraculous healing powers. A beautiful stained glass window at the basilica portrays the story of St Thomas and the central hall has 14 wooden plaques that depict the stations of the cross.\n",
            " \n",
            "One of the eight magnificent Basilicas in India, Santa Cruz Basilica, in Kochi, Kerala, was constructed by the Portuguese in 1505. Boasting two lofty spires that can be seen from a distance, this pristine white structure has a contrasting vividly painted interior. The overwhelming arches and the altar add medieval touches to the church's architecture. Tourists would be especially awed by seven canvas paintings that have been inspired by the 'Last Supper' by Leonardo da Vinci. As you gaze at the mesmeric ceiling, beautifully adorned with paintings depicting scenes from the Via Crucis of Christ, you are left marvelling at the skill of the artisans of that time. Don't miss out the intricate wall carvings and stained glass windows that enhance the beauty of the church.\n",
            " \n",
            "One of the oldest churches built by Europeans in India, St Francis Church, in Kerala, is known for its beautiful design and ambience. Boasting a lofty structure with a gable roof framed with timber and covered with tiles, the church has two steeped pinnacles on either side of the facade. It was built by Portuguese Franciscans friars’ group in 1503. \n",
            " \n",
            "Taking pride of place in Dalhousie's (in Himachal Pradesh) Subhas Chowk is the beautiful St Francis Church. It is a stunning structure boasting exquisite interior stoneworks and multicoloured Belgian glass decorations, making it a favourite haunt of art and architecture lovers. The exterior is the perfect representation of Victorian-era architecture and the church looks picturesque framed against tall deodar trees. Even the interior walls are adorned with words and illustrations narrating the history of the establishment.\n",
            " \n",
            "Nestled amongst tall coniferous and pine trees is the St John in the Wilderness Church, in Chamba (in Himachal Pradesh), widely known for its architectural intricacies and Gothic style. The beautiful polished wood of the altar railings and the brass oil lamps along with intricate stained glass windows are particularly attractive and diminish the forbidding appearance of the stone building. A huge church bell near the entrance was brought specially from England in 1915. \n",
            " \n",
            "One of the oldest churches in Delhi, dating back to the 19th century, St James Church is a prominent site on the tourist circuit. Located amidst the bustling neighbourhood of Kashmiri Gate, the church has a serene and tranquil ambience that draws visitors from all over the area. It boasts a charming facade and has been built in a Renaissance Revival style on a cruciform plan. It boasts three exquisite porticoes entrances, an octagonal dome in the centre and delicate stained glass windows above the altar. Other notable features are a cross hanging on the top and a copper ball, both of which are believed to be inspired by the facets of a church in Venice.\n",
            " \n",
            "One of the most prominent stopovers of Kolkata, the Armenian Church is located at Armenian Street, near the Howrah Bridge. It is believed to be the oldest church in the city and was built in 1764. The architecture of the church is a visual treat and the interior is decorated with marble, while the overhead gallery is adorned with mural tablets. There is a cross at the altar of this church, with the Gospels and 12 candlesticks representing the Christ and the Apostles. Besides, you will find three oil paintings that represent the Holy Trinity. \n",
            " \n",
            "Cathedral Mary Help of Christians is the primary place of worship for Catholics in Shillong. It is one of the oldest churches in the archdiocese and in all of Northeast India. The church was built over 50 years ago and invites people of all cultures and creeds. With its high arches and stained glass windows, the church is said to be one of the most beautiful buildings in the city of Shillong.\n",
            "\n",
            " India boasts some of the finest mosques and dargahs in the world, chief of which is the Jama Masjid, in Delhi. Believed to be the largest mosque in India, it was built by Mughal emperor Shah Jahan in 1650. Besides its spiritual significance, it is noted for its architectural splendour. From its domes of similar heights to intricate carvings, the mosque is a visual treat.\n",
            " \n",
            "Another popular site, echoing with spiritual fervour is the Hazratbal Shrine, located on the banks of the Dal Lake in Jammu and Kashmir. It is said to house a hair of Prophet Mohammad and is thus among the most reverential sites in the Union Territory.\n",
            " \n",
            "Ajmer Sharif, in Rajasthan, is believed to be the site where no prayer goes unanswered. The resting place of Gharib Nawaz Hazrat Khwaja Moinuddin Chisti, it is said to be the biggest dargahs in South Asia.\n",
            " \n",
            "The majestic complex of Fatehpur Sikri, in Agra, houses the tomb of Hazrat Sheikh Salim Chishti, a great saint. Every Friday, hundreds of men and women gather at the dargah to offer prayers and the whole atmosphere reverberates with divinity.\n",
            " \n",
            "One of the more popular attractions of Mumbai, the Haji Ali complex houses the tomb of Muslim saint, Pir Haji Ali Shah Bukhari, and a mosque. An oft-repeated belief here is that whoever prays to saint Pir Haji Ali Shah Bukhari won't ever be disappointed. The monument is an oasis of peace and serenity, floating in the gentle blue waters of the sea, away from the chaos of the mainland. Live qawwali and sufi music performances take place on the premise on most afternoons. Thursdays and Fridays are special days at the dargah and there is a greater surge of devotees on these days. \n",
            " \n",
            "One of the most prominent spiritual sites in Delhi, Hazrat Nizamuddin Dargah is the shrine of Muslim sufi saint, Nizam-ud-din Auliya (1238 - 1325 AD). The dargah draws devotees from far and wide and they can be seen tying a red thread on the jaalis so their prayers can be answered. While performing the prayers, they also light incense sticks and shower rose petals. Offering a chadar (a large sheet of fabric) at the shrine is considered especially auspicious. \n",
            "\n",
            " Holding the Guinness World Records as the world's largest comprehensive Hindu temple, the Akshardham temple complex is a stunning piece of architecture. Sprawled over a vast area, the complex looks like a splendid heavenly city when viewed from above. The temple itself has been constructed in pink sandstone and marble and is laid amidst neatly manicured lawns, pristine waterfronts and open courtyards. It has been designed in the traditional Hindu style of architecture and follows vaastu shastra and pancharatra shastra. As you stroll along the breathtaking complex, you will spot intricate carvings of animals, flowers, dancers, musicians and deities that adorn the walls. It is said that the stone used in the construction of the temple was brought from Rajasthan and weighed about 6,000 tonne. The Italian Carrara marble used in the structure adds to the beauty of the grand temple.\n",
            " One of the holiest ghats of Haridwar, Har-ki-Pauri is visited by thousands of pilgrims every year. The ghat is the spot where the River Ganges, after winding its way through the mountains, touches the plains for the first time. Countless people bathe in the waters of the river to wash off all their sins, as per Hindu beliefs. There are several temples next to the ghat and one can always hear the soothing chant of mantras and temple bells. The main attraction is the evening Ganga arti (a fire ritual). One can see the ghat swarmed with priests carrying three-tiered lamps of fire, and devotees immersed in a spiritual fervour, while the sound of mantras and gongs reverberates through the surroundings. During the arti, the devotees float lamps in the river, creating a beautiful scene.\n",
            " While visiting the majestic Nahargarh Fort, one should rope in a visit to the fantastic Jaipur Wax Museum. Not unlike the renowned Madame Tussauds, this museum hosts respected and honoured faces from the fields of sports, arts, cinema, history and royalty. The wax and silicon statues seem almost life-like owing to the skill and intricacy with which they have been crafted. The statues have been sculpted by well-known sculptor Susanta Ray and are housed in the Royal Darbar and Hall of Icons sections of the Nahargarh Fort. A special section has been set apart for the royal people or the Maharajas and Maharanis of Jaipur and Rajasthan. A brief history and interesting tidbits from the lives of these people have also been recorded on a plaque beneath the statues to give visitors an interesting insight into the life of these remarkable people. To enter the museum, one has to wear a plastic covering on the shoes so as to not dirty the premises.\n",
            " One of the most prominent stopovers of Kolkata, Armenian Church is located at Armenian Street, near the Howrah Bridge. It is believed to be the oldest church in the city and was built in 1764. The architecture of the church is a visual treat and the interiors are decorated with marble, while the overhead gallery is adorned with mural tablets. There is a cross at the altar of this church, with the Gospels and 12 candlesticks representing the Christ and the Apostles. Besides, you will find three oil paintings that represent the Holy Trinity. Tourists can also find the remains of an Armenian cemetery in the church. This graveyard houses the city's oldest known grave of an Armenian woman, Rezabeebeh, who was buried in 1630. The compound also hosts a monument dedicated to Armenians who died during World War 1.\n",
            " Jainism is among the major religions in the country and its prominence is reflected in various temples spread across India. One of the most popular temples is Ranakpur, in Rajasthan. Called Chaumukha Mandir (four-faced temple), it is dedicated to Adinath, the first Jain tirthankar (saint). Made entirely out of white marble, the temple comprises 29 halls, 80 domes, 400 columns and 1,444 individually engraved pillars. The pillars themselves are a thing of utmost beauty, adorned with peach and beige hues. They display intricate carvings of elephants, flowers, and people. Interestingly, no two pillars are the same! \n",
            " \n",
            "The Dilwara temples, in Mount Abu, Rajasthan are another example of the beauty with which spirituality has been conserved and nourished. The temples are great examples of the intricate Jain architecture. The temples exude a sense of simplicity and frugality, so intrinsic to Jainism as a philosophy while also being intricate in its minute splendour. \n",
            " \n",
            "The Pareshnath Jain Temple, also known as Pareswanath Temple Digambar, is one of the holiest places of worship for the Digambaras, and one of the most beautiful temples in Kolkata. The temple is built in the Nagara style in which creativity plays a key role. Once they are done with their prayers, devotees can feed hundreds of fish in a special tank here or relax in the beautiful gardens. \n",
            " \n",
            "Palitana, in Gujarat, is famed for a large cluster of Jain temples. On your way to the Shatrunjaya Hill top from the base, you will come across as many as 836 beautiful temples. Reaching the top is not an easy task as it requires tourists to climb almost 4,000 steps over a 3.5 km long uphill climb. The site holds immense significance for the Jain community as it was here that the first Jain tirthankara (saint), Adinath, achieved enlightenment, making the Shatrunjay Hill a holy site for Jains. The temples have been built in the 11th, 12th centuries and 16th centuries. Interestingly, unlike other temples in the country, these were not built under the patronage of any dynasty or kings but are a result of the efforts of the wealthy businessmen who followed Jainism.\n",
            " \n",
            "A large cluster of white Jain temples, dating back to the 9th century, marks the landscape of Sonagiri. Located around 70 km from Gwalior, these temples, 77 of which stand on the Shatrunjaya Hill, can be seen from a distance. The main temple is dedicated to Lord Chandraprabhu, the eighth Jain tirthankar and houses an 11-ft-tall idol of the deity. With a stunning spire, it also has two beautiful idols of Lord Sheetalnath and Lord Parsvanath. There is a 43-ft-high column of dignity (Manstambh) near the temple. \n",
            " \n",
            "One begins to believe in the spiritual power of beauty and love when one visits these destinations standing through ages, providing spiritual succour and aesthetic inspirations to millions.\n",
            "\n",
            " Exuding a mystique and serene vibe, Athirappilly Waterfalls are the most famous falls in the state of Kerala. Located about 63 km from Thrissur and 70 km from Kochi, they are a popular picnic spot and lie near the Vazhachal Waterfalls, which are another delightful sight. Athirappilly Waterfalls are multi-tiered and hidden amidst a thick forest of the Western Ghats. Birdwatchers find this place appealing as there are a variety of migratory and endemic birds here. If you are lucky, you can also spot the hornbill. Visitors can also indulge in adventure sports like river rafting and trekking. About 5 km away, lie the Vazhachal Waterfalls. They are known for their breathtaking view and the rich endemic fauna that call it home. About four endangered species of the hornbill are believed to reside there.\n",
            " One of the more popular attractions of Mumbai, the Haji Ali complex houses the tomb of Muslim saint, Pir Haji Ali Shah Bukhari, and a mosque. Popular with photographers, this iconic monument can be seen from the shores of Mumbai and lies entirely on an island in the Arabian Sea, at a distance of about 500 yards from the mainland. According to legend, the saint was travelling to the holy city of Mecca, in present day Saudi Arabia, on a pilgrimage, when he passed away. His casket floated across the Arabian Sea and landed up along the coast of Mumbai, where a mosque was built around it. The structure has white domes and minarets reminiscent of Mughal architecture and is a renowned pilgrimage and tourist site popular with both Muslims and non-Muslims. Adjacent to the mosque is an 85-foot-tall marble minaret. Both the mosque and the minaret are made out of pure white solid marble with carvings and engravings, adorned with beautiful mirror work. An oft-repeated belief here is that whoever prays to saint Pir Haji Ali Shah Bukhari won't ever be disappointed. The monument is an oasis of peace and serenity, floating in the gentle blue waters of the sea, away from the chaos of the mainland. Live qawwali and sufi music performances take place on the premise on most afternoons. Thursdays and Fridays are special days at the dargah and there is a greater surge of devotees on these days. Those visiting here often offer prayers and ask for the fulfilment of their wishes and seek blessings from the saint in whose honour this site was constructed. On special religious occasions like Urs (death anniversary of the saint) and Eid (Islamic religious festival), this heritage monument is beautifully decorated and Islamic rituals are observed. \n",
            "\n",
            " One of the largest religions followed throughout the country, Hinduism is also among the oldest in the world. In fact, it is known as 'Sanatan Dharma' or the everlasting religion. With thousands of temples, ashrams and sacred sites like ghats, and elements of nature like rivers, trees and mountains, the prominence of Hinduism can be felt at every nook and corner. The land of Ayodhya where walked Lord Rama, or the streets of Gokul where frolicked the young Lord Krishna or the formidable Himalayas that are believed to be the abode of Lord Shiva, there's a hardly any part in the country that does not echo with the legends of gods and goddesses. \n",
            " \n",
            "Most Hindus believe that there are four major pilgrimages that every devotee should take in his/her lifetime to get free from the circle of life and death. These are called char dhams - Kedarnath, Badrinath, Yamunotri and Gangotri (in Uttarakhand), and most pilgrims take an arduous journey in the heart of the Himalayas to reach them. Other prominent spiritual stopovers in the country include Dwarka (Gujarat), Puri (Odisha), Rameswaram (Tamil Nadu). \n",
            " \n",
            "Rivers and streams are highly venerated in Hinduism, and several cities that are sprawled along their banks have been designated as holy. The seven holy cities in Hinduism are Varanasi, Haridwar, Ayodhya, Mathura, Dwarka, Kanchipuram and Ujjain.\n",
            " \n",
            "Varanasi or Benaras, nestled on the banks of the holy Ganges river is believed to be the oldest living inhabitation in the world. From the famous Ganga arti (a fire ritual) to cremation ceremonies, its ghats are the site of time-honoured rituals that are performed to this day.\n",
            " \n",
            "The city of Haridwar, lying in the foothills of the Himalayas, in Uttarakhand, is bustling with devotees, its air filled with the sweet smell of incense sticks and the clanging of temple bells. It sees thousands of people taking a dip in the holy waters of River Ganges, which emerges from the Himalayas here. Devotees, sadhus (saffron-clad men) and saints throng the river’s ghats (stepped banks), to take a dip in its sacred waters and, according to Hindu beliefs, wash away their sins. \n",
            " \n",
            "Revered as the birthplace of Lord Rama, Ayodhya, in Uttar Pradesh, is a popular pilgrimage site for Hindus. It is sprawled along the serene Saryu river and is dotted with temples, some of which are connected to the ghats.\n",
            " \n",
            "Poised on the banks of the holy River Yamuna, Mathura and Vrindavan (Uttar Pradesh), are revered as the land where Lord Krishna spent his childhood. A labyrinth of lanes lined by temples, ancient ghats and numerous stories of Lord Krishna, who is said to be born here, echoing throughout the streets, Mathura invites devotees from far and wide. The city is renowned for several temples dedicated to Lord Krishna, who is one of the most popular and loved incarnations of Lord Vishnu. \n",
            " \n",
            "Sitting on the Arabian Sea coastline, the city of Dwarka, in Gujarat, is a popular pilgrim site, revered as the abode of Lord Krishna. Perched on the tip of the Saurashtra peninsula, this ancient city is renowned for the Dwarkadhish Temple, standing by the scenic Gomti creek. \n",
            " \n",
            "Synonymous with spirituality and serenity, the temple town of Kanchipuram, in Tamil Nadu, is dotted with ancient temples that are architectural marvels and a visual treat for the eyes. Situated on the banks of River Vegavathi, this historical city once had a 1,000 temples, of which only 126 (108 Shaiva and 18 Vaishnava) now remain. \n",
            " \n",
            "Sprawled along River Kshipra, the ancient city of Ujjain, in Madhya Pradesh, is a cross of bustling lanes that weave through temple clusters, earning Ujjain the moniker, “the city of temples”. Ujjain is one of the venues for the largest spiritual congregation in the world, the Kumbh Mela, held every 12 years (the other three being Prayagraj, Nashik and Haridwar). The city is resplendent as a bride during Simhast Kumbh, which attracts millions of devotees from all over the world to take a dip in Kshipra river, with a belief that it would absolve them of their sins. \n",
            " \n",
            "In addition, many, in the Hindu religion, believe that long walks and doing circumambulations around rivers, temples, mountains, deities, is a form of paying obeisance to the divine. Be it the 250-km-long, 84-kos parikrama (circumambulation) that takes place in Vrindavan or the 2,600-km Narmada parikrama (Madhya Pradesh) that traces the expanse of the river, these are journeys of self-discovery, in which one learns to put their faith in the spiritual. \n",
            "\n",
            "\n"
          ]
        }
      ]
    }
  ]
}