{
  "nbformat": 4,
  "nbformat_minor": 0,
  "metadata": {
    "colab": {
      "provenance": [],
      "collapsed_sections": []
    },
    "kernelspec": {
      "name": "python3",
      "display_name": "Python 3"
    },
    "language_info": {
      "name": "python"
    }
  },
  "cells": [
    {
      "cell_type": "markdown",
      "source": [
        "# IT 458\n",
        "\n",
        "## Assignment 2\n",
        "\n",
        "### Name: Niraj Nandish\n",
        "\n",
        "### Roll no.: 191IT234\n"
      ],
      "metadata": {
        "id": "0beDNvHqQZ9a"
      }
    },
    {
      "cell_type": "markdown",
      "source": [
        "### Import the corpus and required libraries"
      ],
      "metadata": {
        "id": "8m6ZAIK2Gfg-"
      }
    },
    {
      "cell_type": "code",
      "execution_count": null,
      "metadata": {
        "colab": {
          "base_uri": "https://localhost:8080/"
        },
        "id": "heGtKB4pfh7m",
        "outputId": "a954616c-79bb-4afe-bb33-b58aa2f90dcf"
      },
      "outputs": [
        {
          "output_type": "stream",
          "name": "stderr",
          "text": [
            "[nltk_data] Downloading package stopwords to /root/nltk_data...\n",
            "[nltk_data]   Package stopwords is already up-to-date!\n",
            "[nltk_data] Downloading package punkt to /root/nltk_data...\n",
            "[nltk_data]   Package punkt is already up-to-date!\n"
          ]
        },
        {
          "output_type": "execute_result",
          "data": {
            "text/plain": [
              "True"
            ]
          },
          "metadata": {},
          "execution_count": 1
        }
      ],
      "source": [
        "import string\n",
        "import nltk\n",
        "import re\n",
        "\n",
        "nltk.download('stopwords')\n",
        "nltk.download('punkt')"
      ]
    },
    {
      "cell_type": "code",
      "source": [
        "urls = [\n",
        "\"https://www.incredibleindia.org/content/incredible-india-v2/en/destinations/delhi/india-gate.html\",\n",
        "\"https://www.incredibleindia.org/content/incredible-india-v2/en/destinations/delhi/raj-ghat.html\",\n",
        "\"https://www.incredibleindia.org/content/incredible-india-v2/en/destinations/delhi/chhatarpur-mandir.html\",\n",
        "\"https://www.incredibleindia.org/content/incredible-india-v2/en/destinations/delhi/bahai-lotus-temple.html\",\n",
        "\"https://www.incredibleindia.org/content/incredible-india-v2/en/destinations/delhi/connaught-place.html\",\n",
        "\"https://www.incredibleindia.org/content/incredible-india-v2/en/destinations/delhi/chandni-chowk.html\",\n",
        "\"https://www.incredibleindia.org/content/incredible-india-v2/en/destinations/delhi/akshardham.html\",\n",
        "\"https://www.incredibleindia.org/content/incredible-india-v2/en/destinations/delhi/garden-of-five-senses.html\",\n",
        "\"https://www.incredibleindia.org/content/incredible-india-v2/en/destinations/delhi/dilli-haat.html\",\n",
        "\"https://www.incredibleindia.org/content/incredible-india-v2/en/destinations/chennai/cholamandal-artistsa-village.html\",\n",
        "\"https://www.incredibleindia.org/content/incredible-india-v2/en/destinations/chennai/fort-st-george.html\",\n",
        "\"https://www.incredibleindia.org/content/incredible-india-v2/en/destinations/chennai/krishnamacharya-yoga-mandiram.html\",\n",
        "\"https://www.incredibleindia.org/content/incredible-india-v2/en/destinations/chennai/chettinad-cuisine.html\",\n",
        "\"https://www.incredibleindia.org/content/incredible-india-v2/en/destinations/chennai/kalakshetra.html\",\n",
        "\"https://www.incredibleindia.org/content/incredible-india-v2/en/destinations/chennai/filter-coffee.html\",\n",
        "\"https://www.incredibleindia.org/content/incredible-india-v2/en/destinations/chennai/tanjore-paintings.html\",\n",
        "\"https://www.incredibleindia.org/content/incredible-india-v2/en/destinations/chennai/kapaleeswarar-temple.html\",\n",
        "\"https://www.incredibleindia.org/content/incredible-india-v2/en/experiences/spiritual/buddhism.html\",\n",
        "\"https://www.incredibleindia.org/content/incredible-india-v2/en/experiences/spiritual/jainism.html\",\n",
        "\"https://www.incredibleindia.org/content/incredible-india-v2/en/experiences/spiritual/sikhism.html\",\n",
        "\"https://www.incredibleindia.org/content/incredible-india-v2/en/experiences/spiritual/christianity.html\",\n",
        "\"https://www.incredibleindia.org/content/incredible-india-v2/en/experiences/spiritual/islam.html\",\n",
        "\"https://www.incredibleindia.org/content/incredible-india-v2/en/experiences/spiritual/hinduism.html\",\n",
        "\"https://www.incredibleindia.org/content/incredible-india-v2/en/destinations/jaipur/ranthambore-national-park.html\",\n",
        "\"https://www.incredibleindia.org/content/incredible-india-v2/en/destinations/jaipur/mandawa-fort.html\",\n",
        "\"https://www.incredibleindia.org/content/incredible-india-v2/en/destinations/jaipur/amber-fort.html\",\n",
        "\"https://www.incredibleindia.org/content/incredible-india-v2/en/destinations/jaipur/govind-devji-temple.html\",\n",
        "\"https://www.incredibleindia.org/content/incredible-india-v2/en/destinations/jaipur/jantar-mantar.html\",\n",
        "\"https://www.incredibleindia.org/content/incredible-india-v2/en/destinations/jaipur/abhaneri.html\",\n",
        "\"https://www.incredibleindia.org/content/incredible-india-v2/en/destinations/jaipur/kanak-vrindavan.html\",\n",
        "\"https://www.incredibleindia.org/content/incredible-india-v2/en/destinations/jaipur/jaipur-wax-museum.html\",\n",
        "\"https://www.incredibleindia.org/content/incredible-india-v2/en/destinations/jaipur/samode-palace.html\",\n",
        "\"https://www.incredibleindia.org/content/incredible-india-v2/en/destinations/jaipur/jhunjhunu.html\",\n",
        "\"https://www.incredibleindia.org/content/incredible-india-v2/en/destinations/jaipur/jal-mahal.html\",\n",
        "\"https://www.incredibleindia.org/content/incredible-india-v2/en/destinations/jaipur/hawa-mahal.html\",\n",
        "\"https://www.incredibleindia.org/content/incredible-india-v2/en/destinations/mumbai/elephanta-caves.html\",\n",
        "\"https://www.incredibleindia.org/content/incredible-india-v2/en/destinations/mumbai/chhatrapati-shivaji-maharaj-terminus.html\",\n",
        "\"https://www.incredibleindia.org/content/incredible-india-v2/en/destinations/mumbai/global-vipasana-pagoda.html\",\n",
        "\"https://www.incredibleindia.org/content/incredible-india-v2/en/destinations/mumbai/deolali.html\",\n",
        "\"https://www.incredibleindia.org/content/incredible-india-v2/en/destinations/mumbai/bhandardara.html\",\n",
        "\"https://www.incredibleindia.org/content/incredible-india-v2/en/destinations/mumbai/ganeshpuri-temple.html\",\n",
        "\"https://www.incredibleindia.org/content/incredible-india-v2/en/destinations/mumbai/mahalaxmi-temple.html\",\n",
        "\"https://www.incredibleindia.org/content/incredible-india-v2/en/destinations/mumbai/haji-ali-mosque.html\",\n",
        "\"https://www.incredibleindia.org/content/incredible-india-v2/en/destinations/varanasi/sarnath.html\",\n",
        "\"https://www.incredibleindia.org/content/incredible-india-v2/en/destinations/varanasi/kaimoor-wildlife-sanctuary.html\",\n",
        "\"https://www.incredibleindia.org/content/incredible-india-v2/en/destinations/varanasi/ganga-ghats.html\",\n",
        "\"https://www.incredibleindia.org/content/incredible-india-v2/en/destinations/varanasi/dashashwamedh-ghats.html\",\n",
        "\"https://www.incredibleindia.org/content/incredible-india-v2/en/destinations/varanasi/vishwanath-khand.html\",\n",
        "\"https://www.incredibleindia.org/content/incredible-india-v2/en/destinations/varanasi/banaras-hindu-university.html\",\n",
        "\"https://www.incredibleindia.org/content/incredible-india-v2/en/destinations/varanasi/ramnagar-fort.html\",\n",
        "\"https://www.incredibleindia.org/content/incredible-india-v2/en/destinations/udaipur/ahar.html\",\n",
        "\"https://www.incredibleindia.org/content/incredible-india-v2/en/destinations/udaipur/city-palace.html\",\n",
        "\"https://www.incredibleindia.org/content/incredible-india-v2/en/destinations/udaipur/dungarpur.html\",\n",
        "\"https://www.incredibleindia.org/content/incredible-india-v2/en/destinations/udaipur/bagore-ki-haveli.html\",\n",
        "\"https://www.incredibleindia.org/content/incredible-india-v2/en/destinations/udaipur/charbhuja.html\",\n",
        "\"https://www.incredibleindia.org/content/incredible-india-v2/en/destinations/udaipur/fateh-sagar-lake.html\",\n",
        "\"https://www.incredibleindia.org/content/incredible-india-v2/en/destinations/udaipur/ekling-temple.html\",\n",
        "\"https://www.incredibleindia.org/content/incredible-india-v2/en/destinations/udaipur/haldighati.html\",\n",
        "\"https://www.incredibleindia.org/content/incredible-india-v2/en/destinations/haridwar/har-ki-pauri.html\",\n",
        "\"https://www.incredibleindia.org/content/incredible-india-v2/en/destinations/haridwar/patanjali-yogapeeth.html\",\n",
        "\"https://www.incredibleindia.org/content/incredible-india-v2/en/destinations/haridwar/daksh-mahadev-temple-and-sati-kund.html\",\n",
        "\"https://www.incredibleindia.org/content/incredible-india-v2/en/destinations/haridwar/mansa-devi-temple.html\",\n",
        "\"https://www.incredibleindia.org/content/incredible-india-v2/en/destinations/haridwar/kumbh-mela.html\",\n",
        "\"https://www.incredibleindia.org/content/incredible-india-v2/en/destinations/haridwar/chandi-devi-temple.html\",\n",
        "\"https://www.incredibleindia.org/content/incredible-india-v2/en/destinations/kolkata/dakshineswar-temple.html\",\n",
        "\"https://www.incredibleindia.org/content/incredible-india-v2/en/destinations/kolkata/vidyasagar-setu.html\",\n",
        "\"https://www.incredibleindia.org/content/incredible-india-v2/en/destinations/kolkata/academy-of-fine-arts.html\",\n",
        "\"https://www.incredibleindia.org/content/incredible-india-v2/en/destinations/kolkata/writers-building.html\",\n",
        "\"https://www.incredibleindia.org/content/incredible-india-v2/en/destinations/kolkata/victoria-memorial.html\",\n",
        "\"https://www.incredibleindia.org/content/incredible-india-v2/en/destinations/kolkata/alipore-zoological-garden.html\",\n",
        "\"https://www.incredibleindia.org/content/incredible-india-v2/en/destinations/kolkata/star-theatre.html\",\n",
        "\"https://www.incredibleindia.org/content/incredible-india-v2/en/destinations/kolkata/armenian-church.html\",\n",
        "\"https://www.incredibleindia.org/content/incredible-india-v2/en/destinations/kolkata/sovabazar-rajbari.html\",\n",
        "\"https://www.incredibleindia.org/content/incredible-india-v2/en/destinations/kolkata/race-course.html\",\n",
        "\"https://www.incredibleindia.org/content/incredible-india-v2/en/destinations/kolkata/bankura.html\",\n",
        "\"https://www.incredibleindia.org/content/incredible-india-v2/en/destinations/kolkata/belur-math.html\",\n",
        "\"https://www.incredibleindia.org/content/incredible-india-v2/en/destinations/bengaluru/vidhana-soudha.html\",\n",
        "\"https://www.incredibleindia.org/content/incredible-india-v2/en/destinations/bengaluru/bannerghatta-national-park.html\",\n",
        "\"https://www.incredibleindia.org/content/incredible-india-v2/en/destinations/bengaluru/belur.html\",\n",
        "\"https://www.incredibleindia.org/content/incredible-india-v2/en/destinations/bengaluru/bangalore-palace.html\",\n",
        "\"https://www.incredibleindia.org/content/incredible-india-v2/en/destinations/bengaluru/halebeedu--halebidu-.html\",\n",
        "\"https://www.incredibleindia.org/content/incredible-india-v2/en/destinations/bengaluru/br-hills.html\",\n",
        "\"https://www.incredibleindia.org/content/incredible-india-v2/en/destinations/bengaluru/cubbon-park.html\",\n",
        "\"https://www.incredibleindia.org/content/incredible-india-v2/en/destinations/bengaluru/hesaraghatta-lake.html\",\n",
        "\"https://www.incredibleindia.org/content/incredible-india-v2/en/destinations/bengaluru/bull-temple.html\",\n",
        "\"https://www.incredibleindia.org/content/incredible-india-v2/en/destinations/bengaluru/kolar-gold-fields.html\",\n",
        "\"https://www.incredibleindia.org/content/incredible-india-v2/en/destinations/hyderabad/chowmahalla-palace.html\",\n",
        "\"https://www.incredibleindia.org/content/incredible-india-v2/en/destinations/hyderabad/falaknuma-palace.html\",\n",
        "\"https://www.incredibleindia.org/content/incredible-india-v2/en/destinations/hyderabad/hussain-sagar-lake.html\",\n",
        "\"https://www.incredibleindia.org/content/incredible-india-v2/en/destinations/hyderabad/nagarjuna-sagar-dam.html\",\n",
        "\"https://www.incredibleindia.org/content/incredible-india-v2/en/destinations/hyderabad/charminar.html\",\n",
        "\"https://www.incredibleindia.org/content/incredible-india-v2/en/destinations/hyderabad/salar-jung-museum.html\",\n",
        "\"https://www.incredibleindia.org/content/incredible-india-v2/en/destinations/hyderabad/birla-mandir.html\",\n",
        "\"https://www.incredibleindia.org/content/incredible-india-v2/en/destinations/hyderabad/ananda-buddha-vihara.html\",\n",
        "\"https://www.incredibleindia.org/content/incredible-india-v2/en/destinations/hyderabad/chilkur-balaji-temple.html\",\n",
        "\"https://www.incredibleindia.org/content/incredible-india-v2/en/destinations/kochi/fort-kochi.html\",\n",
        "\"https://www.incredibleindia.org/content/incredible-india-v2/en/destinations/hyderabad/purani-haveli.html\",\n",
        "\"https://www.incredibleindia.org/content/incredible-india-v2/en/destinations/kochi/athirapally-waterfalls.html\",\n",
        "\"https://www.incredibleindia.org/content/incredible-india-v2/en/destinations/kochi/bishop-s-house.html\",\n",
        "\"https://www.incredibleindia.org/content/incredible-india-v2/en/destinations/kochi/chinese-fishing-nets.html\"\n",
        "]\n",
        "        \n",
        "docs_list = []"
      ],
      "metadata": {
        "id": "GouEPLPLfmvR"
      },
      "execution_count": null,
      "outputs": []
    },
    {
      "cell_type": "code",
      "source": [
        "import urllib.request\n",
        "from bs4 import BeautifulSoup\n",
        "\n",
        "for url in urls:\n",
        "    html = urllib.request.urlopen(url)\n",
        "    htmlParse = BeautifulSoup(html, 'html.parser')\n",
        "    para = htmlParse.find(\"div\", {\"class\": \"read-more-hide\"}).p.get_text()\n",
        "    docs_list.append(para)"
      ],
      "metadata": {
        "id": "qXTQe8zFfpuH"
      },
      "execution_count": null,
      "outputs": []
    },
    {
      "cell_type": "code",
      "source": [
        "import copy\n",
        "docs = copy.deepcopy(docs_list)\n",
        "docs_list[1]"
      ],
      "metadata": {
        "id": "65VO_imrtUAO",
        "colab": {
          "base_uri": "https://localhost:8080/"
        },
        "outputId": "c17fe2bc-5b3d-4738-ecea-993f57913d00"
      },
      "execution_count": null,
      "outputs": [
        {
          "output_type": "execute_result",
          "data": {
            "text/plain": [
              "'Built in the memory of Mohandas Karamchand Gandhi, who is revered as the Father of the Nation, Raj Ghat is a marble platform where he was cremated on January 31, 1948. Lying on the banks of the Yamuna river, Rajghat is fringed by lush well-manicured lawns that are dotted with trees. The mortal remains of Gandhiji were cremated at this ghat.'"
            ],
            "application/vnd.google.colaboratory.intrinsic+json": {
              "type": "string"
            }
          },
          "metadata": {},
          "execution_count": 4
        }
      ]
    },
    {
      "cell_type": "code",
      "source": [
        "from nltk.corpus import stopwords\n",
        "from nltk.stem.porter import PorterStemmer\n",
        "from nltk.tokenize import word_tokenize\n",
        "\n",
        "stemmer = PorterStemmer()\n",
        "\n",
        "def text_lowercase(text):\n",
        "    return text.lower()\n",
        "\n",
        "def remove_non_alpha(text):\n",
        "    res = \"\"\n",
        "    for elem in text:\n",
        "        if elem.isalnum() or elem == \" \":\n",
        "          res += elem\n",
        "    return res\n",
        "\n",
        "def remove_num(text):\n",
        "    res = re.sub(r'\\d+', '', text)\n",
        "    return res\n",
        "\n",
        "def remove_punc(text):\n",
        "    trans = str.maketrans('', '', string.punctuation)\n",
        "    return text.translate(trans)\n",
        "\n",
        "def remove_whitespace(text):\n",
        "    return  \" \".join(text.split())\n",
        "\n",
        "def remove_stopwords(text):\n",
        "    stop_words = set(stopwords.words(\"english\"))\n",
        "    word_tokens = word_tokenize(text)\n",
        "    filtered_text = [word for word in word_tokens if word not in stop_words]\n",
        "    return filtered_text\n",
        "\n",
        "def stem_words(text):\n",
        "    word_tokens = word_tokenize(text)\n",
        "    stems = [stemmer.stem(word) for word in word_tokens]\n",
        "    return stems"
      ],
      "metadata": {
        "id": "pwrzunnnfxKm"
      },
      "execution_count": null,
      "outputs": []
    },
    {
      "cell_type": "code",
      "source": [
        "def vocab_size():\n",
        "    uniqueWords = set()\n",
        "    for doc in docs:\n",
        "        for word in doc.split():\n",
        "            uniqueWords.add(word)\n",
        "    return len(uniqueWords)\n",
        "  "
      ],
      "metadata": {
        "id": "hmPGj44wf0ue"
      },
      "execution_count": null,
      "outputs": []
    },
    {
      "cell_type": "code",
      "source": [
        "print(\"Initial Vocabulary size: \" + str(vocab_size()))"
      ],
      "metadata": {
        "colab": {
          "base_uri": "https://localhost:8080/"
        },
        "id": "XyA92S4Cf4Vs",
        "outputId": "124d9b85-1af8-46c0-b243-292e28447e9a"
      },
      "execution_count": null,
      "outputs": [
        {
          "output_type": "stream",
          "name": "stdout",
          "text": [
            "Initial Vocabulary size: 5085\n"
          ]
        }
      ]
    },
    {
      "cell_type": "code",
      "source": [
        "for i in range(len(docs)):\n",
        "    docs[i] = text_lowercase(docs[i])\n",
        "\n",
        "print(\"After text lowercase prepocessing: \" + str(vocab_size()))"
      ],
      "metadata": {
        "colab": {
          "base_uri": "https://localhost:8080/"
        },
        "id": "hpsaqL62f6vH",
        "outputId": "e46419dc-5d4f-4891-f0f5-dd880e26682e"
      },
      "execution_count": null,
      "outputs": [
        {
          "output_type": "stream",
          "name": "stdout",
          "text": [
            "After text lowercase prepocessing: 4800\n"
          ]
        }
      ]
    },
    {
      "cell_type": "code",
      "source": [
        "for i in range(len(docs)):\n",
        "    docs[i] = remove_non_alpha(docs[i])\n",
        "\n",
        "print(\"After removing non-alphanumeric characters: \" + str(vocab_size()))"
      ],
      "metadata": {
        "colab": {
          "base_uri": "https://localhost:8080/"
        },
        "id": "oJgbXc9zf84b",
        "outputId": "427022cf-56e8-49c8-a3d1-d83d8e075a12"
      },
      "execution_count": null,
      "outputs": [
        {
          "output_type": "stream",
          "name": "stdout",
          "text": [
            "After removing non-alphanumeric characters: 4016\n"
          ]
        }
      ]
    },
    {
      "cell_type": "code",
      "source": [
        "for i in range(len(docs)):\n",
        "    docs[i] = remove_num(docs[i])\n",
        "\n",
        "print(\"After removing numbers: \" + str(vocab_size()))"
      ],
      "metadata": {
        "colab": {
          "base_uri": "https://localhost:8080/"
        },
        "id": "gvgp0E-Mf_aX",
        "outputId": "9ac1d6fe-c142-4c98-e75a-b7beef9d0a42"
      },
      "execution_count": null,
      "outputs": [
        {
          "output_type": "stream",
          "name": "stdout",
          "text": [
            "After removing numbers: 3842\n"
          ]
        }
      ]
    },
    {
      "cell_type": "code",
      "source": [
        "for i in range(len(docs)):\n",
        "    docs[i] = remove_punc(docs[i])\n",
        "\n",
        "print(\"After removing punctutaion marks: \" + str(vocab_size()))"
      ],
      "metadata": {
        "colab": {
          "base_uri": "https://localhost:8080/"
        },
        "id": "Ulw-n1yXgCAb",
        "outputId": "f98ea1f2-6cae-4ec3-83b9-3b165bb255d9"
      },
      "execution_count": null,
      "outputs": [
        {
          "output_type": "stream",
          "name": "stdout",
          "text": [
            "After removing punctutaion marks: 3842\n"
          ]
        }
      ]
    },
    {
      "cell_type": "code",
      "source": [
        "for i in range(len(docs)):\n",
        "    docs[i] = remove_whitespace(docs[i])\n",
        "\n",
        "print(\"After removing extra whitespace: \" + str(vocab_size()))"
      ],
      "metadata": {
        "colab": {
          "base_uri": "https://localhost:8080/"
        },
        "id": "UIqVy5esgFb5",
        "outputId": "53a04537-cae6-42ee-e92f-4e023af45997"
      },
      "execution_count": null,
      "outputs": [
        {
          "output_type": "stream",
          "name": "stdout",
          "text": [
            "After removing extra whitespace: 3842\n"
          ]
        }
      ]
    },
    {
      "cell_type": "code",
      "source": [
        "for i in range(len(docs)):\n",
        "    docs[i] = remove_stopwords(docs[i])\n",
        "\n",
        "vocab = set()\n",
        "for doc in docs:\n",
        "    for word in doc:\n",
        "        vocab.add(word) \n",
        "\n",
        "print(\"After removing stop words: \" + str(len(vocab)))"
      ],
      "metadata": {
        "colab": {
          "base_uri": "https://localhost:8080/"
        },
        "id": "eKJk0eDKgH6P",
        "outputId": "e92277d8-b64d-41af-840b-2c5a66717dcc"
      },
      "execution_count": null,
      "outputs": [
        {
          "output_type": "stream",
          "name": "stdout",
          "text": [
            "After removing stop words: 3735\n"
          ]
        }
      ]
    },
    {
      "cell_type": "code",
      "source": [
        "# Dictionary to store index for each word\n",
        "total_documents = len(docs)\n",
        "vocab = set(vocab)\n",
        "index_dict = {} \n",
        "\n",
        "i = 0\n",
        "for word in vocab:\n",
        "    index_dict[word] = i\n",
        "    i += 1"
      ],
      "metadata": {
        "id": "MuCYG6kGviuv"
      },
      "execution_count": null,
      "outputs": []
    },
    {
      "cell_type": "code",
      "source": [
        "# Create a count dictionary\n",
        "def count_dict(sentences):\n",
        "    word_count = {}\n",
        "    for word in vocab:\n",
        "        word_count[word] = 0\n",
        "        for sent in sentences:\n",
        "            if word in sent:\n",
        "                word_count[word] += 1\n",
        "    return word_count\n",
        " \n",
        "word_count = count_dict(docs)"
      ],
      "metadata": {
        "id": "8jlTRk05u0ps"
      },
      "execution_count": null,
      "outputs": []
    },
    {
      "cell_type": "code",
      "source": [
        "# Term Frequency\n",
        "def termfreq(document, word):\n",
        "    total_length = len(document)\n",
        "    occurance = len([token for token in document if token == word])\n",
        "    return occurance/total_length\n"
      ],
      "metadata": {
        "id": "W8BnMD73gJ-8"
      },
      "execution_count": null,
      "outputs": []
    },
    {
      "cell_type": "code",
      "source": [
        "import numpy as np\n",
        "\n",
        "def inverse_doc_freq(word):\n",
        "    try:\n",
        "        word_occurance = word_count[word] + 1\n",
        "    except:\n",
        "        word_occurance = 1\n",
        "    return np.log(total_documents/word_occurance)"
      ],
      "metadata": {
        "id": "mNBpYBX7tJtg"
      },
      "execution_count": null,
      "outputs": []
    },
    {
      "cell_type": "code",
      "source": [
        "def tf_idf(sentence):\n",
        "    tf_idf_vec = np.zeros((len(vocab),))\n",
        "    for word in sentence:\n",
        "        tf = termfreq(sentence,word)\n",
        "        idf = inverse_doc_freq(word)\n",
        "        value = tf*idf\n",
        "        tf_idf_vec[index_dict[word]] = value \n",
        "    return tf_idf_vec"
      ],
      "metadata": {
        "id": "lqUo76Rsr1FP"
      },
      "execution_count": null,
      "outputs": []
    },
    {
      "cell_type": "code",
      "source": [
        "query1 = \"India Gate in Delhi\"\n",
        "query2 = \"Temple in India\"\n",
        "query3 = \"Caves in Maharashtra\""
      ],
      "metadata": {
        "id": "G0-YstAo1YtP"
      },
      "execution_count": null,
      "outputs": []
    },
    {
      "cell_type": "code",
      "source": [
        "def doc_preprocess(query):\n",
        "    query = text_lowercase(query)\n",
        "    query = remove_non_alpha(query)\n",
        "    query = remove_num(query)\n",
        "    query = remove_punc(query)\n",
        "    query = remove_whitespace(query)\n",
        "    query = remove_stopwords(query)\n",
        "\n",
        "    return query"
      ],
      "metadata": {
        "id": "3Fnu2Ybhl0q0"
      },
      "execution_count": null,
      "outputs": []
    },
    {
      "cell_type": "markdown",
      "source": [
        "## Query 1 - India Gate in Delhi"
      ],
      "metadata": {
        "id": "Dr88_ZRbnPWc"
      }
    },
    {
      "cell_type": "code",
      "source": [
        "from sklearn.metrics.pairwise import cosine_similarity\n",
        "\n",
        "query1 = doc_preprocess(query1)\n",
        "res = []\n",
        "for doc in docs_list:\n",
        "    doc_pre = doc_preprocess(doc)\n",
        "    doc_vec = tf_idf(doc_pre)\n",
        "    query_vec = tf_idf(query1)\n",
        "\n",
        "    cos_sim = cosine_similarity(doc_vec.reshape(1,-1), query_vec.reshape(1,-1))\n",
        "    res.append([doc,cos_sim])"
      ],
      "metadata": {
        "id": "1PE-nb0c7FwA"
      },
      "execution_count": null,
      "outputs": []
    },
    {
      "cell_type": "code",
      "source": [
        "res = sorted(res, key=lambda x:x[1], reverse = True)"
      ],
      "metadata": {
        "id": "Ww1RLIsXruHV"
      },
      "execution_count": null,
      "outputs": []
    },
    {
      "cell_type": "code",
      "source": [
        "import pandas as pd\n",
        "res = pd.DataFrame(res)"
      ],
      "metadata": {
        "id": "FPSpo3pIseUW"
      },
      "execution_count": null,
      "outputs": []
    },
    {
      "cell_type": "code",
      "source": [
        "for i in range(5):\n",
        "    print(\"doc {}:\".format(i+1) + res[0][i])"
      ],
      "metadata": {
        "colab": {
          "base_uri": "https://localhost:8080/"
        },
        "id": "T3oLEx89smUM",
        "outputId": "744c6ff6-9939-431b-c0b4-01681a581c3b"
      },
      "execution_count": null,
      "outputs": [
        {
          "output_type": "stream",
          "name": "stdout",
          "text": [
            "doc 1:A stunning archway standing as a tribute to the brave soldiers who sacrificed their lives for the country, India Gate is one of the landmarks of Delhi. Built with sandstone, this 42-m-high gate was the first of its kind in the national capital. The walls of the gateway have been inscribed with the names of 13,516 soldiers killed in the Northwestern Frontier in the Afghan war of 1919, besides 90,000 soldiers of the Indian Army who were martyred in World War I. The base of the monument is made of red Bharatpur stones and the structure of India Gate is similar to France's Arc- de- Triomphe.\n",
            "doc 2:The heartbeat of Delhi, Connaught Place is a heritage neighbourhood that has been modeled after the Georgian style of architecture. Lined with a host of eateries, high-end stores, parlours, theatres and book stores, the market is the hub of most activities in Delhi. Spread in two concentric circles, Connaught Place holds a vintage character that is vividly contrasted by various cosmopolitan shops and cafes that are crowned with blaring neon signs. On any good day, you can see a number of students and office workers spilling out on the streets and enjoying the pleasant weather while relishing a plate of chaat from a vendor.\n",
            "doc 3:Preserving the antiquity of Old Delhi, Chandni Chowk is a bustling neighbourhood that is one of the oldest in the national capital. A vibrant bazaar that is buzzing with activity, Chandni Chowk is a labyrinth of narrow alleyways that are crammed with small shops, either selling delicious servings of snacks, sweets and savouries or offering budgeted deals on a host of products, including clothes. This medieval shopping site is stocked with almost everything under the sun, and you can get a fine selection of perfumes, jewellery, electronics, candles, lifestyle goods and idols of gods and goddesses. Moreover, it also plays host to one of the largest wholesale markets in Delhi, in which visitors can get huge discounts on several items.\n",
            "doc 4:Rising from the bank of Lake Pichola, the imposing City Palace is a grand icon of Udaipur's and Rajasthan's royal past. A must-visit destination for anyone who comes to Udaipur, City Palace is the largest palace in Rajasthan.\n",
            "\n",
            "With a facade that is 244 m long and 30.4 m high, the palace complex has 11 smaller palaces. Construction of the palace was started in 1599 by Maharana Udai Singh II, the city’s founder, and was extended by his successsors. Though today, it seems uniform, like the brainchild of one man. It includes two luxurious palace hotels, a school and the popular City Palace Museum. With ornate towers, cupolas, arched doorways and protruding balconies, the City Palace is an architectural marvel and represents an exquisite blend of Rajasthani, Mughal, European and oriental architecture styles.\n",
            "\n",
            "It has a maze of courtyards, pavilions, terraces, corridors, rooms and hanging gardens. Encircled by fortifications, this stately palace is built in granite and marble. The massive gates of the palace are known as ‘pols’ with Bara Pol being the main gate, which leads to the first courtyard. On passing Bara Pol, one comes across a triple arched gate, known as Tripolia. Between these two gates, one can see eight marble arches or 'toranas', where its is said kings used to weigh themselves with gold and silver. Next to Tripolia is an arena where elephant fights were staged. Across Tripolia, is the Elephant Gate or the Hathi Pol. In 1974, a large part of the City Palace was turned into a museum, known as the City palace Museum. You can still marvel at the royal family's horses at the stables next to the museum. Inside the museum, first comes Rai Angan, where it is said king Udai Singh met a sage who asked him to build the city.\n",
            "doc 5:India boasts some of the finest mosques and dargahs in the world, chief of which is the Jama Masjid, in Delhi. Believed to be the largest mosque in India, it was built by Mughal emperor Shah Jahan in 1650. Besides its spiritual significance, it is noted for its architectural splendour. From its domes of similar heights to intricate carvings, the mosque is a visual treat.\n",
            " \n",
            "Another popular site, echoing with spiritual fervour is the Hazratbal Shrine, located on the banks of the Dal Lake in Jammu and Kashmir. It is said to house a hair of Prophet Mohammad and is thus among the most reverential sites in the Union Territory.\n",
            " \n",
            "Ajmer Sharif, in Rajasthan, is believed to be the site where no prayer goes unanswered. The resting place of Gharib Nawaz Hazrat Khwaja Moinuddin Chisti, it is said to be the biggest dargahs in South Asia.\n",
            " \n",
            "The majestic complex of Fatehpur Sikri, in Agra, houses the tomb of Hazrat Sheikh Salim Chishti, a great saint. Every Friday, hundreds of men and women gather at the dargah to offer prayers and the whole atmosphere reverberates with divinity.\n",
            " \n",
            "One of the more popular attractions of Mumbai, the Haji Ali complex houses the tomb of Muslim saint, Pir Haji Ali Shah Bukhari, and a mosque. An oft-repeated belief here is that whoever prays to saint Pir Haji Ali Shah Bukhari won't ever be disappointed. The monument is an oasis of peace and serenity, floating in the gentle blue waters of the sea, away from the chaos of the mainland. Live qawwali and sufi music performances take place on the premise on most afternoons. Thursdays and Fridays are special days at the dargah and there is a greater surge of devotees on these days. \n",
            " \n",
            "One of the most prominent spiritual sites in Delhi, Hazrat Nizamuddin Dargah is the shrine of Muslim sufi saint, Nizam-ud-din Auliya (1238 - 1325 AD). The dargah draws devotees from far and wide and they can be seen tying a red thread on the jaalis so their prayers can be answered. While performing the prayers, they also light incense sticks and shower rose petals. Offering a chadar (a large sheet of fabric) at the shrine is considered especially auspicious. \n",
            "\n"
          ]
        }
      ]
    },
    {
      "cell_type": "markdown",
      "source": [
        "## Query 2 - Temple in India"
      ],
      "metadata": {
        "id": "qyKkQogfS-lk"
      }
    },
    {
      "cell_type": "code",
      "source": [
        "from sklearn.metrics.pairwise import cosine_similarity\n",
        "\n",
        "query2 = doc_preprocess(query2)\n",
        "res2 = []\n",
        "for doc in docs_list:\n",
        "    doc_pre = doc_preprocess(doc)\n",
        "    doc_vec = tf_idf(doc_pre)\n",
        "    query_vec = tf_idf(query2)\n",
        "\n",
        "    cos_sim = cosine_similarity(doc_vec.reshape(1,-1), query_vec.reshape(1,-1))\n",
        "    res2.append([doc,cos_sim])"
      ],
      "metadata": {
        "id": "kNsOesaNxbXG"
      },
      "execution_count": null,
      "outputs": []
    },
    {
      "cell_type": "code",
      "source": [
        "res2 = sorted(res2, key=lambda x:x[1], reverse = True)"
      ],
      "metadata": {
        "id": "RjqnTuQfxq61"
      },
      "execution_count": null,
      "outputs": []
    },
    {
      "cell_type": "code",
      "source": [
        "import pandas as pd\n",
        "res2 = pd.DataFrame(res2)"
      ],
      "metadata": {
        "id": "BiMPzfLxxgLP"
      },
      "execution_count": null,
      "outputs": []
    },
    {
      "cell_type": "code",
      "source": [
        "for i in range(5):\n",
        "    print(\"doc {}:\".format(i+1) + res2[0][i])"
      ],
      "metadata": {
        "colab": {
          "base_uri": "https://localhost:8080/"
        },
        "id": "8ikxfX85xjVd",
        "outputId": "9f01c11f-e81b-43f9-cf44-3697c444dc13"
      },
      "execution_count": null,
      "outputs": [
        {
          "output_type": "stream",
          "name": "stdout",
          "text": [
            "doc 1:The Chilkur Balaji Temple, located on the outskirts of Hyderabad, on the banks of the Osman Sagar Lake, is a popular site for the devotees of  Lord Balaji Venkateswara. It is believed that prayers offered after 11 pradakshanas (rounds) of the temple come true on the condition that once the prayer is fulfilled, devotees have to come back and do an added 108 pradakshanas (circumambulation). Devotees can be seen walking around the temple late into the night. The temple is also known as visa temple, as it is said that people attempting to obtain a visa to any country are never disappointed if they pray here. The temple has beautiful architecture and it is believed that it was built more than half a millennium ago. The main deity is Lord Balaji Venkateswara, who is accompanied by Sridevi and Bhoodevi.Legend has it that the temple was built by a devotee who couldn't visit the famous  Tirupati Temple due to his health condition. Moved by his devotion, the lord himself appeared to him and asked him to build his temple at this spot.\n",
            "\n",
            "doc 2:Dedicated to Goddess Katyayani, an incarnation of Goddess Durga, Chhatarpur Temple is said to be the second-largest temple complex in India, spread over an area of 60 acre. Constructed from marble, the temple boasts Dravidian and Nagara styles of architecture. It has 20 small and large temples in three complexes, along with a room that houses tables, chairs, a bed and a dressing table carved in silver. The sanctum sanctorum houses an idol of the goddess, who can be seen riding a lion and holding a sword in her hand. After paying obeisance at the sanctum sanctorum, devotees can also visit the temples of Lord Rama, Lord Shiva, Lord Ganesha and Lord Hanuman in the premises. Chhatarpur Temple was built in 1974 by Baba Sant Nagpal Ji. Thousands of devotees flock to the temple, particularly during the Navratri (a holy nine-day festival) season.\n",
            "doc 3:One of the most prominent shrines in the city, Dakshineswar Kali Temple is dedicated to Goddess Kali. Located on the banks of the Hooghly river, the temple sprawls over an area of 25 acre. The main temple is a nine-spired structure and is surrounded by a huge courtyard that has rooms along the boundary. On the riverfront, there are about 12 shrines dedicated to Lord Shiva, along with a temple of Lord Krishna and Goddess Radha and a shrine of Rani Rashmoni, who is believed to have constructed the temple. She was an ardent devotee of Goddess Kali. The temple is also known for its association with Ramakrishna, a mystic of the 19th century. Legend has it that the idols of the goddess and gods were established on the snana-yatra day, which is considered auspicious by the Hindus.\n",
            "doc 4:The Mahalaxmi Temple is an ancient shrine dedicated to Goddess Laxmi, Goddess Mahakali and Goddess Mahasaraswati, whose idols are adorned with resplendent jewellery, including nose rings, pearl necklaces and gold bangles. This beautiful temple overlooking the Arabian Sea at one end of Breach Candy, now known as Bhulabhai Desai Road, is in a trendy residential and shopping area. One of the oldest temples in the city, the Mahalaxmi Temple is renowned for its exquisite architecture and intricate designs. The main doorway leading to the temple complex is luxuriously ornamented attracting not only pilgrims but also avid photographers. The temple was built between the 16th and 17th centuries. Several stalls stationed outside the temple sell items used in the worship of the goddesses.\n",
            "\n",
            "doc 5:Situated 22 km away from Udaipur, the Ekling Temple is one of the most famous pilgrimage sites in the state of Rajasthan. Ekling is believed to be the ruling deity of the princely state of Mewar. Dedicated to Lord Shiva, the temple was built in 734 AD and has been repaired and modified numerous times. A four-faced idol of Lord Shiva made out of black marble rests in the temple. The idol is 50 foot tall and is flanked by idols of Goddess Parvati and her two sons, Lord Ganesha and Lord Kartikeya. The main temple has huge silver doors depicting the two sons guarding their father. One must visit the temple during the festival of Shivratri as a great celebration ensues during this time.\n"
          ]
        }
      ]
    },
    {
      "cell_type": "markdown",
      "source": [
        "## Query 3 - Caves in Maharashtra"
      ],
      "metadata": {
        "id": "XENxpgH_zVCW"
      }
    },
    {
      "cell_type": "code",
      "source": [
        "from sklearn.metrics.pairwise import cosine_similarity\n",
        "\n",
        "query3 = doc_preprocess(query3)\n",
        "res3 = []\n",
        "for doc in docs_list:\n",
        "    doc_pre = doc_preprocess(doc)\n",
        "    doc_vec = tf_idf(doc_pre)\n",
        "    query_vec = tf_idf(query3)\n",
        "  \n",
        "    cos_sim = cosine_similarity(doc_vec.reshape(1,-1), query_vec.reshape(1,-1))\n",
        "    res3.append([doc,cos_sim])"
      ],
      "metadata": {
        "id": "cVYOXWW9zYDW"
      },
      "execution_count": null,
      "outputs": []
    },
    {
      "cell_type": "code",
      "source": [
        "res3 = sorted(res3, key=lambda x:x[1], reverse = True)"
      ],
      "metadata": {
        "id": "xpXL3ivm0A3G"
      },
      "execution_count": null,
      "outputs": []
    },
    {
      "cell_type": "code",
      "source": [
        "import pandas as pd\n",
        "res3 = pd.DataFrame(res3)"
      ],
      "metadata": {
        "id": "zUwhB3vY0Bn2"
      },
      "execution_count": null,
      "outputs": []
    },
    {
      "cell_type": "code",
      "source": [
        "for i in range(5):\n",
        "  print(\"doc {}:\".format(i+1) + res3[0][i])"
      ],
      "metadata": {
        "colab": {
          "base_uri": "https://localhost:8080/"
        },
        "id": "K580K3-C0EFu",
        "outputId": "2a65dcd1-7f7c-48ce-f582-cc1d21ed0544"
      },
      "execution_count": null,
      "outputs": [
        {
          "output_type": "stream",
          "name": "stdout",
          "text": [
            "doc 1:One of the best things about Mumbai is the sea and the access it provides for quick day-time trips to nearby beaches and islands. Less than an hour's boat ride from the Gateway of India, in Colaba, lies the Elephanta Island colloquially known as Gharapuri or the Fortress City. The scenic island stretches across 10 to 15 sq km of land and has a dense foliage of mango, tamarind and palm trees. Perfect for a weekend excursion, this island provides good trekking as well as picnic opportunities. The island gets its name from a giant stone sculpture of an elephant that was discovered by the 16th century Portuguese explorers who came to this area. The island owes its global popularity to the fact that it is home to a network of ancient rock-cut caves known as the Elephanta caves that boast artistic wall carvings and sculptures, dedicated to Hindu and Buddhist gods. These caves were incorporated in the UNESCO list of World Heritage sites in the early 1980s. The walls of the caves, which are located on top of a hillock, are lined with rock art that experts say, dates as far back as the mid- 5th and 6th century. There are two main hills on the island – Gun Hill and Stupa Hill. The former gets its name from the two British-era canons perched on it and the latter because of the remains of a Buddhist stupa that was excavated here. The most intricately detailed and architecturally majestic cave, among the Elephanta network is situated on Gun Hill. The panels on these caves depict the lives and beliefs of the esoteric Pashupati sect of the Shaiva system. A 7-m-high sculpture called Sadashiva lies at the entrance of the cave. \n",
            "\n",
            "doc 2:Located about 16 km from Nashik and 262 km from Mumbai, the hill station of Deolali is a popular getaway. Also known as the Deolali Camp, which is one of the oldest military centres in the country,  it was set up the British in 1861. Deolali is nestled amidst the beautiful Sahyadri range, surrounded by lush gardens, spacious grounds and trees. There are many military establishments here, including, the Military psychiatric hospital, the School of Artillery of Indian Army and the residential Barnes School. For the spiritual traveller, Deolali hosts many temples like the Muktidham Temple, Pandava Caves and Khandoba Temple. Shoppers would also have a delightful time in this quaint hill town, as the markets are lined with stalls selling various souvenirs and knickknacks, and have a very lively ambience.\n",
            "\n",
            "doc 3:The word 'Sikh' translates into a disciple and the religion of Sikhism is based on the path of discipleship. This system of faith was established by Guru Nanak, a revered teacher of Sikhs.\n",
            " \n",
            "The most prominent of Sikh spiritual sites is Golden Temple or Sri Harmandir Sahib, in Amritsar, Punjab. The temple is a two-storeyed structure with its top half covered in almost 400 kg of pure gold leaf, which is what earned it its English moniker. The rest of the temple complex is built in white marble, inlaid with precious and semi-precious colourful stones. One must cover one’s head and remove his/her footwear before entering the Golden Temple, as a mark of respect. As one listens to the beautiful notes of gurbani (spiritual songs), the serene spirituality of the temple soothes the soul. One can also partake of the free meal that is offered here to around 20,000 people every day at the Guru Ka Langar (community meal), regardless of caste, creed or gender. The entire process is managed by volunteers and is one of the most humbling experiences you can have. \n",
            " \n",
            "Baba Atal Rai tower is situated to the south of the Golden Temple. At a height of 40 m, it is a nine-storey tower and one of the tallest buildings in Amritsar. The first floor of the tower houses several miniature works depicting scenes from Guru Nanak's life.\n",
            " \n",
            "Takht Sri Harmandir Sahib, also known as Patna Sahib, in Bihar, marks the birth site of Guru Gobind Singh, the last of the highly venerated 10 Sikh gurus. Situated in the bustling Harmandir Gali in Patna’s old quarters in the Chowk area, this sacred shrine is now known as one of the five takhts (Sikh seats of authority) of Sikhism. \n",
            " \n",
            "A quiet and serene spot amid the bustling marketplace, Gurudwara Bangla Sahib is possibly the most popular attraction of Connaught Place, in Delhi. You can spot it from a while away as its high golden dome glistens in the sun. As you enter the premises you will be enveloped in a sense of peace. After paying homage at the sanctum, where the holy book is kept, you can stroll along the tranquil pond in the Gurudwara. Other prominent features are a cooking area, a big art gallery and a school. A langar (holy food) is offered to devotees who come to visit. This food is prepared by Guru Sikhs who work here.\n",
            " \n",
            "Nanded, in Maharashtra, is the perfect example of spiritual and philosophical antiquity blending seamlessly with the progressive present. One feels the grace of Guru Gobind Singh, the tenth guru of the Sikhs, running through the very fabric of the city as it welcomes the sea of believers who flow into the town to experience it. It is no wonder that Guru Gobind Singh should have chosen this historic place for his last congregation, standing by the banks of River Godavari. Nanded is dotted with gurudwaras that invite devotees to experience the serene repose that the Sikh Guru himself felt. It is said that it was here that he passed on the guru-ship to Guru Granth Sahib in 1708, just before his death.\n",
            "\n",
            "doc 4:A stunning archway standing as a tribute to the brave soldiers who sacrificed their lives for the country, India Gate is one of the landmarks of Delhi. Built with sandstone, this 42-m-high gate was the first of its kind in the national capital. The walls of the gateway have been inscribed with the names of 13,516 soldiers killed in the Northwestern Frontier in the Afghan war of 1919, besides 90,000 soldiers of the Indian Army who were martyred in World War I. The base of the monument is made of red Bharatpur stones and the structure of India Gate is similar to France's Arc- de- Triomphe.\n",
            "doc 5:Built in the memory of Mohandas Karamchand Gandhi, who is revered as the Father of the Nation, Raj Ghat is a marble platform where he was cremated on January 31, 1948. Lying on the banks of the Yamuna river, Rajghat is fringed by lush well-manicured lawns that are dotted with trees. The mortal remains of Gandhiji were cremated at this ghat.\n"
          ]
        }
      ]
    },
    {
      "cell_type": "markdown",
      "source": [
        "##Variant 1"
      ],
      "metadata": {
        "id": "NiiJXTqUbXmj"
      }
    },
    {
      "cell_type": "code",
      "source": [
        "def termfreq(document, word):\n",
        "    N = len(document)\n",
        "    occurance = len([token for token in document if token == word])\n",
        "    return 1 + np.log(occurance/N)"
      ],
      "metadata": {
        "id": "ZvZ-aX-MQfSB"
      },
      "execution_count": null,
      "outputs": []
    },
    {
      "cell_type": "code",
      "source": [
        "import numpy as np\n",
        "\n",
        "def inverse_doc_freq(word):\n",
        "    try:\n",
        "        word_occurance = word_count[word] + 1\n",
        "    except:\n",
        "        word_occurance = 1\n",
        "    return np.log(1 + np.log(total_documents/word_occurance))"
      ],
      "metadata": {
        "id": "V1MEvPG1bUQI"
      },
      "execution_count": null,
      "outputs": []
    },
    {
      "cell_type": "markdown",
      "source": [
        "##Variant 2"
      ],
      "metadata": {
        "id": "qsUMf2xIbaGt"
      }
    },
    {
      "cell_type": "code",
      "source": [
        "def termfreq(document, word, K = 0.4):\n",
        "    N = len(document)\n",
        "    occurance = len([token for token in document if token == word])\n",
        "    return K + (1-K) * occurance/N\n"
      ],
      "metadata": {
        "id": "00g4UY9ucVhL"
      },
      "execution_count": null,
      "outputs": []
    },
    {
      "cell_type": "code",
      "source": [
        "import numpy as np\n",
        "\n",
        "def inverse_doc_freq(word):\n",
        "    try:\n",
        "        word_occurance = word_count[word] + 1\n",
        "    except:\n",
        "        word_occurance = 1\n",
        "    return np.log((total_documents- word_occurance)/word_occurance)"
      ],
      "metadata": {
        "id": "Lf4GwrFFcW9U"
      },
      "execution_count": null,
      "outputs": []
    }
  ]
}