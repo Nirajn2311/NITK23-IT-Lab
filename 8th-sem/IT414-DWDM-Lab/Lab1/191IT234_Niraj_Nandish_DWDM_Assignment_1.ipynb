{
  "cells": [
    {
      "cell_type": "markdown",
      "metadata": {
        "id": "O18FfjpDQ_0d"
      },
      "source": [
        "# IT 414\n",
        "## Assignment 1 - Apriori Algorithm\n",
        "\n",
        "### Name: Niraj Nandish\n",
        "### Roll no.: 191IT234"
      ]
    },
    {
      "cell_type": "code",
      "execution_count": null,
      "metadata": {
        "id": "4_q3Zmh3Q_0e"
      },
      "outputs": [],
      "source": [
        "from collections import defaultdict\n",
        "from itertools import chain, combinations\n",
        "import pandas as pd\n"
      ]
    },
    {
      "cell_type": "code",
      "execution_count": null,
      "metadata": {
        "id": "8lNZWrtRQ_0g"
      },
      "outputs": [],
      "source": [
        "def powerset(s):\n",
        "    return chain.from_iterable(combinations(s, r) for r in range(1, len(s)))\n",
        "\n",
        "\n",
        "def getAboveMinSup(itemSet, itemSetList, minSup, globalItemSetWithSup):\n",
        "    freqItemSet = set()\n",
        "    localItemSetWithSup = defaultdict(int)\n",
        "\n",
        "    for item in itemSet:\n",
        "        for itemSet in itemSetList:\n",
        "            if item.issubset(itemSet):\n",
        "                globalItemSetWithSup[item] += 1\n",
        "                localItemSetWithSup[item] += 1\n",
        "\n",
        "    for item, supCount in localItemSetWithSup.items():\n",
        "        support = float(supCount / len(itemSetList))\n",
        "        if (support >= minSup):\n",
        "            freqItemSet.add(item)\n",
        "\n",
        "    return freqItemSet\n",
        "\n",
        "\n",
        "def getUnion(itemSet, length):\n",
        "    return set([i.union(j) for i in itemSet for j in itemSet if len(i.union(j)) == length])\n",
        "\n",
        "\n",
        "def pruning(candidateSet, prevFreqSet, length):\n",
        "    tempCandidateSet = candidateSet.copy()\n",
        "    for item in candidateSet:\n",
        "        subsets = combinations(item, length)\n",
        "        for subset in subsets:\n",
        "            if (frozenset(subset) not in prevFreqSet):\n",
        "                tempCandidateSet.remove(item)\n",
        "                break\n",
        "    return tempCandidateSet\n",
        "\n",
        "\n",
        "def associationRule(freqItemSet, itemSetWithSup, minConf):\n",
        "    rules = []\n",
        "    for k, itemSet in freqItemSet.items():\n",
        "        for item in itemSet:\n",
        "            subsets = powerset(item)\n",
        "            for s in subsets:\n",
        "                confidence = float(\n",
        "                    itemSetWithSup[item] / itemSetWithSup[frozenset(s)])\n",
        "                if (confidence > minConf):\n",
        "                    rules.append([set(s), set(item.difference(s)), confidence])\n",
        "    return rules\n",
        "\n",
        "\n",
        "def getItemSetFromList(itemSetList):\n",
        "    tempItemSet = set()\n",
        "\n",
        "    for itemSet in itemSetList:\n",
        "        for item in itemSet:\n",
        "            tempItemSet.add(frozenset([item]))\n",
        "\n",
        "    return tempItemSet"
      ]
    },
    {
      "cell_type": "code",
      "source": [
        "def apriori(itemSetList, minSup, minConf):\n",
        "    C1ItemSet = getItemSetFromList(itemSetList)\n",
        "    globalFreqItemSet = {}\n",
        "    globalItemSetWithSup = defaultdict(int)\n",
        "\n",
        "    L1ItemSet = getAboveMinSup(C1ItemSet, itemSetList, minSup, globalItemSetWithSup)\n",
        "    currentLSet = L1ItemSet\n",
        "    print(1)\n",
        "    print(C1ItemSet)\n",
        "    print(currentLSet)\n",
        "    k = 2\n",
        "\n",
        "    while (currentLSet):\n",
        "        globalFreqItemSet[k-1] = currentLSet\n",
        "        candidateSet = getUnion(currentLSet, k)\n",
        "        candidateSet = pruning(candidateSet, currentLSet, k-1)\n",
        "        currentLSet = getAboveMinSup(candidateSet, itemSetList, minSup, globalItemSetWithSup)\n",
        "        print(k)\n",
        "        print(candidateSet)\n",
        "        print(currentLSet)\n",
        "        k += 1\n",
        "\n",
        "    rules = associationRule(globalFreqItemSet, globalItemSetWithSup, minConf)\n",
        "    rules.sort(key=lambda x: x[2])\n",
        "\n",
        "    return globalFreqItemSet, rules\n"
      ],
      "metadata": {
        "id": "BT1EUJ_jThj2"
      },
      "execution_count": null,
      "outputs": []
    },
    {
      "cell_type": "markdown",
      "source": [
        "## Q1\n",
        "### Support count = 2\n",
        "### Minimum confidence threshold = 70%"
      ],
      "metadata": {
        "id": "xJ99tzZzKSOW"
      }
    },
    {
      "cell_type": "code",
      "source": [
        "data = [\n",
        "    ['I1', 'I2', 'I5'],\n",
        "    ['I2', 'I4'],\n",
        "    ['I2', 'I3'],\n",
        "    ['I1', 'I2', 'I4'],\n",
        "    ['I1', 'I3'],\n",
        "    ['I2', 'I3'],\n",
        "    ['I1', 'I3'],\n",
        "    ['I1', 'I2', 'I3', 'I5'],\n",
        "    ['I1', 'I2', 'I3']\n",
        "]\n",
        "\n",
        "MIN_SUP = 2\n",
        "MIN_CONF = 0.7\n",
        "\n",
        "apriori(data, MIN_SUP/len(data), MIN_CONF)"
      ],
      "metadata": {
        "colab": {
          "base_uri": "https://localhost:8080/"
        },
        "id": "pI7zxmClr9nl",
        "outputId": "e66ed4bd-6f97-47bf-def0-a29dfc661cab"
      },
      "execution_count": null,
      "outputs": [
        {
          "output_type": "stream",
          "name": "stdout",
          "text": [
            "1\n",
            "{frozenset({'I4'}), frozenset({'I5'}), frozenset({'I1'}), frozenset({'I2'}), frozenset({'I3'})}\n",
            "{frozenset({'I5'}), frozenset({'I4'}), frozenset({'I1'}), frozenset({'I2'}), frozenset({'I3'})}\n",
            "2\n",
            "{frozenset({'I2', 'I3'}), frozenset({'I5', 'I3'}), frozenset({'I3', 'I4'}), frozenset({'I1', 'I3'}), frozenset({'I1', 'I2'}), frozenset({'I1', 'I5'}), frozenset({'I5', 'I4'}), frozenset({'I5', 'I2'}), frozenset({'I2', 'I4'}), frozenset({'I1', 'I4'})}\n",
            "{frozenset({'I2', 'I3'}), frozenset({'I1', 'I3'}), frozenset({'I1', 'I2'}), frozenset({'I5', 'I2'}), frozenset({'I2', 'I4'}), frozenset({'I1', 'I5'})}\n",
            "3\n",
            "{frozenset({'I1', 'I5', 'I2'}), frozenset({'I1', 'I2', 'I3'})}\n",
            "{frozenset({'I1', 'I5', 'I2'}), frozenset({'I1', 'I2', 'I3'})}\n",
            "4\n",
            "set()\n",
            "set()\n"
          ]
        },
        {
          "output_type": "execute_result",
          "data": {
            "text/plain": [
              "({1: {frozenset({'I5'}),\n",
              "   frozenset({'I4'}),\n",
              "   frozenset({'I1'}),\n",
              "   frozenset({'I2'}),\n",
              "   frozenset({'I3'})},\n",
              "  2: {frozenset({'I2', 'I3'}),\n",
              "   frozenset({'I1', 'I3'}),\n",
              "   frozenset({'I1', 'I2'}),\n",
              "   frozenset({'I2', 'I5'}),\n",
              "   frozenset({'I2', 'I4'}),\n",
              "   frozenset({'I1', 'I5'})},\n",
              "  3: {frozenset({'I1', 'I2', 'I5'}), frozenset({'I1', 'I2', 'I3'})}},\n",
              " [[{'I5'}, {'I2'}, 1.0],\n",
              "  [{'I4'}, {'I2'}, 1.0],\n",
              "  [{'I5'}, {'I1'}, 1.0],\n",
              "  [{'I5'}, {'I1', 'I2'}, 1.0],\n",
              "  [{'I1', 'I5'}, {'I2'}, 1.0],\n",
              "  [{'I2', 'I5'}, {'I1'}, 1.0]])"
            ]
          },
          "metadata": {},
          "execution_count": 14
        }
      ]
    },
    {
      "cell_type": "markdown",
      "source": [
        "## Q2\n",
        "### Minimum support threshold: 60%\n",
        "### Minimum confidence threshold: 80%"
      ],
      "metadata": {
        "id": "9qSQz4wJKRsv"
      }
    },
    {
      "cell_type": "code",
      "source": [
        "data = [\n",
        "    ['M', 'O', 'N', 'K', 'E', 'Y'],\n",
        "    ['D', 'O', 'N', 'K', 'E', 'Y'],\n",
        "    ['M', 'A', 'K', 'E'],\n",
        "    ['M', 'U', 'C', 'K', 'Y'],\n",
        "    ['C', 'O', 'O', 'K', 'I', 'E']\n",
        "]\n",
        "\n",
        "MIN_SUP = 0.6\n",
        "MIN_CONF = 0.8\n",
        "\n",
        "apriori(data, MIN_SUP, MIN_CONF)"
      ],
      "metadata": {
        "colab": {
          "base_uri": "https://localhost:8080/"
        },
        "id": "jRLmyd0lTm4d",
        "outputId": "6e9eaf84-04cf-43bf-aadb-1a0f5e078d86"
      },
      "execution_count": null,
      "outputs": [
        {
          "output_type": "execute_result",
          "data": {
            "text/plain": [
              "({1: {frozenset({'E'}),\n",
              "   frozenset({'K'}),\n",
              "   frozenset({'Y'}),\n",
              "   frozenset({'M'}),\n",
              "   frozenset({'O'})},\n",
              "  2: {frozenset({'K', 'O'}),\n",
              "   frozenset({'E', 'K'}),\n",
              "   frozenset({'E', 'O'}),\n",
              "   frozenset({'K', 'M'}),\n",
              "   frozenset({'K', 'Y'})},\n",
              "  3: {frozenset({'E', 'K', 'O'})}},\n",
              " [[{'O'}, {'K'}, 1.0],\n",
              "  [{'E'}, {'K'}, 1.0],\n",
              "  [{'O'}, {'E'}, 1.0],\n",
              "  [{'M'}, {'K'}, 1.0],\n",
              "  [{'Y'}, {'K'}, 1.0],\n",
              "  [{'O'}, {'E', 'K'}, 1.0],\n",
              "  [{'E', 'O'}, {'K'}, 1.0],\n",
              "  [{'K', 'O'}, {'E'}, 1.0]])"
            ]
          },
          "metadata": {},
          "execution_count": 5
        }
      ]
    },
    {
      "cell_type": "markdown",
      "source": [
        "## Q3\n",
        "### Minimum support threshold: 60%\n",
        "### Minimum confidence threshold: 80%"
      ],
      "metadata": {
        "id": "MqpMMoEkKP14"
      }
    },
    {
      "cell_type": "code",
      "source": [
        "df = pd.read_csv('SPECTF_test.csv')\n",
        "df = df.iloc[:20, :5]\n",
        "df"
      ],
      "metadata": {
        "colab": {
          "base_uri": "https://localhost:8080/",
          "height": 677
        },
        "id": "3sEw61G75NKT",
        "outputId": "7e36bfd8-463c-40d8-8a75-cefa9fb0dcc6"
      },
      "execution_count": null,
      "outputs": [
        {
          "output_type": "execute_result",
          "data": {
            "text/plain": [
              "    Attr_1  Attr_2  Attr_3  Attr_4  Attr_5\n",
              "0       32      41      76      34      65\n",
              "1       76      65      60      40      32\n",
              "2       60      51      75      60      65\n",
              "3       64      60      71      69      71\n",
              "4       65      69      66      76      58\n",
              "5       71      76      74      79      71\n",
              "6       55      66      58      75      71\n",
              "7       76      77      69      70      64\n",
              "8       70      72      65      64      71\n",
              "9       64      72      70      74      63\n",
              "10      76      59      82      76      80\n",
              "11      54      53      73      68      77\n",
              "12      68      59      77      69      77\n",
              "13      64      63      62      59      60\n",
              "14      40      73      61      74      61\n",
              "15      70      72      70      70      65\n",
              "16      66      64      64      66      67\n",
              "17      68      70      69      74      65\n",
              "18      64      58      70      78      66\n",
              "19      58      63      80      71      76"
            ],
            "text/html": [
              "\n",
              "  <div id=\"df-909f72d2-bb52-4cdc-aff9-0406c2adde20\">\n",
              "    <div class=\"colab-df-container\">\n",
              "      <div>\n",
              "<style scoped>\n",
              "    .dataframe tbody tr th:only-of-type {\n",
              "        vertical-align: middle;\n",
              "    }\n",
              "\n",
              "    .dataframe tbody tr th {\n",
              "        vertical-align: top;\n",
              "    }\n",
              "\n",
              "    .dataframe thead th {\n",
              "        text-align: right;\n",
              "    }\n",
              "</style>\n",
              "<table border=\"1\" class=\"dataframe\">\n",
              "  <thead>\n",
              "    <tr style=\"text-align: right;\">\n",
              "      <th></th>\n",
              "      <th>Attr_1</th>\n",
              "      <th>Attr_2</th>\n",
              "      <th>Attr_3</th>\n",
              "      <th>Attr_4</th>\n",
              "      <th>Attr_5</th>\n",
              "    </tr>\n",
              "  </thead>\n",
              "  <tbody>\n",
              "    <tr>\n",
              "      <th>0</th>\n",
              "      <td>32</td>\n",
              "      <td>41</td>\n",
              "      <td>76</td>\n",
              "      <td>34</td>\n",
              "      <td>65</td>\n",
              "    </tr>\n",
              "    <tr>\n",
              "      <th>1</th>\n",
              "      <td>76</td>\n",
              "      <td>65</td>\n",
              "      <td>60</td>\n",
              "      <td>40</td>\n",
              "      <td>32</td>\n",
              "    </tr>\n",
              "    <tr>\n",
              "      <th>2</th>\n",
              "      <td>60</td>\n",
              "      <td>51</td>\n",
              "      <td>75</td>\n",
              "      <td>60</td>\n",
              "      <td>65</td>\n",
              "    </tr>\n",
              "    <tr>\n",
              "      <th>3</th>\n",
              "      <td>64</td>\n",
              "      <td>60</td>\n",
              "      <td>71</td>\n",
              "      <td>69</td>\n",
              "      <td>71</td>\n",
              "    </tr>\n",
              "    <tr>\n",
              "      <th>4</th>\n",
              "      <td>65</td>\n",
              "      <td>69</td>\n",
              "      <td>66</td>\n",
              "      <td>76</td>\n",
              "      <td>58</td>\n",
              "    </tr>\n",
              "    <tr>\n",
              "      <th>5</th>\n",
              "      <td>71</td>\n",
              "      <td>76</td>\n",
              "      <td>74</td>\n",
              "      <td>79</td>\n",
              "      <td>71</td>\n",
              "    </tr>\n",
              "    <tr>\n",
              "      <th>6</th>\n",
              "      <td>55</td>\n",
              "      <td>66</td>\n",
              "      <td>58</td>\n",
              "      <td>75</td>\n",
              "      <td>71</td>\n",
              "    </tr>\n",
              "    <tr>\n",
              "      <th>7</th>\n",
              "      <td>76</td>\n",
              "      <td>77</td>\n",
              "      <td>69</td>\n",
              "      <td>70</td>\n",
              "      <td>64</td>\n",
              "    </tr>\n",
              "    <tr>\n",
              "      <th>8</th>\n",
              "      <td>70</td>\n",
              "      <td>72</td>\n",
              "      <td>65</td>\n",
              "      <td>64</td>\n",
              "      <td>71</td>\n",
              "    </tr>\n",
              "    <tr>\n",
              "      <th>9</th>\n",
              "      <td>64</td>\n",
              "      <td>72</td>\n",
              "      <td>70</td>\n",
              "      <td>74</td>\n",
              "      <td>63</td>\n",
              "    </tr>\n",
              "    <tr>\n",
              "      <th>10</th>\n",
              "      <td>76</td>\n",
              "      <td>59</td>\n",
              "      <td>82</td>\n",
              "      <td>76</td>\n",
              "      <td>80</td>\n",
              "    </tr>\n",
              "    <tr>\n",
              "      <th>11</th>\n",
              "      <td>54</td>\n",
              "      <td>53</td>\n",
              "      <td>73</td>\n",
              "      <td>68</td>\n",
              "      <td>77</td>\n",
              "    </tr>\n",
              "    <tr>\n",
              "      <th>12</th>\n",
              "      <td>68</td>\n",
              "      <td>59</td>\n",
              "      <td>77</td>\n",
              "      <td>69</td>\n",
              "      <td>77</td>\n",
              "    </tr>\n",
              "    <tr>\n",
              "      <th>13</th>\n",
              "      <td>64</td>\n",
              "      <td>63</td>\n",
              "      <td>62</td>\n",
              "      <td>59</td>\n",
              "      <td>60</td>\n",
              "    </tr>\n",
              "    <tr>\n",
              "      <th>14</th>\n",
              "      <td>40</td>\n",
              "      <td>73</td>\n",
              "      <td>61</td>\n",
              "      <td>74</td>\n",
              "      <td>61</td>\n",
              "    </tr>\n",
              "    <tr>\n",
              "      <th>15</th>\n",
              "      <td>70</td>\n",
              "      <td>72</td>\n",
              "      <td>70</td>\n",
              "      <td>70</td>\n",
              "      <td>65</td>\n",
              "    </tr>\n",
              "    <tr>\n",
              "      <th>16</th>\n",
              "      <td>66</td>\n",
              "      <td>64</td>\n",
              "      <td>64</td>\n",
              "      <td>66</td>\n",
              "      <td>67</td>\n",
              "    </tr>\n",
              "    <tr>\n",
              "      <th>17</th>\n",
              "      <td>68</td>\n",
              "      <td>70</td>\n",
              "      <td>69</td>\n",
              "      <td>74</td>\n",
              "      <td>65</td>\n",
              "    </tr>\n",
              "    <tr>\n",
              "      <th>18</th>\n",
              "      <td>64</td>\n",
              "      <td>58</td>\n",
              "      <td>70</td>\n",
              "      <td>78</td>\n",
              "      <td>66</td>\n",
              "    </tr>\n",
              "    <tr>\n",
              "      <th>19</th>\n",
              "      <td>58</td>\n",
              "      <td>63</td>\n",
              "      <td>80</td>\n",
              "      <td>71</td>\n",
              "      <td>76</td>\n",
              "    </tr>\n",
              "  </tbody>\n",
              "</table>\n",
              "</div>\n",
              "      <button class=\"colab-df-convert\" onclick=\"convertToInteractive('df-909f72d2-bb52-4cdc-aff9-0406c2adde20')\"\n",
              "              title=\"Convert this dataframe to an interactive table.\"\n",
              "              style=\"display:none;\">\n",
              "        \n",
              "  <svg xmlns=\"http://www.w3.org/2000/svg\" height=\"24px\"viewBox=\"0 0 24 24\"\n",
              "       width=\"24px\">\n",
              "    <path d=\"M0 0h24v24H0V0z\" fill=\"none\"/>\n",
              "    <path d=\"M18.56 5.44l.94 2.06.94-2.06 2.06-.94-2.06-.94-.94-2.06-.94 2.06-2.06.94zm-11 1L8.5 8.5l.94-2.06 2.06-.94-2.06-.94L8.5 2.5l-.94 2.06-2.06.94zm10 10l.94 2.06.94-2.06 2.06-.94-2.06-.94-.94-2.06-.94 2.06-2.06.94z\"/><path d=\"M17.41 7.96l-1.37-1.37c-.4-.4-.92-.59-1.43-.59-.52 0-1.04.2-1.43.59L10.3 9.45l-7.72 7.72c-.78.78-.78 2.05 0 2.83L4 21.41c.39.39.9.59 1.41.59.51 0 1.02-.2 1.41-.59l7.78-7.78 2.81-2.81c.8-.78.8-2.07 0-2.86zM5.41 20L4 18.59l7.72-7.72 1.47 1.35L5.41 20z\"/>\n",
              "  </svg>\n",
              "      </button>\n",
              "      \n",
              "  <style>\n",
              "    .colab-df-container {\n",
              "      display:flex;\n",
              "      flex-wrap:wrap;\n",
              "      gap: 12px;\n",
              "    }\n",
              "\n",
              "    .colab-df-convert {\n",
              "      background-color: #E8F0FE;\n",
              "      border: none;\n",
              "      border-radius: 50%;\n",
              "      cursor: pointer;\n",
              "      display: none;\n",
              "      fill: #1967D2;\n",
              "      height: 32px;\n",
              "      padding: 0 0 0 0;\n",
              "      width: 32px;\n",
              "    }\n",
              "\n",
              "    .colab-df-convert:hover {\n",
              "      background-color: #E2EBFA;\n",
              "      box-shadow: 0px 1px 2px rgba(60, 64, 67, 0.3), 0px 1px 3px 1px rgba(60, 64, 67, 0.15);\n",
              "      fill: #174EA6;\n",
              "    }\n",
              "\n",
              "    [theme=dark] .colab-df-convert {\n",
              "      background-color: #3B4455;\n",
              "      fill: #D2E3FC;\n",
              "    }\n",
              "\n",
              "    [theme=dark] .colab-df-convert:hover {\n",
              "      background-color: #434B5C;\n",
              "      box-shadow: 0px 1px 3px 1px rgba(0, 0, 0, 0.15);\n",
              "      filter: drop-shadow(0px 1px 2px rgba(0, 0, 0, 0.3));\n",
              "      fill: #FFFFFF;\n",
              "    }\n",
              "  </style>\n",
              "\n",
              "      <script>\n",
              "        const buttonEl =\n",
              "          document.querySelector('#df-909f72d2-bb52-4cdc-aff9-0406c2adde20 button.colab-df-convert');\n",
              "        buttonEl.style.display =\n",
              "          google.colab.kernel.accessAllowed ? 'block' : 'none';\n",
              "\n",
              "        async function convertToInteractive(key) {\n",
              "          const element = document.querySelector('#df-909f72d2-bb52-4cdc-aff9-0406c2adde20');\n",
              "          const dataTable =\n",
              "            await google.colab.kernel.invokeFunction('convertToInteractive',\n",
              "                                                     [key], {});\n",
              "          if (!dataTable) return;\n",
              "\n",
              "          const docLinkHtml = 'Like what you see? Visit the ' +\n",
              "            '<a target=\"_blank\" href=https://colab.research.google.com/notebooks/data_table.ipynb>data table notebook</a>'\n",
              "            + ' to learn more about interactive tables.';\n",
              "          element.innerHTML = '';\n",
              "          dataTable['output_type'] = 'display_data';\n",
              "          await google.colab.output.renderOutput(dataTable, element);\n",
              "          const docLink = document.createElement('div');\n",
              "          docLink.innerHTML = docLinkHtml;\n",
              "          element.appendChild(docLink);\n",
              "        }\n",
              "      </script>\n",
              "    </div>\n",
              "  </div>\n",
              "  "
            ]
          },
          "metadata": {},
          "execution_count": 6
        }
      ]
    },
    {
      "cell_type": "code",
      "source": [
        "apriori(df.values.tolist(), MIN_SUP, MIN_CONF)"
      ],
      "metadata": {
        "colab": {
          "base_uri": "https://localhost:8080/"
        },
        "id": "9tJKv39Z5dgk",
        "outputId": "ca2090c2-e76d-439e-f32a-17df30d367f3"
      },
      "execution_count": null,
      "outputs": [
        {
          "output_type": "execute_result",
          "data": {
            "text/plain": [
              "({}, [])"
            ]
          },
          "metadata": {},
          "execution_count": 7
        }
      ]
    },
    {
      "cell_type": "code",
      "source": [
        "itemSetCount = {}\n",
        "for x in df.values.tolist():\n",
        "    for y in x:\n",
        "        itemSetCount[y] = itemSetCount.get(y, 0) + 1\n",
        "\n",
        "print(\"Min Count required:\", MIN_SUP*len(df.values.tolist()))\n",
        "itemSetCount"
      ],
      "metadata": {
        "colab": {
          "base_uri": "https://localhost:8080/"
        },
        "id": "nIsTFWnK6OdC",
        "outputId": "faac72a8-3dfc-44c1-908a-dd1a04931617"
      },
      "execution_count": null,
      "outputs": [
        {
          "output_type": "stream",
          "name": "stdout",
          "text": [
            "Min Count required: 12.0\n"
          ]
        },
        {
          "output_type": "execute_result",
          "data": {
            "text/plain": [
              "{32: 2,\n",
              " 41: 1,\n",
              " 76: 8,\n",
              " 34: 1,\n",
              " 65: 7,\n",
              " 60: 5,\n",
              " 40: 2,\n",
              " 51: 1,\n",
              " 75: 2,\n",
              " 64: 8,\n",
              " 71: 7,\n",
              " 69: 5,\n",
              " 66: 5,\n",
              " 58: 4,\n",
              " 74: 4,\n",
              " 79: 1,\n",
              " 55: 1,\n",
              " 77: 4,\n",
              " 70: 8,\n",
              " 72: 3,\n",
              " 63: 3,\n",
              " 59: 3,\n",
              " 82: 1,\n",
              " 80: 2,\n",
              " 54: 1,\n",
              " 53: 1,\n",
              " 73: 2,\n",
              " 68: 3,\n",
              " 62: 1,\n",
              " 61: 2,\n",
              " 67: 1,\n",
              " 78: 1}"
            ]
          },
          "metadata": {},
          "execution_count": 8
        }
      ]
    }
  ],
  "metadata": {
    "kernelspec": {
      "display_name": "venv",
      "language": "python",
      "name": "python3"
    },
    "language_info": {
      "codemirror_mode": {
        "name": "ipython",
        "version": 3
      },
      "file_extension": ".py",
      "mimetype": "text/x-python",
      "name": "python",
      "nbconvert_exporter": "python",
      "pygments_lexer": "ipython3",
      "version": "3.10.9 (main, Dec 15 2022, 17:11:09) [Clang 14.0.0 (clang-1400.0.29.202)]"
    },
    "vscode": {
      "interpreter": {
        "hash": "8b59797ffda5b6fe0884299a9dd7e800289dda32deafeae6bce035d6cfa2a6a0"
      }
    },
    "colab": {
      "provenance": []
    }
  },
  "nbformat": 4,
  "nbformat_minor": 0
}